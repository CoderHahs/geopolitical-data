{
 "cells": [
  {
   "cell_type": "code",
   "execution_count": 33,
   "metadata": {},
   "outputs": [],
   "source": [
    "import pandas as pd\n",
    "import numpy as np\n",
    "import time as t\n",
    "from sklearn.model_selection import train_test_split\n",
    "from sklearn.tree import DecisionTreeClassifier\n",
    "from sklearn.ensemble import GradientBoostingClassifier\n",
    "from sklearn.ensemble import RandomForestClassifier\n",
    "from sklearn.metrics import precision_recall_fscore_support\n",
    "from sklearn.metrics import accuracy_score\n",
    "from sklearn.metrics import precision_score\n",
    "from sklearn.metrics import recall_score"
   ]
  },
  {
   "cell_type": "code",
   "execution_count": 2,
   "metadata": {},
   "outputs": [],
   "source": [
    "df = pd.read_csv('final_training_data.csv')"
   ]
  },
  {
   "cell_type": "markdown",
   "metadata": {},
   "source": [
    "Before we get started with classification, we need to classify HDI. Our current HDI is in continuous form (i.e. HDI for Albania is 0.791). We will create 10 classes for HDI, that will cover 0-.1, .1-0.2, 0.2-0.3 and so on."
   ]
  },
  {
   "cell_type": "code",
   "execution_count": 8,
   "metadata": {},
   "outputs": [],
   "source": [
    "hdi_classified = []\n",
    "\n",
    "for hdi in df['hdi']:\n",
    "    v = -1\n",
    "    if hdi < 0.1:\n",
    "        v = 0\n",
    "    elif hdi < 0.2:\n",
    "        v = 1\n",
    "    elif hdi < 0.3:\n",
    "        v = 2\n",
    "    elif hdi < 0.4:\n",
    "        v = 3\n",
    "    elif hdi < 0.5:\n",
    "        v = 4\n",
    "    elif hdi < 0.6:\n",
    "        v = 5\n",
    "    elif hdi < 0.7:\n",
    "        v = 6\n",
    "    elif hdi < 0.8:\n",
    "        v = 7\n",
    "    elif hdi < 0.9:\n",
    "        v = 8\n",
    "    elif hdi <= 1:\n",
    "        v = 9\n",
    "    hdi_classified.append(v)\n",
    "\n",
    "df['HDI Classified'] = hdi_classified"
   ]
  },
  {
   "cell_type": "code",
   "execution_count": 35,
   "metadata": {},
   "outputs": [],
   "source": [
    "classifiers = [DecisionTreeClassifier(), GradientBoostingClassifier(), RandomForestClassifier()]"
   ]
  },
  {
   "cell_type": "markdown",
   "metadata": {},
   "source": [
    "# Classification (Supervised Learning)"
   ]
  },
  {
   "cell_type": "markdown",
   "metadata": {},
   "source": [
    "## Decision Tree"
   ]
  },
  {
   "cell_type": "code",
   "execution_count": 36,
   "metadata": {},
   "outputs": [
    {
     "name": "stdout",
     "output_type": "stream",
     "text": [
      "Accuracy:  0.7049180327868853\n",
      "Precision:  0.5812925170068027\n",
      "Recall:  0.6031865377730039\n",
      "Time to train:  0.00995182991027832\n"
     ]
    },
    {
     "name": "stderr",
     "output_type": "stream",
     "text": [
      "C:\\Users\\hrith\\AppData\\Roaming\\Python\\Python38\\site-packages\\sklearn\\metrics\\_classification.py:1248: UndefinedMetricWarning: Precision is ill-defined and being set to 0.0 in labels with no predicted samples. Use `zero_division` parameter to control this behavior.\n",
      "  _warn_prf(average, modifier, msg_start, len(result))\n"
     ]
    }
   ],
   "source": [
    "X = df.iloc[:, 1:-2] #independent columns\n",
    "y = df[['HDI Classified']]\n",
    "X_train, X_test, y_train, y_test = train_test_split(X, y, test_size=.33, random_state=1110)\n",
    "clf = classifiers[0]\n",
    "start = t.time()\n",
    "clf.fit(X_train, y_train.values.ravel())\n",
    "stop = t.time()\n",
    "y_pred = clf.predict(X_test)\n",
    "\n",
    "print(\"Accuracy: \", accuracy_score(y_test, y_pred))\n",
    "print(\"Precision: \", precision_score(y_test, y_pred, average=\"macro\"))\n",
    "print(\"Recall: \", recall_score(y_test, y_pred, average=\"macro\"))\n",
    "print(\"Time to train: \", stop-start)"
   ]
  },
  {
   "cell_type": "markdown",
   "metadata": {},
   "source": [
    "## Gradient Boosting"
   ]
  },
  {
   "cell_type": "code",
   "execution_count": 38,
   "metadata": {
    "scrolled": true
   },
   "outputs": [
    {
     "name": "stdout",
     "output_type": "stream",
     "text": [
      "Accuracy:  0.7049180327868853\n",
      "Precision:  0.5863095238095237\n",
      "Recall:  0.6031865377730039\n",
      "Time to train:  0.7360053062438965\n"
     ]
    },
    {
     "name": "stderr",
     "output_type": "stream",
     "text": [
      "C:\\Users\\hrith\\AppData\\Roaming\\Python\\Python38\\site-packages\\sklearn\\metrics\\_classification.py:1248: UndefinedMetricWarning: Precision is ill-defined and being set to 0.0 in labels with no predicted samples. Use `zero_division` parameter to control this behavior.\n",
      "  _warn_prf(average, modifier, msg_start, len(result))\n"
     ]
    }
   ],
   "source": [
    "clf = classifiers[1]\n",
    "start = t.time()\n",
    "clf.fit(X_train, y_train.values.ravel())\n",
    "stop = t.time()\n",
    "y_pred = clf.predict(X_test)\n",
    "\n",
    "print(\"Accuracy: \", accuracy_score(y_test, y_pred))\n",
    "print(\"Precision: \", precision_score(y_test, y_pred, average=\"macro\"))\n",
    "print(\"Recall: \", recall_score(y_test, y_pred, average=\"macro\"))\n",
    "print(\"Time to train: \", stop-start)"
   ]
  },
  {
   "cell_type": "markdown",
   "metadata": {},
   "source": [
    "## Random Forest"
   ]
  },
  {
   "cell_type": "code",
   "execution_count": 39,
   "metadata": {},
   "outputs": [
    {
     "name": "stdout",
     "output_type": "stream",
     "text": [
      "Accuracy:  0.7377049180327869\n",
      "Precision:  0.6467120181405897\n",
      "Recall:  0.5999283924095954\n",
      "Time to train:  0.17653203010559082\n"
     ]
    },
    {
     "name": "stderr",
     "output_type": "stream",
     "text": [
      "C:\\Users\\hrith\\AppData\\Roaming\\Python\\Python38\\site-packages\\sklearn\\metrics\\_classification.py:1248: UndefinedMetricWarning: Precision is ill-defined and being set to 0.0 in labels with no predicted samples. Use `zero_division` parameter to control this behavior.\n",
      "  _warn_prf(average, modifier, msg_start, len(result))\n"
     ]
    }
   ],
   "source": [
    "clf = classifiers[2]\n",
    "start = t.time()\n",
    "clf.fit(X_train, y_train.values.ravel())\n",
    "stop = t.time()\n",
    "y_pred = clf.predict(X_test)\n",
    "\n",
    "print(\"Accuracy: \", accuracy_score(y_test, y_pred))\n",
    "print(\"Precision: \", precision_score(y_test, y_pred, average=\"macro\"))\n",
    "print(\"Recall: \", recall_score(y_test, y_pred, average=\"macro\"))\n",
    "print(\"Time to train: \", stop-start)"
   ]
  }
 ],
 "metadata": {
  "kernelspec": {
   "display_name": "Python 3",
   "language": "python",
   "name": "python3"
  },
  "language_info": {
   "codemirror_mode": {
    "name": "ipython",
    "version": 3
   },
   "file_extension": ".py",
   "mimetype": "text/x-python",
   "name": "python",
   "nbconvert_exporter": "python",
   "pygments_lexer": "ipython3",
   "version": "3.8.4"
  }
 },
 "nbformat": 4,
 "nbformat_minor": 4
}
