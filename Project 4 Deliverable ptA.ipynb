{
 "cells": [
  {
   "cell_type": "code",
   "execution_count": 285,
   "metadata": {},
   "outputs": [],
   "source": [
    "import pandas as pd\n",
    "import numpy as np\n",
    "from sklearn.ensemble import ExtraTreesClassifier\n",
    "from sklearn.ensemble import ExtraTreesRegressor\n",
    "from sklearn.preprocessing import OneHotEncoder\n",
    "from sklearn import preprocessing\n",
    "import matplotlib.pyplot as plt\n",
    "import plotly.express as px\n",
    "\n",
    "from collections import defaultdict\n",
    "pd.options.plotting.backend = \"plotly\""
   ]
  },
  {
   "cell_type": "markdown",
   "metadata": {},
   "source": [
    "#  Data summarization, data preprocessing and feature selections \n",
    "\n",
    "Let's format the Health Bank data so that the grain is all indicators for a specific country in 2020. We will also include the HDI index (https://worldpopulationreview.com/country-rankings/hdi-by-country) and this will be the label we want to predict."
   ]
  },
  {
   "cell_type": "code",
   "execution_count": 6,
   "metadata": {},
   "outputs": [],
   "source": [
    "hnp = pd.read_csv('./extracted/hnp_stats_csv/HNP_StatsData.csv')\n",
    "hnpc = pd.read_csv('./extracted/hnp_stats_csv/HNP_StatsCountry.csv')\n",
    "hdi = pd.read_csv('./extracted/hdi_country.csv')\n",
    "\n",
    "hnpc_keep = hnpc[['Country Code', 'Table Name', 'Long Name', 'Region', 'Currency Unit', 'Income Group', 'System of trade', 'Government Accounting concept', 'Lending category']]\n",
    "\n",
    "data = []\n",
    "for country in hnp['Country Name'].unique():\n",
    "    row = []\n",
    "    row.append(country)\n",
    "    for indicator in hnp['Indicator Name'].unique():\n",
    "        indicator_value =  hnp[(hnp['Country Name'] == country) & (hnp['Indicator Name'] == indicator)]['2020'].values[0]\n",
    "        row.append(indicator_value)\n",
    "    data.append(row)\n",
    "    \n",
    "columns = ['Country Name', 'Country Code'] + hnp['Indicator Name'].unique().tolist()\n",
    "df = pd.DataFrame(data, columns=columns)"
   ]
  },
  {
   "cell_type": "code",
   "execution_count": 127,
   "metadata": {},
   "outputs": [],
   "source": [
    "country_col = []\n",
    "\n",
    "missing = ['Bahamas',\n",
    " 'Brunei',\n",
    " 'DR Congo',\n",
    " 'Egypt',\n",
    " 'Gambia',\n",
    " 'Hong Kong',\n",
    " 'Iran',\n",
    " 'Ivory Coast',\n",
    " 'Kyrgyzstan',\n",
    " 'Laos',\n",
    " 'Micronesia',\n",
    " 'Palestine',\n",
    " 'Republic of the Congo',\n",
    " 'Russia',\n",
    " 'Saint Kitts and Nevis',\n",
    " 'Saint Lucia',\n",
    " 'Saint Vincent and the Grenadines',\n",
    " 'Slovakia',\n",
    " 'South Korea',\n",
    " 'Syria',\n",
    " 'Venezuela',\n",
    " 'Yemen']\n",
    "\n",
    "for c in df['Country Name'].unique():\n",
    "    \n",
    "    if c in hdi['country'].unique():\n",
    "        country_col.append(c)\n",
    "    else:\n",
    "        if ('Bahamas' in c):\n",
    "            country_col.append('Bahamas')\n",
    "        elif ('Brunei' in c):\n",
    "            country_col.append('Brunei')\n",
    "        elif ('Congo, Dem' in c):\n",
    "            country_col.append('DR Congo')\n",
    "        elif ('Egypt' in c):\n",
    "            country_col.append('Egypt')\n",
    "        elif 'Gambia' in c:\n",
    "            country_col.append('Gambia')\n",
    "        elif 'Hong Kong' in c:\n",
    "            country_col.append('Hong Kong')\n",
    "        elif 'Iran' in c:\n",
    "            country_col.append('Iran')\n",
    "        elif 'Cote d' in c:\n",
    "            country_col.append('Ivory Coast')\n",
    "        elif 'Kyrgy' in c:\n",
    "            country_col.append('Kyrgyzstan')\n",
    "        elif 'Lao' in c:\n",
    "            country_col.append('Laos')\n",
    "        elif 'Micronesia' in c:\n",
    "            country_col.append('Micronesia')\n",
    "        elif 'Palestine' in c:\n",
    "            country_col.append('Palestine')\n",
    "        elif ('Congo, Rep' in c):\n",
    "            country_col.append('Republic of the Congo')\n",
    "        elif 'Russian' in c:\n",
    "            country_col.append('Russia')\n",
    "        elif 'St. Kitts' in c:\n",
    "            country_col.append('Saint Kitts and Nevis')\n",
    "        elif 'St. Lucia' in c:\n",
    "            country_col.append('Saint Lucia')\n",
    "        elif 'St. Vincent' in c:\n",
    "            country_col.append('Saint Vincent and the Grenadines')\n",
    "        elif 'Slovak' in c:\n",
    "            country_col.append('Slovakia')\n",
    "        elif 'Korea, Rep' in c:\n",
    "            country_col.append('South Korea')\n",
    "        elif 'Syrian' in c:\n",
    "            country_col.append('Syria')\n",
    "        elif 'Venezuela' in c:\n",
    "            country_col.append('Venezuela')\n",
    "        elif 'Yemen' in c:\n",
    "            country_col.append('Yemen')\n",
    "        else:\n",
    "            country_col.append(np.nan)\n",
    "            \n",
    "df['Country Merge'] = country_col\n",
    "df = df.merge(hdi, left_on='Country Merge', right_on='country')\n",
    "df = df.drop(['Country Merge', 'country', 'pop2022'], axis=1)\n",
    "df = df.merge(hnpc_keep, left_on='Country Name', right_on='Table Name')\n",
    "df = df.drop(['Country Code', 'Table Name', 'Long Name', 'Region', 'Currency Unit'], axis = 1)"
   ]
  },
  {
   "cell_type": "code",
   "execution_count": 272,
   "metadata": {},
   "outputs": [],
   "source": [
    "df = pd.read_csv('training_data.csv').loc[:, 'Country Name':]"
   ]
  },
  {
   "cell_type": "markdown",
   "metadata": {},
   "source": [
    "## Data summarization\n",
    "\n",
    "We'll look at:\n",
    "1. Missing data for each attribute\n",
    "2. Attribute with float vs. string types (how many columns that will need to be formatted)\n",
    "3. The importance of each attribute to the HDI"
   ]
  },
  {
   "cell_type": "markdown",
   "metadata": {},
   "source": [
    "#### Number of missing rows for each attribute\n",
    "\n",
    "Below, we can see that out of the 463 attributes, about half of them are missing most of their data. Therefore, as a barrier to eliminate attributes, we'll keep attributes with less than 20% missing values."
   ]
  },
  {
   "cell_type": "code",
   "execution_count": 273,
   "metadata": {},
   "outputs": [
    {
     "data": {
      "application/vnd.plotly.v1+json": {
       "config": {
        "plotlyServerURL": "https://plot.ly"
       },
       "data": [
        {
         "alignmentgroup": "True",
         "hovertemplate": "variable=0<br>index=%{x}<br>value=%{y}<extra></extra>",
         "legendgroup": "0",
         "marker": {
          "color": "#636efa",
          "pattern": {
           "shape": ""
          }
         },
         "name": "0",
         "offsetgroup": "0",
         "orientation": "v",
         "showlegend": true,
         "textposition": "auto",
         "type": "bar",
         "x": [
          "Country Name",
          "Adolescent fertility rate (births per 1,000 women ages 15-19)",
          "Adults (ages 15+) and children (0-14 years) living with HIV",
          "Adults (ages 15+) and children (ages 0-14) newly infected with HIV",
          "Adults (ages 15+) living with HIV",
          "Adults (ages 15-49) newly infected with HIV",
          "Age at first marriage, female",
          "Age at first marriage, male",
          "Age dependency ratio (% of working-age population)",
          "Age dependency ratio, old",
          "Age dependency ratio, young",
          "Age population, age 00, female, interpolated",
          "Age population, age 00, male, interpolated",
          "Age population, age 01, female, interpolated",
          "Age population, age 01, male, interpolated",
          "Age population, age 02, female, interpolated",
          "Age population, age 02, male, interpolated",
          "Age population, age 03, female, interpolated",
          "Age population, age 03, male, interpolated",
          "Age population, age 04, female, interpolated",
          "Age population, age 04, male, interpolated",
          "Age population, age 05, female, interpolated",
          "Age population, age 05, male, interpolated",
          "Age population, age 06, female, interpolated",
          "Age population, age 06, male, interpolated",
          "Age population, age 07, female, interpolated",
          "Age population, age 07, male, interpolated",
          "Age population, age 08, female, interpolated",
          "Age population, age 08, male, interpolated",
          "Age population, age 09, female, interpolated",
          "Age population, age 09, male, interpolated",
          "Age population, age 10, female, interpolated",
          "Age population, age 10, male, interpolated",
          "Age population, age 11, female, interpolated",
          "Age population, age 11, male, interpolated",
          "Age population, age 12, female, interpolated",
          "Age population, age 12, male, interpolated",
          "Age population, age 13, female, interpolated",
          "Age population, age 13, male, interpolated",
          "Age population, age 14, female, interpolated",
          "Age population, age 14, male, interpolated",
          "Age population, age 15, female, interpolated",
          "Age population, age 15, male, interpolated",
          "Age population, age 16, female, interpolated",
          "Age population, age 16, male, interpolated",
          "Age population, age 17, female, interpolated",
          "Age population, age 17, male, interpolated",
          "Age population, age 18, female, interpolated",
          "Age population, age 18, male, interpolated",
          "Age population, age 19, female, interpolated",
          "Age population, age 19, male, interpolated",
          "Age population, age 20, female, interpolated",
          "Age population, age 20, male, interpolated",
          "Age population, age 21, female, interpolated",
          "Age population, age 21, male, interpolated",
          "Age population, age 22, female, interpolated",
          "Age population, age 22, male, interpolated",
          "Age population, age 23, female, interpolated",
          "Age population, age 23, male, interpolated",
          "Age population, age 24, female, interpolated",
          "Age population, age 24, male, interpolated",
          "Age population, age 25, female, interpolated",
          "Age population, age 25, male, interpolated",
          "AIDS estimated deaths (UNAIDS estimates)",
          "Antiretroviral therapy coverage (% of people living with HIV)",
          "Antiretroviral therapy coverage for PMTCT (% of pregnant women living with HIV)",
          "ARI treatment (% of children under 5 taken to a health provider)",
          "Birth rate, crude (per 1,000 people)",
          "Births attended by skilled health staff (% of total)",
          "Capital health expenditure (% of GDP)",
          "Cause of death, by communicable diseases and maternal, prenatal and nutrition conditions (% of total)",
          "Cause of death, by injury (% of total)",
          "Cause of death, by non-communicable diseases (% of total)",
          "Children (0-14) living with HIV",
          "Children (ages 0-14) newly infected with HIV",
          "Children orphaned by HIV/AIDS",
          "Children with fever receiving antimalarial drugs (% of children under age 5 with fever)",
          "Community health workers (per 1,000 people)",
          "Completeness of birth registration (%)",
          "Completeness of birth registration, female (%)",
          "Completeness of birth registration, male (%)",
          "Completeness of birth registration, rural (%)",
          "Completeness of birth registration, urban (%)",
          "Completeness of death registration with cause-of-death information (%)",
          "Comprehensive correct knowledge of HIV/AIDS, ages 15-24, female (2 prevent ways and reject 3 misconceptions)",
          "Comprehensive correct knowledge of HIV/AIDS, ages 15-24, male (2 prevent ways and reject 3 misconceptions)",
          "Comprehensive correct knowledge of HIV/AIDS, ages 15-49, female (2 prevent ways and reject 3 misconceptions)",
          "Comprehensive correct knowledge of HIV/AIDS, ages 15-49, male (2 prevent ways and reject 3 misconceptions)",
          "Condom use at last high-risk sex, adult female (% ages 15-49)",
          "Condom use at last high-risk sex, adult male (% ages 15-49)",
          "Condom use, population ages 15-24, female (% of females ages 15-24)",
          "Condom use, population ages 15-24, male (% of males ages 15-24)",
          "Consumption of iodized salt (% of households)",
          "Contraceptive prevalence, any method (% of married women ages 15-49)",
          "Contraceptive prevalence, any method (% of sexually active unmarried women ages 15-49)",
          "Contraceptive prevalence, any modern method (% of married women ages 15-49)",
          "Contraceptive prevalence, any modern method (% of sexually active unmarried women ages 15-49)",
          "Current health expenditure (% of GDP)",
          "Current health expenditure per capita (current US$)",
          "Current health expenditure per capita, PPP (current international $)",
          "Death rate, crude (per 1,000 people)",
          "Demand for family planning satisfied by any methods (% of married women with demand for family planning)",
          "Demand for family planning satisfied by modern methods (% of married women with demand for family planning)",
          "Diabetes prevalence (% of population ages 20 to 79)",
          "Diarrhea treatment (% of children under 5 receiving oral rehydration and continued feeding)",
          "Diarrhea treatment (% of children under 5 who received ORS packet)",
          "Domestic general government health expenditure (% of current health expenditure)",
          "Domestic general government health expenditure (% of GDP)",
          "Domestic general government health expenditure (% of general government expenditure)",
          "Domestic general government health expenditure per capita (current US$)",
          "Domestic general government health expenditure per capita, PPP (current international $)",
          "Domestic private health expenditure (% of current health expenditure)",
          "Domestic private health expenditure per capita (current US$)",
          "Domestic private health expenditure per capita, PPP  (current international $)",
          "Exclusive breastfeeding (% of children under 6 months)",
          "External health expenditure (% of current health expenditure)",
          "External health expenditure channeled through government (% of external health expenditure)",
          "External health expenditure per capita (current US$)",
          "External health expenditure per capita, PPP (current international $)",
          "Female headed households (% of households with a female head)",
          "Fertility rate, total (births per woman)",
          "GNI per capita, Atlas method (current US$)",
          "Hospital beds (per 1,000 people)",
          "Human capital index (HCI) (scale 0-1)",
          "Human capital index (HCI), female (scale 0-1)",
          "Human capital index (HCI), female, lower bound (scale 0-1)",
          "Human capital index (HCI), female, upper bound (scale 0-1)",
          "Human capital index (HCI), lower bound (scale 0-1)",
          "Human capital index (HCI), male (scale 0-1)",
          "Human capital index (HCI), male, lower bound (scale 0-1)",
          "Human capital index (HCI), male, upper bound (scale 0-1)",
          "Human capital index (HCI), upper bound (scale 0-1)",
          "Immunization, BCG (% of one-year-old children)",
          "Immunization, DPT (% of children ages 12-23 months)",
          "Immunization, HepB3 (% of one-year-old children)",
          "Immunization, Hib3 (% of children ages 12-23 months)",
          "Immunization, measles (% of children ages 12-23 months)",
          "Immunization, measles second dose (% of children by the nationally recommended age)",
          "Immunization, Pol3 (% of one-year-old children)",
          "Incidence of HIV, ages 15-24 (per 1,000 uninfected population ages 15-24)",
          "Incidence of HIV, ages 15-49 (per 1,000 uninfected population ages 15-49)",
          "Incidence of HIV, ages 50+ (per 1,000 uninfected population ages 50+)",
          "Incidence of HIV, all (per 1,000 uninfected population)",
          "Incidence of malaria (per 1,000 population at risk)",
          "Incidence of tuberculosis (per 100,000 people)",
          "Infant and young child feeding practices, all 3 IYCF (% children ages 6-23 months)",
          "Intermittent preventive treatment (IPT) of malaria in pregnancy (% of pregnant women)",
          "Labor force, female (% of total labor force)",
          "Labor force, total",
          "Life expectancy at birth, female (years)",
          "Life expectancy at birth, male (years)",
          "Life expectancy at birth, total (years)",
          "Lifetime risk of maternal death (%)",
          "Lifetime risk of maternal death (1 in: rate varies by country)",
          "Literacy rate, adult female (% of females ages 15 and above)",
          "Literacy rate, adult male (% of males ages 15 and above)",
          "Literacy rate, adult total (% of people ages 15 and above)",
          "Literacy rate, youth male (% of males ages 15-24)",
          "Literacy rate, youth total (% of people ages 15-24)",
          "Low-birthweight babies (% of births)",
          "Malaria cases reported",
          "Maternal leave benefits (% of wages paid in covered period)",
          "Maternal mortality ratio (modeled estimate, per 100,000 live births)",
          "Maternal mortality ratio (national estimate, per 100,000 live births)",
          "Mortality caused by road traffic injury (per 100,000 people)",
          "Mortality caused by road traffic injury, female (per 100,000 female population)",
          "Mortality caused by road traffic injury, male (per 100,000 male population)",
          "Mortality from CVD, cancer, diabetes or CRD between exact ages 30 and 70 (%)",
          "Mortality from CVD, cancer, diabetes or CRD between exact ages 30 and 70, female (%)",
          "Mortality from CVD, cancer, diabetes or CRD between exact ages 30 and 70, male (%)",
          "Mortality rate attributed to household and ambient air pollution (per 100,000 population)",
          "Mortality rate attributed to household and ambient air pollution, age-standardized, female (per 100,000 female population)",
          "Mortality rate attributed to household and ambient air pollution, age-standardized, male (per 100,000 male population)",
          "Mortality rate attributed to unintentional poisoning (per 100,000 population)",
          "Mortality rate attributed to unintentional poisoning, female (per 100,000 female population)",
          "Mortality rate attributed to unintentional poisoning, male (per 100,000 male population)",
          "Mortality rate attributed to unsafe water, unsafe sanitation and lack of hygiene (per 100,000 population)",
          "Mortality rate attributed to unsafe water, unsafe sanitation and lack of hygiene, female (per 100,000 female population)",
          "Mortality rate attributed to unsafe water, unsafe sanitation and lack of hygiene, male (per 100,000 male population)",
          "Mortality rate, adult, female (per 1,000 female adults)",
          "Mortality rate, adult, male (per 1,000 male adults)",
          "Mortality rate, infant (per 1,000 live births)",
          "Mortality rate, infant, female (per 1,000 live births)",
          "Mortality rate, infant, male (per 1,000 live births)",
          "Mortality rate, neonatal (per 1,000 live births)",
          "Mortality rate, under-5 (per 1,000)",
          "Mortality rate, under-5, female (per 1,000)",
          "Mortality rate, under-5, male (per 1,000)",
          "Net migration",
          "Newborns protected against tetanus (%)",
          "Number of deaths ages 10-14 years",
          "Number of deaths ages 10-14 years, female",
          "Number of deaths ages 10-14 years, male",
          "Number of deaths ages 10-19 years",
          "Number of deaths ages 10-19 years, female",
          "Number of deaths ages 10-19 years, male",
          "Number of deaths ages 15-19 years",
          "Number of deaths ages 15-19 years, female",
          "Number of deaths ages 15-19 years, male",
          "Number of deaths ages 20-24 years",
          "Number of deaths ages 20-24 years, female",
          "Number of deaths ages 20-24 years, male",
          "Number of deaths ages 5-9 years",
          "Number of deaths ages 5-9 years, female",
          "Number of deaths ages 5-9 years, male",
          "Number of infant deaths",
          "Number of infant deaths, female",
          "Number of infant deaths, male",
          "Number of maternal deaths",
          "Number of neonatal deaths",
          "Number of people pushed below the $1.90 ($ 2011 PPP) poverty line by out-of-pocket health care expenditure",
          "Number of people pushed below the $3.20 ($ 2011 PPP) poverty line by out-of-pocket health care expenditure",
          "Number of people pushed further below the $1.90 ($ 2011 PPP) poverty line by out-of-pocket health care expenditure",
          "Number of people pushed further below the $3.20 ($ 2011 PPP) poverty line by out-of-pocket health care expenditure",
          "Number of people spending more than 10% of household consumption or income on out-of-pocket health care expenditure",
          "Number of people spending more than 25% of household consumption or income on out-of-pocket health care expenditure",
          "Number of people who are undernourished",
          "Number of stillbirths",
          "Number of surgical procedures (per 100,000 population)",
          "Number of under-five deaths",
          "Number of under-five deaths, female",
          "Number of under-five deaths, male",
          "Nurses and midwives (per 1,000 people)",
          "Out-of-pocket expenditure (% of current health expenditure)",
          "Out-of-pocket expenditure per capita (current US$)",
          "Out-of-pocket expenditure per capita, PPP (current international $)",
          "People practicing open defecation (% of population)",
          "People practicing open defecation, rural (% of rural population)",
          "People practicing open defecation, urban (% of urban population)",
          "People using at least basic drinking water services (% of population)",
          "People using at least basic drinking water services, rural (% of rural population)",
          "People using at least basic drinking water services, urban (% of urban population)",
          "People using at least basic sanitation services (% of population)",
          "People using at least basic sanitation services, rural (% of rural population)",
          "People using at least basic sanitation services, urban  (% of urban population)",
          "People using safely managed drinking water services (% of population)",
          "People using safely managed drinking water services, rural (% of rural population)",
          "People using safely managed drinking water services, urban (% of urban population)",
          "People using safely managed sanitation services (% of population)",
          "People using safely managed sanitation services, rural (% of rural population)",
          "People using safely managed sanitation services, urban  (% of urban population)",
          "People with basic handwashing facilities including soap and water (% of population)",
          "People with basic handwashing facilities including soap and water, rural (% of rural population)",
          "People with basic handwashing facilities including soap and water, urban (% of urban population)",
          "Physicians (per 1,000 people)",
          "Population ages 00-04, female",
          "Population ages 00-04, female (% of female population)",
          "Population ages 00-04, male",
          "Population ages 00-04, male (% of male population)",
          "Population ages 00-14, total",
          "Population ages 0-14 (% of total population)",
          "Population ages 0-14, female",
          "Population ages 0-14, female (% of female population)",
          "Population ages 0-14, male",
          "Population ages 0-14, male (% of male population)",
          "Population ages 05-09, female",
          "Population ages 05-09, female (% of female population)",
          "Population ages 05-09, male",
          "Population ages 05-09, male (% of male population)",
          "Population ages 10-14, female",
          "Population ages 10-14, female (% of female population)",
          "Population ages 10-14, male",
          "Population ages 10-14, male (% of male population)",
          "Population ages 15-19, female",
          "Population ages 15-19, female (% of female population)",
          "Population ages 15-19, male",
          "Population ages 15-19, male (% of male population)",
          "Population ages 15-64 (% of total population)",
          "Population ages 15-64, female",
          "Population ages 15-64, female (% of female population)",
          "Population ages 15-64, male",
          "Population ages 15-64, male (% of male population)",
          "Population ages 15-64, total",
          "Population ages 20-24, female",
          "Population ages 20-24, female (% of female population)",
          "Population ages 20-24, male",
          "Population ages 20-24, male (% of male population)",
          "Population ages 25-29, female",
          "Population ages 25-29, female (% of female population)",
          "Population ages 25-29, male",
          "Population ages 25-29, male (% of male population)",
          "Population ages 30-34, female",
          "Population ages 30-34, female (% of female population)",
          "Population ages 30-34, male",
          "Population ages 30-34, male (% of male population)",
          "Population ages 35-39, female",
          "Population ages 35-39, female (% of female population)",
          "Population ages 35-39, male",
          "Population ages 35-39, male (% of male population)",
          "Population ages 40-44, female",
          "Population ages 40-44, female (% of female population)",
          "Population ages 40-44, male",
          "Population ages 40-44, male (% of male population)",
          "Population ages 45-49, female",
          "Population ages 45-49, female (% of female population)",
          "Population ages 45-49, male",
          "Population ages 45-49, male (% of male population)",
          "Population ages 50-54, female",
          "Population ages 50-54, female (% of female population)",
          "Population ages 50-54, male",
          "Population ages 50-54, male (% of male population)",
          "Population ages 55-59, female",
          "Population ages 55-59, female (% of female population)",
          "Population ages 55-59, male",
          "Population ages 55-59, male (% of male population)",
          "Population ages 60-64, female",
          "Population ages 60-64, female (% of female population)",
          "Population ages 60-64, male",
          "Population ages 60-64, male (% of male population)",
          "Population ages 65 and above (% of total population)",
          "Population ages 65 and above, female",
          "Population ages 65 and above, female (% of female population)",
          "Population ages 65 and above, male",
          "Population ages 65 and above, male (% of male population)",
          "Population ages 65 and above, total",
          "Population ages 65-69, female",
          "Population ages 65-69, female (% of female population)",
          "Population ages 65-69, male",
          "Population ages 65-69, male (% of male population)",
          "Population ages 70-74, female",
          "Population ages 70-74, female (% of female population)",
          "Population ages 70-74, male",
          "Population ages 70-74, male (% of male population)",
          "Population ages 75-79, female",
          "Population ages 75-79, female (% of female population)",
          "Population ages 75-79, male",
          "Population ages 75-79, male (% of male population)",
          "Population ages 80 and above, female",
          "Population ages 80 and above, male",
          "Population ages 80 and above, male (% of male population)",
          "Population ages 80 and older, female (% of female population)",
          "Population growth (annual %)",
          "Population, female",
          "Population, female (% of total population)",
          "Population, male",
          "Population, male (% of total population)",
          "Population, total",
          "Postnatal care coverage (% mothers)",
          "Poverty headcount ratio at national poverty line (% of population)",
          "Pregnant women receiving prenatal care (%)",
          "Pregnant women receiving prenatal care of at least four visits (% of pregnant women)",
          "Prevalence of anemia among children (% of children ages 6-59 months)",
          "Prevalence of anemia among non-pregnant women (% of women ages 15-49)",
          "Prevalence of anemia among pregnant women (%)",
          "Prevalence of anemia among women of reproductive age (% of women ages 15-49)",
          "Prevalence of current tobacco use (% of adults)",
          "Prevalence of current tobacco use, females (% of female adults)",
          "Prevalence of current tobacco use, males (% of male adults)",
          "Prevalence of HIV, female (% ages 15-24)",
          "Prevalence of HIV, male (% ages 15-24)",
          "Prevalence of HIV, total (% of population ages 15-49)",
          "Prevalence of hypertension (% of adults ages 30-79)",
          "Prevalence of hypertension, female (% of female adults ages 30-79)",
          "Prevalence of hypertension, male (% of male adults ages 30-79)",
          "Prevalence of overweight (% of adults)",
          "Prevalence of overweight (% of children under 5)",
          "Prevalence of overweight (modeled estimate, % of children under 5)",
          "Prevalence of overweight, female (% of children under 5)",
          "Prevalence of overweight, female (% of female adults)",
          "Prevalence of overweight, male (% of children under 5)",
          "Prevalence of overweight, male (% of male adults)",
          "Prevalence of severe wasting, weight for height (% of children under 5)",
          "Prevalence of severe wasting, weight for height, female (% of children under 5)",
          "Prevalence of severe wasting, weight for height, male (% of children under 5)",
          "Prevalence of stunting, height for age (% of children under 5)",
          "Prevalence of stunting, height for age (modeled estimate, % of children under 5)",
          "Prevalence of stunting, height for age, female (% of children under 5)",
          "Prevalence of stunting, height for age, male (% of children under 5)",
          "Prevalence of syphilis (% of women attending antenatal care)",
          "Prevalence of undernourishment (% of population)",
          "Prevalence of underweight, weight for age (% of children under 5)",
          "Prevalence of underweight, weight for age, female (% of children under 5)",
          "Prevalence of underweight, weight for age, male (% of children under 5)",
          "Prevalence of wasting, weight for height (% of children under 5)",
          "Prevalence of wasting, weight for height, female (% of children under 5)",
          "Prevalence of wasting, weight for height, male (% of children under 5)",
          "Primary completion rate, female (% of relevant age group)",
          "Primary completion rate, male (% of relevant age group)",
          "Primary completion rate, total (% of relevant age group)",
          "Probability of dying among adolescents ages 10-14 years (per 1,000)",
          "Probability of dying among adolescents ages 10-14 years, female (per 1,000)",
          "Probability of dying among adolescents ages 10-14 years, male (per 1,000)",
          "Probability of dying among adolescents ages 10-19 years (per 1,000)",
          "Probability of dying among adolescents ages 10-19 years, female (per 1,000)",
          "Probability of dying among adolescents ages 10-19 years, male (per 1,000)",
          "Probability of dying among adolescents ages 15-19 years (per 1,000)",
          "Probability of dying among adolescents ages 15-19 years, female (per 1,000)",
          "Probability of dying among adolescents ages 15-19 years, male (per 1,000)",
          "Probability of dying among children ages 5-9 years (per 1,000)",
          "Probability of dying among children ages 5-9 years, female (per 1,000)",
          "Probability of dying among children ages 5-9 years, male (per 1,000)",
          "Probability of dying among youth ages 20-24 years (per 1,000)",
          "Probability of dying among youth ages 20-24 years, female (per 1,000)",
          "Probability of dying among youth ages 20-24 years, male (per 1,000)",
          "Proportion of population pushed below the $1.90 ($ 2011 PPP) poverty line by out-of-pocket health care expenditure (%)",
          "Proportion of population pushed below the $3.20 ($ 2011 PPP) poverty line by out-of-pocket health care expenditure (%)",
          "Proportion of population pushed further below the $1.90 ($ 2011 PPP) poverty line by out-of-pocket health care expenditure (%)",
          "Proportion of population pushed further below the $3.20 ($ 2011 PPP) poverty line by out-of-pocket health care expenditure (%)",
          "Proportion of population spending more than 10% of household consumption or income on out-of-pocket health care expenditure (%)",
          "Proportion of population spending more than 25% of household consumption or income on out-of-pocket health care expenditure (%)",
          "Public spending on education, total (% of GDP)",
          "Ratio of school attendance of orphans to school attendance of non-orphans ages 10-14",
          "Ratio of young literate females to males (% ages 15-24)",
          "Risk of catastrophic expenditure for surgical care (% of people at risk)",
          "Risk of impoverishing expenditure for surgical care (% of people at risk)",
          "Rural population",
          "Rural population (% of total population)",
          "Rural population growth (annual %)",
          "Rural poverty headcount ratio at national poverty lines (% of rural population)",
          "School enrollment, primary (% gross)",
          "School enrollment, primary (% net)",
          "School enrollment, primary, female (% gross)",
          "School enrollment, primary, female (% net)",
          "School enrollment, primary, male (% gross)",
          "School enrollment, primary, male (% net)",
          "School enrollment, secondary (% gross)",
          "School enrollment, secondary (% net)",
          "School enrollment, secondary, female (% gross)",
          "School enrollment, secondary, female (% net)",
          "School enrollment, secondary, male (% gross)",
          "School enrollment, secondary, male (% net)",
          "School enrollment, tertiary (% gross)",
          "School enrollment, tertiary, female (% gross)",
          "Sex ratio at birth (male births per female births)",
          "Share of women employed in the nonagricultural sector (% of total nonagricultural employment)",
          "Specialist surgical workforce (per 100,000 population)",
          "Stillbirth rate (per 1,000 total births)",
          "Suicide mortality rate (per 100,000 population)",
          "Suicide mortality rate, female (per 100,000 female population)",
          "Suicide mortality rate, male (per 100,000 male population)",
          "Survival to age 65, female (% of cohort)",
          "Survival to age 65, male (% of cohort)",
          "Teenage mothers (% of women ages 15-19 who have had children or are currently pregnant)",
          "Total alcohol consumption per capita (liters of pure alcohol, projected estimates, 15+ years of age)",
          "Total alcohol consumption per capita, female (liters of pure alcohol, projected estimates, female 15+ years of age)",
          "Total alcohol consumption per capita, male (liters of pure alcohol, projected estimates, male 15+ years of age)",
          "Treatment for hypertension (% of adults ages 30-79 with hypertension)",
          "Treatment for hypertension, female (% of female adults ages 30-79 with hypertension)",
          "Treatment for hypertension, male (% of male adults ages 30-79 with hypertension)",
          "Tuberculosis case detection rate (%, all forms)",
          "Tuberculosis death rate (per 100,000 people)",
          "Tuberculosis treatment success rate (% of new cases)",
          "UHC service coverage index",
          "Unemployment, female (% of female labor force)",
          "Unemployment, male (% of male labor force)",
          "Unemployment, total (% of total labor force)",
          "Unmet need for contraception (% of married women ages 15-49)",
          "Urban population",
          "Urban population (% of total population)",
          "Urban population growth (annual %)",
          "Urban poverty headcount ratio at national poverty lines (% of urban population)",
          "Use of insecticide-treated bed nets (% of under-5 population)",
          "Vitamin A supplementation coverage rate (% of children ages 6-59 months)",
          "Wanted fertility rate (births per woman)",
          "Women who were first married by age 15 (% of women ages 20-24)",
          "Women who were first married by age 18 (% of women ages 20-24)",
          "Women's share of population ages 15+ living with HIV (%)",
          "Young people (ages 15-24) newly infected with HIV",
          "hdi",
          "Income Group",
          "System of trade",
          "Government Accounting concept",
          "Lending category"
         ],
         "xaxis": "x",
         "y": [
          0,
          183,
          52,
          56,
          54,
          57,
          183,
          183,
          6,
          6,
          6,
          6,
          6,
          6,
          6,
          6,
          6,
          6,
          6,
          6,
          6,
          6,
          6,
          6,
          6,
          6,
          6,
          6,
          6,
          6,
          6,
          6,
          6,
          6,
          6,
          6,
          6,
          6,
          6,
          6,
          6,
          6,
          6,
          6,
          6,
          6,
          6,
          6,
          6,
          6,
          6,
          6,
          6,
          6,
          6,
          6,
          6,
          6,
          6,
          6,
          6,
          6,
          6,
          56,
          53,
          95,
          181,
          183,
          182,
          183,
          183,
          183,
          183,
          92,
          95,
          57,
          183,
          183,
          183,
          180,
          180,
          183,
          183,
          183,
          183,
          183,
          183,
          183,
          183,
          183,
          183,
          183,
          183,
          178,
          180,
          178,
          180,
          183,
          183,
          183,
          183,
          183,
          183,
          183,
          183,
          181,
          183,
          183,
          183,
          183,
          183,
          183,
          183,
          183,
          183,
          183,
          183,
          183,
          183,
          179,
          183,
          11,
          183,
          17,
          38,
          38,
          38,
          17,
          38,
          38,
          38,
          17,
          183,
          183,
          183,
          183,
          183,
          183,
          183,
          58,
          57,
          58,
          55,
          183,
          1,
          183,
          181,
          183,
          11,
          183,
          183,
          183,
          183,
          183,
          169,
          169,
          169,
          169,
          169,
          183,
          183,
          183,
          183,
          183,
          183,
          183,
          183,
          183,
          183,
          183,
          183,
          183,
          183,
          183,
          183,
          183,
          183,
          183,
          183,
          183,
          183,
          183,
          183,
          183,
          183,
          183,
          183,
          183,
          183,
          183,
          183,
          183,
          183,
          183,
          183,
          183,
          183,
          183,
          183,
          183,
          183,
          183,
          183,
          183,
          183,
          183,
          183,
          183,
          183,
          183,
          183,
          183,
          183,
          183,
          183,
          183,
          183,
          183,
          183,
          183,
          183,
          183,
          183,
          183,
          183,
          183,
          18,
          35,
          26,
          12,
          31,
          25,
          15,
          33,
          26,
          74,
          123,
          106,
          72,
          111,
          91,
          109,
          109,
          111,
          183,
          6,
          6,
          6,
          6,
          6,
          6,
          6,
          6,
          6,
          6,
          6,
          6,
          6,
          6,
          6,
          6,
          6,
          6,
          6,
          6,
          6,
          6,
          6,
          6,
          6,
          6,
          6,
          6,
          6,
          6,
          6,
          6,
          6,
          6,
          6,
          6,
          6,
          6,
          6,
          6,
          6,
          6,
          6,
          6,
          6,
          6,
          6,
          6,
          6,
          6,
          6,
          6,
          6,
          6,
          6,
          6,
          6,
          6,
          6,
          6,
          6,
          6,
          6,
          6,
          6,
          6,
          6,
          6,
          6,
          6,
          6,
          6,
          6,
          6,
          6,
          6,
          6,
          6,
          6,
          6,
          6,
          6,
          6,
          6,
          6,
          6,
          1,
          6,
          6,
          6,
          6,
          1,
          183,
          167,
          180,
          181,
          183,
          183,
          183,
          183,
          183,
          183,
          183,
          54,
          54,
          53,
          183,
          183,
          183,
          183,
          180,
          36,
          180,
          183,
          180,
          183,
          180,
          180,
          180,
          180,
          37,
          180,
          180,
          183,
          183,
          180,
          180,
          180,
          180,
          180,
          180,
          127,
          127,
          127,
          183,
          183,
          183,
          183,
          183,
          183,
          183,
          183,
          183,
          183,
          183,
          183,
          183,
          183,
          183,
          183,
          183,
          183,
          183,
          183,
          183,
          150,
          183,
          169,
          52,
          52,
          1,
          1,
          4,
          183,
          121,
          183,
          121,
          183,
          121,
          183,
          136,
          183,
          136,
          183,
          136,
          183,
          134,
          134,
          183,
          183,
          183,
          183,
          183,
          183,
          183,
          183,
          183,
          183,
          183,
          183,
          183,
          183,
          183,
          183,
          7,
          1,
          183,
          183,
          183,
          183,
          10,
          179,
          1,
          1,
          1,
          183,
          181,
          183,
          183,
          179,
          178,
          54,
          58,
          0,
          1,
          23,
          33,
          48
         ],
         "yaxis": "y"
        }
       ],
       "layout": {
        "barmode": "relative",
        "legend": {
         "title": {
          "text": "variable"
         },
         "tracegroupgap": 0
        },
        "template": {
         "data": {
          "bar": [
           {
            "error_x": {
             "color": "#2a3f5f"
            },
            "error_y": {
             "color": "#2a3f5f"
            },
            "marker": {
             "line": {
              "color": "#E5ECF6",
              "width": 0.5
             },
             "pattern": {
              "fillmode": "overlay",
              "size": 10,
              "solidity": 0.2
             }
            },
            "type": "bar"
           }
          ],
          "barpolar": [
           {
            "marker": {
             "line": {
              "color": "#E5ECF6",
              "width": 0.5
             },
             "pattern": {
              "fillmode": "overlay",
              "size": 10,
              "solidity": 0.2
             }
            },
            "type": "barpolar"
           }
          ],
          "carpet": [
           {
            "aaxis": {
             "endlinecolor": "#2a3f5f",
             "gridcolor": "white",
             "linecolor": "white",
             "minorgridcolor": "white",
             "startlinecolor": "#2a3f5f"
            },
            "baxis": {
             "endlinecolor": "#2a3f5f",
             "gridcolor": "white",
             "linecolor": "white",
             "minorgridcolor": "white",
             "startlinecolor": "#2a3f5f"
            },
            "type": "carpet"
           }
          ],
          "choropleth": [
           {
            "colorbar": {
             "outlinewidth": 0,
             "ticks": ""
            },
            "type": "choropleth"
           }
          ],
          "contour": [
           {
            "colorbar": {
             "outlinewidth": 0,
             "ticks": ""
            },
            "colorscale": [
             [
              0,
              "#0d0887"
             ],
             [
              0.1111111111111111,
              "#46039f"
             ],
             [
              0.2222222222222222,
              "#7201a8"
             ],
             [
              0.3333333333333333,
              "#9c179e"
             ],
             [
              0.4444444444444444,
              "#bd3786"
             ],
             [
              0.5555555555555556,
              "#d8576b"
             ],
             [
              0.6666666666666666,
              "#ed7953"
             ],
             [
              0.7777777777777778,
              "#fb9f3a"
             ],
             [
              0.8888888888888888,
              "#fdca26"
             ],
             [
              1,
              "#f0f921"
             ]
            ],
            "type": "contour"
           }
          ],
          "contourcarpet": [
           {
            "colorbar": {
             "outlinewidth": 0,
             "ticks": ""
            },
            "type": "contourcarpet"
           }
          ],
          "heatmap": [
           {
            "colorbar": {
             "outlinewidth": 0,
             "ticks": ""
            },
            "colorscale": [
             [
              0,
              "#0d0887"
             ],
             [
              0.1111111111111111,
              "#46039f"
             ],
             [
              0.2222222222222222,
              "#7201a8"
             ],
             [
              0.3333333333333333,
              "#9c179e"
             ],
             [
              0.4444444444444444,
              "#bd3786"
             ],
             [
              0.5555555555555556,
              "#d8576b"
             ],
             [
              0.6666666666666666,
              "#ed7953"
             ],
             [
              0.7777777777777778,
              "#fb9f3a"
             ],
             [
              0.8888888888888888,
              "#fdca26"
             ],
             [
              1,
              "#f0f921"
             ]
            ],
            "type": "heatmap"
           }
          ],
          "heatmapgl": [
           {
            "colorbar": {
             "outlinewidth": 0,
             "ticks": ""
            },
            "colorscale": [
             [
              0,
              "#0d0887"
             ],
             [
              0.1111111111111111,
              "#46039f"
             ],
             [
              0.2222222222222222,
              "#7201a8"
             ],
             [
              0.3333333333333333,
              "#9c179e"
             ],
             [
              0.4444444444444444,
              "#bd3786"
             ],
             [
              0.5555555555555556,
              "#d8576b"
             ],
             [
              0.6666666666666666,
              "#ed7953"
             ],
             [
              0.7777777777777778,
              "#fb9f3a"
             ],
             [
              0.8888888888888888,
              "#fdca26"
             ],
             [
              1,
              "#f0f921"
             ]
            ],
            "type": "heatmapgl"
           }
          ],
          "histogram": [
           {
            "marker": {
             "pattern": {
              "fillmode": "overlay",
              "size": 10,
              "solidity": 0.2
             }
            },
            "type": "histogram"
           }
          ],
          "histogram2d": [
           {
            "colorbar": {
             "outlinewidth": 0,
             "ticks": ""
            },
            "colorscale": [
             [
              0,
              "#0d0887"
             ],
             [
              0.1111111111111111,
              "#46039f"
             ],
             [
              0.2222222222222222,
              "#7201a8"
             ],
             [
              0.3333333333333333,
              "#9c179e"
             ],
             [
              0.4444444444444444,
              "#bd3786"
             ],
             [
              0.5555555555555556,
              "#d8576b"
             ],
             [
              0.6666666666666666,
              "#ed7953"
             ],
             [
              0.7777777777777778,
              "#fb9f3a"
             ],
             [
              0.8888888888888888,
              "#fdca26"
             ],
             [
              1,
              "#f0f921"
             ]
            ],
            "type": "histogram2d"
           }
          ],
          "histogram2dcontour": [
           {
            "colorbar": {
             "outlinewidth": 0,
             "ticks": ""
            },
            "colorscale": [
             [
              0,
              "#0d0887"
             ],
             [
              0.1111111111111111,
              "#46039f"
             ],
             [
              0.2222222222222222,
              "#7201a8"
             ],
             [
              0.3333333333333333,
              "#9c179e"
             ],
             [
              0.4444444444444444,
              "#bd3786"
             ],
             [
              0.5555555555555556,
              "#d8576b"
             ],
             [
              0.6666666666666666,
              "#ed7953"
             ],
             [
              0.7777777777777778,
              "#fb9f3a"
             ],
             [
              0.8888888888888888,
              "#fdca26"
             ],
             [
              1,
              "#f0f921"
             ]
            ],
            "type": "histogram2dcontour"
           }
          ],
          "mesh3d": [
           {
            "colorbar": {
             "outlinewidth": 0,
             "ticks": ""
            },
            "type": "mesh3d"
           }
          ],
          "parcoords": [
           {
            "line": {
             "colorbar": {
              "outlinewidth": 0,
              "ticks": ""
             }
            },
            "type": "parcoords"
           }
          ],
          "pie": [
           {
            "automargin": true,
            "type": "pie"
           }
          ],
          "scatter": [
           {
            "marker": {
             "colorbar": {
              "outlinewidth": 0,
              "ticks": ""
             }
            },
            "type": "scatter"
           }
          ],
          "scatter3d": [
           {
            "line": {
             "colorbar": {
              "outlinewidth": 0,
              "ticks": ""
             }
            },
            "marker": {
             "colorbar": {
              "outlinewidth": 0,
              "ticks": ""
             }
            },
            "type": "scatter3d"
           }
          ],
          "scattercarpet": [
           {
            "marker": {
             "colorbar": {
              "outlinewidth": 0,
              "ticks": ""
             }
            },
            "type": "scattercarpet"
           }
          ],
          "scattergeo": [
           {
            "marker": {
             "colorbar": {
              "outlinewidth": 0,
              "ticks": ""
             }
            },
            "type": "scattergeo"
           }
          ],
          "scattergl": [
           {
            "marker": {
             "colorbar": {
              "outlinewidth": 0,
              "ticks": ""
             }
            },
            "type": "scattergl"
           }
          ],
          "scattermapbox": [
           {
            "marker": {
             "colorbar": {
              "outlinewidth": 0,
              "ticks": ""
             }
            },
            "type": "scattermapbox"
           }
          ],
          "scatterpolar": [
           {
            "marker": {
             "colorbar": {
              "outlinewidth": 0,
              "ticks": ""
             }
            },
            "type": "scatterpolar"
           }
          ],
          "scatterpolargl": [
           {
            "marker": {
             "colorbar": {
              "outlinewidth": 0,
              "ticks": ""
             }
            },
            "type": "scatterpolargl"
           }
          ],
          "scatterternary": [
           {
            "marker": {
             "colorbar": {
              "outlinewidth": 0,
              "ticks": ""
             }
            },
            "type": "scatterternary"
           }
          ],
          "surface": [
           {
            "colorbar": {
             "outlinewidth": 0,
             "ticks": ""
            },
            "colorscale": [
             [
              0,
              "#0d0887"
             ],
             [
              0.1111111111111111,
              "#46039f"
             ],
             [
              0.2222222222222222,
              "#7201a8"
             ],
             [
              0.3333333333333333,
              "#9c179e"
             ],
             [
              0.4444444444444444,
              "#bd3786"
             ],
             [
              0.5555555555555556,
              "#d8576b"
             ],
             [
              0.6666666666666666,
              "#ed7953"
             ],
             [
              0.7777777777777778,
              "#fb9f3a"
             ],
             [
              0.8888888888888888,
              "#fdca26"
             ],
             [
              1,
              "#f0f921"
             ]
            ],
            "type": "surface"
           }
          ],
          "table": [
           {
            "cells": {
             "fill": {
              "color": "#EBF0F8"
             },
             "line": {
              "color": "white"
             }
            },
            "header": {
             "fill": {
              "color": "#C8D4E3"
             },
             "line": {
              "color": "white"
             }
            },
            "type": "table"
           }
          ]
         },
         "layout": {
          "annotationdefaults": {
           "arrowcolor": "#2a3f5f",
           "arrowhead": 0,
           "arrowwidth": 1
          },
          "autotypenumbers": "strict",
          "coloraxis": {
           "colorbar": {
            "outlinewidth": 0,
            "ticks": ""
           }
          },
          "colorscale": {
           "diverging": [
            [
             0,
             "#8e0152"
            ],
            [
             0.1,
             "#c51b7d"
            ],
            [
             0.2,
             "#de77ae"
            ],
            [
             0.3,
             "#f1b6da"
            ],
            [
             0.4,
             "#fde0ef"
            ],
            [
             0.5,
             "#f7f7f7"
            ],
            [
             0.6,
             "#e6f5d0"
            ],
            [
             0.7,
             "#b8e186"
            ],
            [
             0.8,
             "#7fbc41"
            ],
            [
             0.9,
             "#4d9221"
            ],
            [
             1,
             "#276419"
            ]
           ],
           "sequential": [
            [
             0,
             "#0d0887"
            ],
            [
             0.1111111111111111,
             "#46039f"
            ],
            [
             0.2222222222222222,
             "#7201a8"
            ],
            [
             0.3333333333333333,
             "#9c179e"
            ],
            [
             0.4444444444444444,
             "#bd3786"
            ],
            [
             0.5555555555555556,
             "#d8576b"
            ],
            [
             0.6666666666666666,
             "#ed7953"
            ],
            [
             0.7777777777777778,
             "#fb9f3a"
            ],
            [
             0.8888888888888888,
             "#fdca26"
            ],
            [
             1,
             "#f0f921"
            ]
           ],
           "sequentialminus": [
            [
             0,
             "#0d0887"
            ],
            [
             0.1111111111111111,
             "#46039f"
            ],
            [
             0.2222222222222222,
             "#7201a8"
            ],
            [
             0.3333333333333333,
             "#9c179e"
            ],
            [
             0.4444444444444444,
             "#bd3786"
            ],
            [
             0.5555555555555556,
             "#d8576b"
            ],
            [
             0.6666666666666666,
             "#ed7953"
            ],
            [
             0.7777777777777778,
             "#fb9f3a"
            ],
            [
             0.8888888888888888,
             "#fdca26"
            ],
            [
             1,
             "#f0f921"
            ]
           ]
          },
          "colorway": [
           "#636efa",
           "#EF553B",
           "#00cc96",
           "#ab63fa",
           "#FFA15A",
           "#19d3f3",
           "#FF6692",
           "#B6E880",
           "#FF97FF",
           "#FECB52"
          ],
          "font": {
           "color": "#2a3f5f"
          },
          "geo": {
           "bgcolor": "white",
           "lakecolor": "white",
           "landcolor": "#E5ECF6",
           "showlakes": true,
           "showland": true,
           "subunitcolor": "white"
          },
          "hoverlabel": {
           "align": "left"
          },
          "hovermode": "closest",
          "mapbox": {
           "style": "light"
          },
          "paper_bgcolor": "white",
          "plot_bgcolor": "#E5ECF6",
          "polar": {
           "angularaxis": {
            "gridcolor": "white",
            "linecolor": "white",
            "ticks": ""
           },
           "bgcolor": "#E5ECF6",
           "radialaxis": {
            "gridcolor": "white",
            "linecolor": "white",
            "ticks": ""
           }
          },
          "scene": {
           "xaxis": {
            "backgroundcolor": "#E5ECF6",
            "gridcolor": "white",
            "gridwidth": 2,
            "linecolor": "white",
            "showbackground": true,
            "ticks": "",
            "zerolinecolor": "white"
           },
           "yaxis": {
            "backgroundcolor": "#E5ECF6",
            "gridcolor": "white",
            "gridwidth": 2,
            "linecolor": "white",
            "showbackground": true,
            "ticks": "",
            "zerolinecolor": "white"
           },
           "zaxis": {
            "backgroundcolor": "#E5ECF6",
            "gridcolor": "white",
            "gridwidth": 2,
            "linecolor": "white",
            "showbackground": true,
            "ticks": "",
            "zerolinecolor": "white"
           }
          },
          "shapedefaults": {
           "line": {
            "color": "#2a3f5f"
           }
          },
          "ternary": {
           "aaxis": {
            "gridcolor": "white",
            "linecolor": "white",
            "ticks": ""
           },
           "baxis": {
            "gridcolor": "white",
            "linecolor": "white",
            "ticks": ""
           },
           "bgcolor": "#E5ECF6",
           "caxis": {
            "gridcolor": "white",
            "linecolor": "white",
            "ticks": ""
           }
          },
          "title": {
           "x": 0.05
          },
          "xaxis": {
           "automargin": true,
           "gridcolor": "white",
           "linecolor": "white",
           "ticks": "",
           "title": {
            "standoff": 15
           },
           "zerolinecolor": "white",
           "zerolinewidth": 2
          },
          "yaxis": {
           "automargin": true,
           "gridcolor": "white",
           "linecolor": "white",
           "ticks": "",
           "title": {
            "standoff": 15
           },
           "zerolinecolor": "white",
           "zerolinewidth": 2
          }
         }
        },
        "title": {
         "text": "Number of missing values for each Attribute"
        },
        "xaxis": {
         "anchor": "y",
         "domain": [
          0,
          1
         ],
         "title": {
          "text": "index"
         }
        },
        "yaxis": {
         "anchor": "x",
         "domain": [
          0,
          1
         ],
         "title": {
          "text": "value"
         }
        }
       }
      },
      "text/html": [
       "<div>                            <div id=\"237f618b-608b-4705-add6-ce9f70100b54\" class=\"plotly-graph-div\" style=\"height:525px; width:100%;\"></div>            <script type=\"text/javascript\">                require([\"plotly\"], function(Plotly) {                    window.PLOTLYENV=window.PLOTLYENV || {};                                    if (document.getElementById(\"237f618b-608b-4705-add6-ce9f70100b54\")) {                    Plotly.newPlot(                        \"237f618b-608b-4705-add6-ce9f70100b54\",                        [{\"alignmentgroup\":\"True\",\"hovertemplate\":\"variable=0<br>index=%{x}<br>value=%{y}<extra></extra>\",\"legendgroup\":\"0\",\"marker\":{\"color\":\"#636efa\",\"pattern\":{\"shape\":\"\"}},\"name\":\"0\",\"offsetgroup\":\"0\",\"orientation\":\"v\",\"showlegend\":true,\"textposition\":\"auto\",\"x\":[\"Country Name\",\"Adolescent fertility rate (births per 1,000 women ages 15-19)\",\"Adults (ages 15+) and children (0-14 years) living with HIV\",\"Adults (ages 15+) and children (ages 0-14) newly infected with HIV\",\"Adults (ages 15+) living with HIV\",\"Adults (ages 15-49) newly infected with HIV\",\"Age at first marriage, female\",\"Age at first marriage, male\",\"Age dependency ratio (% of working-age population)\",\"Age dependency ratio, old\",\"Age dependency ratio, young\",\"Age population, age 00, female, interpolated\",\"Age population, age 00, male, interpolated\",\"Age population, age 01, female, interpolated\",\"Age population, age 01, male, interpolated\",\"Age population, age 02, female, interpolated\",\"Age population, age 02, male, interpolated\",\"Age population, age 03, female, interpolated\",\"Age population, age 03, male, interpolated\",\"Age population, age 04, female, interpolated\",\"Age population, age 04, male, interpolated\",\"Age population, age 05, female, interpolated\",\"Age population, age 05, male, interpolated\",\"Age population, age 06, female, interpolated\",\"Age population, age 06, male, interpolated\",\"Age population, age 07, female, interpolated\",\"Age population, age 07, male, interpolated\",\"Age population, age 08, female, interpolated\",\"Age population, age 08, male, interpolated\",\"Age population, age 09, female, interpolated\",\"Age population, age 09, male, interpolated\",\"Age population, age 10, female, interpolated\",\"Age population, age 10, male, interpolated\",\"Age population, age 11, female, interpolated\",\"Age population, age 11, male, interpolated\",\"Age population, age 12, female, interpolated\",\"Age population, age 12, male, interpolated\",\"Age population, age 13, female, interpolated\",\"Age population, age 13, male, interpolated\",\"Age population, age 14, female, interpolated\",\"Age population, age 14, male, interpolated\",\"Age population, age 15, female, interpolated\",\"Age population, age 15, male, interpolated\",\"Age population, age 16, female, interpolated\",\"Age population, age 16, male, interpolated\",\"Age population, age 17, female, interpolated\",\"Age population, age 17, male, interpolated\",\"Age population, age 18, female, interpolated\",\"Age population, age 18, male, interpolated\",\"Age population, age 19, female, interpolated\",\"Age population, age 19, male, interpolated\",\"Age population, age 20, female, interpolated\",\"Age population, age 20, male, interpolated\",\"Age population, age 21, female, interpolated\",\"Age population, age 21, male, interpolated\",\"Age population, age 22, female, interpolated\",\"Age population, age 22, male, interpolated\",\"Age population, age 23, female, interpolated\",\"Age population, age 23, male, interpolated\",\"Age population, age 24, female, interpolated\",\"Age population, age 24, male, interpolated\",\"Age population, age 25, female, interpolated\",\"Age population, age 25, male, interpolated\",\"AIDS estimated deaths (UNAIDS estimates)\",\"Antiretroviral therapy coverage (% of people living with HIV)\",\"Antiretroviral therapy coverage for PMTCT (% of pregnant women living with HIV)\",\"ARI treatment (% of children under 5 taken to a health provider)\",\"Birth rate, crude (per 1,000 people)\",\"Births attended by skilled health staff (% of total)\",\"Capital health expenditure (% of GDP)\",\"Cause of death, by communicable diseases and maternal, prenatal and nutrition conditions (% of total)\",\"Cause of death, by injury (% of total)\",\"Cause of death, by non-communicable diseases (% of total)\",\"Children (0-14) living with HIV\",\"Children (ages 0-14) newly infected with HIV\",\"Children orphaned by HIV/AIDS\",\"Children with fever receiving antimalarial drugs (% of children under age 5 with fever)\",\"Community health workers (per 1,000 people)\",\"Completeness of birth registration (%)\",\"Completeness of birth registration, female (%)\",\"Completeness of birth registration, male (%)\",\"Completeness of birth registration, rural (%)\",\"Completeness of birth registration, urban (%)\",\"Completeness of death registration with cause-of-death information (%)\",\"Comprehensive correct knowledge of HIV/AIDS, ages 15-24, female (2 prevent ways and reject 3 misconceptions)\",\"Comprehensive correct knowledge of HIV/AIDS, ages 15-24, male (2 prevent ways and reject 3 misconceptions)\",\"Comprehensive correct knowledge of HIV/AIDS, ages 15-49, female (2 prevent ways and reject 3 misconceptions)\",\"Comprehensive correct knowledge of HIV/AIDS, ages 15-49, male (2 prevent ways and reject 3 misconceptions)\",\"Condom use at last high-risk sex, adult female (% ages 15-49)\",\"Condom use at last high-risk sex, adult male (% ages 15-49)\",\"Condom use, population ages 15-24, female (% of females ages 15-24)\",\"Condom use, population ages 15-24, male (% of males ages 15-24)\",\"Consumption of iodized salt (% of households)\",\"Contraceptive prevalence, any method (% of married women ages 15-49)\",\"Contraceptive prevalence, any method (% of sexually active unmarried women ages 15-49)\",\"Contraceptive prevalence, any modern method (% of married women ages 15-49)\",\"Contraceptive prevalence, any modern method (% of sexually active unmarried women ages 15-49)\",\"Current health expenditure (% of GDP)\",\"Current health expenditure per capita (current US$)\",\"Current health expenditure per capita, PPP (current international $)\",\"Death rate, crude (per 1,000 people)\",\"Demand for family planning satisfied by any methods (% of married women with demand for family planning)\",\"Demand for family planning satisfied by modern methods (% of married women with demand for family planning)\",\"Diabetes prevalence (% of population ages 20 to 79)\",\"Diarrhea treatment (% of children under 5 receiving oral rehydration and continued feeding)\",\"Diarrhea treatment (% of children under 5 who received ORS packet)\",\"Domestic general government health expenditure (% of current health expenditure)\",\"Domestic general government health expenditure (% of GDP)\",\"Domestic general government health expenditure (% of general government expenditure)\",\"Domestic general government health expenditure per capita (current US$)\",\"Domestic general government health expenditure per capita, PPP (current international $)\",\"Domestic private health expenditure (% of current health expenditure)\",\"Domestic private health expenditure per capita (current US$)\",\"Domestic private health expenditure per capita, PPP  (current international $)\",\"Exclusive breastfeeding (% of children under 6 months)\",\"External health expenditure (% of current health expenditure)\",\"External health expenditure channeled through government (% of external health expenditure)\",\"External health expenditure per capita (current US$)\",\"External health expenditure per capita, PPP (current international $)\",\"Female headed households (% of households with a female head)\",\"Fertility rate, total (births per woman)\",\"GNI per capita, Atlas method (current US$)\",\"Hospital beds (per 1,000 people)\",\"Human capital index (HCI) (scale 0-1)\",\"Human capital index (HCI), female (scale 0-1)\",\"Human capital index (HCI), female, lower bound (scale 0-1)\",\"Human capital index (HCI), female, upper bound (scale 0-1)\",\"Human capital index (HCI), lower bound (scale 0-1)\",\"Human capital index (HCI), male (scale 0-1)\",\"Human capital index (HCI), male, lower bound (scale 0-1)\",\"Human capital index (HCI), male, upper bound (scale 0-1)\",\"Human capital index (HCI), upper bound (scale 0-1)\",\"Immunization, BCG (% of one-year-old children)\",\"Immunization, DPT (% of children ages 12-23 months)\",\"Immunization, HepB3 (% of one-year-old children)\",\"Immunization, Hib3 (% of children ages 12-23 months)\",\"Immunization, measles (% of children ages 12-23 months)\",\"Immunization, measles second dose (% of children by the nationally recommended age)\",\"Immunization, Pol3 (% of one-year-old children)\",\"Incidence of HIV, ages 15-24 (per 1,000 uninfected population ages 15-24)\",\"Incidence of HIV, ages 15-49 (per 1,000 uninfected population ages 15-49)\",\"Incidence of HIV, ages 50+ (per 1,000 uninfected population ages 50+)\",\"Incidence of HIV, all (per 1,000 uninfected population)\",\"Incidence of malaria (per 1,000 population at risk)\",\"Incidence of tuberculosis (per 100,000 people)\",\"Infant and young child feeding practices, all 3 IYCF (% children ages 6-23 months)\",\"Intermittent preventive treatment (IPT) of malaria in pregnancy (% of pregnant women)\",\"Labor force, female (% of total labor force)\",\"Labor force, total\",\"Life expectancy at birth, female (years)\",\"Life expectancy at birth, male (years)\",\"Life expectancy at birth, total (years)\",\"Lifetime risk of maternal death (%)\",\"Lifetime risk of maternal death (1 in: rate varies by country)\",\"Literacy rate, adult female (% of females ages 15 and above)\",\"Literacy rate, adult male (% of males ages 15 and above)\",\"Literacy rate, adult total (% of people ages 15 and above)\",\"Literacy rate, youth male (% of males ages 15-24)\",\"Literacy rate, youth total (% of people ages 15-24)\",\"Low-birthweight babies (% of births)\",\"Malaria cases reported\",\"Maternal leave benefits (% of wages paid in covered period)\",\"Maternal mortality ratio (modeled estimate, per 100,000 live births)\",\"Maternal mortality ratio (national estimate, per 100,000 live births)\",\"Mortality caused by road traffic injury (per 100,000 people)\",\"Mortality caused by road traffic injury, female (per 100,000 female population)\",\"Mortality caused by road traffic injury, male (per 100,000 male population)\",\"Mortality from CVD, cancer, diabetes or CRD between exact ages 30 and 70 (%)\",\"Mortality from CVD, cancer, diabetes or CRD between exact ages 30 and 70, female (%)\",\"Mortality from CVD, cancer, diabetes or CRD between exact ages 30 and 70, male (%)\",\"Mortality rate attributed to household and ambient air pollution (per 100,000 population)\",\"Mortality rate attributed to household and ambient air pollution, age-standardized, female (per 100,000 female population)\",\"Mortality rate attributed to household and ambient air pollution, age-standardized, male (per 100,000 male population)\",\"Mortality rate attributed to unintentional poisoning (per 100,000 population)\",\"Mortality rate attributed to unintentional poisoning, female (per 100,000 female population)\",\"Mortality rate attributed to unintentional poisoning, male (per 100,000 male population)\",\"Mortality rate attributed to unsafe water, unsafe sanitation and lack of hygiene (per 100,000 population)\",\"Mortality rate attributed to unsafe water, unsafe sanitation and lack of hygiene, female (per 100,000 female population)\",\"Mortality rate attributed to unsafe water, unsafe sanitation and lack of hygiene, male (per 100,000 male population)\",\"Mortality rate, adult, female (per 1,000 female adults)\",\"Mortality rate, adult, male (per 1,000 male adults)\",\"Mortality rate, infant (per 1,000 live births)\",\"Mortality rate, infant, female (per 1,000 live births)\",\"Mortality rate, infant, male (per 1,000 live births)\",\"Mortality rate, neonatal (per 1,000 live births)\",\"Mortality rate, under-5 (per 1,000)\",\"Mortality rate, under-5, female (per 1,000)\",\"Mortality rate, under-5, male (per 1,000)\",\"Net migration\",\"Newborns protected against tetanus (%)\",\"Number of deaths ages 10-14 years\",\"Number of deaths ages 10-14 years, female\",\"Number of deaths ages 10-14 years, male\",\"Number of deaths ages 10-19 years\",\"Number of deaths ages 10-19 years, female\",\"Number of deaths ages 10-19 years, male\",\"Number of deaths ages 15-19 years\",\"Number of deaths ages 15-19 years, female\",\"Number of deaths ages 15-19 years, male\",\"Number of deaths ages 20-24 years\",\"Number of deaths ages 20-24 years, female\",\"Number of deaths ages 20-24 years, male\",\"Number of deaths ages 5-9 years\",\"Number of deaths ages 5-9 years, female\",\"Number of deaths ages 5-9 years, male\",\"Number of infant deaths\",\"Number of infant deaths, female\",\"Number of infant deaths, male\",\"Number of maternal deaths\",\"Number of neonatal deaths\",\"Number of people pushed below the $1.90 ($ 2011 PPP) poverty line by out-of-pocket health care expenditure\",\"Number of people pushed below the $3.20 ($ 2011 PPP) poverty line by out-of-pocket health care expenditure\",\"Number of people pushed further below the $1.90 ($ 2011 PPP) poverty line by out-of-pocket health care expenditure\",\"Number of people pushed further below the $3.20 ($ 2011 PPP) poverty line by out-of-pocket health care expenditure\",\"Number of people spending more than 10% of household consumption or income on out-of-pocket health care expenditure\",\"Number of people spending more than 25% of household consumption or income on out-of-pocket health care expenditure\",\"Number of people who are undernourished\",\"Number of stillbirths\",\"Number of surgical procedures (per 100,000 population)\",\"Number of under-five deaths\",\"Number of under-five deaths, female\",\"Number of under-five deaths, male\",\"Nurses and midwives (per 1,000 people)\",\"Out-of-pocket expenditure (% of current health expenditure)\",\"Out-of-pocket expenditure per capita (current US$)\",\"Out-of-pocket expenditure per capita, PPP (current international $)\",\"People practicing open defecation (% of population)\",\"People practicing open defecation, rural (% of rural population)\",\"People practicing open defecation, urban (% of urban population)\",\"People using at least basic drinking water services (% of population)\",\"People using at least basic drinking water services, rural (% of rural population)\",\"People using at least basic drinking water services, urban (% of urban population)\",\"People using at least basic sanitation services (% of population)\",\"People using at least basic sanitation services, rural (% of rural population)\",\"People using at least basic sanitation services, urban  (% of urban population)\",\"People using safely managed drinking water services (% of population)\",\"People using safely managed drinking water services, rural (% of rural population)\",\"People using safely managed drinking water services, urban (% of urban population)\",\"People using safely managed sanitation services (% of population)\",\"People using safely managed sanitation services, rural (% of rural population)\",\"People using safely managed sanitation services, urban  (% of urban population)\",\"People with basic handwashing facilities including soap and water (% of population)\",\"People with basic handwashing facilities including soap and water, rural (% of rural population)\",\"People with basic handwashing facilities including soap and water, urban (% of urban population)\",\"Physicians (per 1,000 people)\",\"Population ages 00-04, female\",\"Population ages 00-04, female (% of female population)\",\"Population ages 00-04, male\",\"Population ages 00-04, male (% of male population)\",\"Population ages 00-14, total\",\"Population ages 0-14 (% of total population)\",\"Population ages 0-14, female\",\"Population ages 0-14, female (% of female population)\",\"Population ages 0-14, male\",\"Population ages 0-14, male (% of male population)\",\"Population ages 05-09, female\",\"Population ages 05-09, female (% of female population)\",\"Population ages 05-09, male\",\"Population ages 05-09, male (% of male population)\",\"Population ages 10-14, female\",\"Population ages 10-14, female (% of female population)\",\"Population ages 10-14, male\",\"Population ages 10-14, male (% of male population)\",\"Population ages 15-19, female\",\"Population ages 15-19, female (% of female population)\",\"Population ages 15-19, male\",\"Population ages 15-19, male (% of male population)\",\"Population ages 15-64 (% of total population)\",\"Population ages 15-64, female\",\"Population ages 15-64, female (% of female population)\",\"Population ages 15-64, male\",\"Population ages 15-64, male (% of male population)\",\"Population ages 15-64, total\",\"Population ages 20-24, female\",\"Population ages 20-24, female (% of female population)\",\"Population ages 20-24, male\",\"Population ages 20-24, male (% of male population)\",\"Population ages 25-29, female\",\"Population ages 25-29, female (% of female population)\",\"Population ages 25-29, male\",\"Population ages 25-29, male (% of male population)\",\"Population ages 30-34, female\",\"Population ages 30-34, female (% of female population)\",\"Population ages 30-34, male\",\"Population ages 30-34, male (% of male population)\",\"Population ages 35-39, female\",\"Population ages 35-39, female (% of female population)\",\"Population ages 35-39, male\",\"Population ages 35-39, male (% of male population)\",\"Population ages 40-44, female\",\"Population ages 40-44, female (% of female population)\",\"Population ages 40-44, male\",\"Population ages 40-44, male (% of male population)\",\"Population ages 45-49, female\",\"Population ages 45-49, female (% of female population)\",\"Population ages 45-49, male\",\"Population ages 45-49, male (% of male population)\",\"Population ages 50-54, female\",\"Population ages 50-54, female (% of female population)\",\"Population ages 50-54, male\",\"Population ages 50-54, male (% of male population)\",\"Population ages 55-59, female\",\"Population ages 55-59, female (% of female population)\",\"Population ages 55-59, male\",\"Population ages 55-59, male (% of male population)\",\"Population ages 60-64, female\",\"Population ages 60-64, female (% of female population)\",\"Population ages 60-64, male\",\"Population ages 60-64, male (% of male population)\",\"Population ages 65 and above (% of total population)\",\"Population ages 65 and above, female\",\"Population ages 65 and above, female (% of female population)\",\"Population ages 65 and above, male\",\"Population ages 65 and above, male (% of male population)\",\"Population ages 65 and above, total\",\"Population ages 65-69, female\",\"Population ages 65-69, female (% of female population)\",\"Population ages 65-69, male\",\"Population ages 65-69, male (% of male population)\",\"Population ages 70-74, female\",\"Population ages 70-74, female (% of female population)\",\"Population ages 70-74, male\",\"Population ages 70-74, male (% of male population)\",\"Population ages 75-79, female\",\"Population ages 75-79, female (% of female population)\",\"Population ages 75-79, male\",\"Population ages 75-79, male (% of male population)\",\"Population ages 80 and above, female\",\"Population ages 80 and above, male\",\"Population ages 80 and above, male (% of male population)\",\"Population ages 80 and older, female (% of female population)\",\"Population growth (annual %)\",\"Population, female\",\"Population, female (% of total population)\",\"Population, male\",\"Population, male (% of total population)\",\"Population, total\",\"Postnatal care coverage (% mothers)\",\"Poverty headcount ratio at national poverty line (% of population)\",\"Pregnant women receiving prenatal care (%)\",\"Pregnant women receiving prenatal care of at least four visits (% of pregnant women)\",\"Prevalence of anemia among children (% of children ages 6-59 months)\",\"Prevalence of anemia among non-pregnant women (% of women ages 15-49)\",\"Prevalence of anemia among pregnant women (%)\",\"Prevalence of anemia among women of reproductive age (% of women ages 15-49)\",\"Prevalence of current tobacco use (% of adults)\",\"Prevalence of current tobacco use, females (% of female adults)\",\"Prevalence of current tobacco use, males (% of male adults)\",\"Prevalence of HIV, female (% ages 15-24)\",\"Prevalence of HIV, male (% ages 15-24)\",\"Prevalence of HIV, total (% of population ages 15-49)\",\"Prevalence of hypertension (% of adults ages 30-79)\",\"Prevalence of hypertension, female (% of female adults ages 30-79)\",\"Prevalence of hypertension, male (% of male adults ages 30-79)\",\"Prevalence of overweight (% of adults)\",\"Prevalence of overweight (% of children under 5)\",\"Prevalence of overweight (modeled estimate, % of children under 5)\",\"Prevalence of overweight, female (% of children under 5)\",\"Prevalence of overweight, female (% of female adults)\",\"Prevalence of overweight, male (% of children under 5)\",\"Prevalence of overweight, male (% of male adults)\",\"Prevalence of severe wasting, weight for height (% of children under 5)\",\"Prevalence of severe wasting, weight for height, female (% of children under 5)\",\"Prevalence of severe wasting, weight for height, male (% of children under 5)\",\"Prevalence of stunting, height for age (% of children under 5)\",\"Prevalence of stunting, height for age (modeled estimate, % of children under 5)\",\"Prevalence of stunting, height for age, female (% of children under 5)\",\"Prevalence of stunting, height for age, male (% of children under 5)\",\"Prevalence of syphilis (% of women attending antenatal care)\",\"Prevalence of undernourishment (% of population)\",\"Prevalence of underweight, weight for age (% of children under 5)\",\"Prevalence of underweight, weight for age, female (% of children under 5)\",\"Prevalence of underweight, weight for age, male (% of children under 5)\",\"Prevalence of wasting, weight for height (% of children under 5)\",\"Prevalence of wasting, weight for height, female (% of children under 5)\",\"Prevalence of wasting, weight for height, male (% of children under 5)\",\"Primary completion rate, female (% of relevant age group)\",\"Primary completion rate, male (% of relevant age group)\",\"Primary completion rate, total (% of relevant age group)\",\"Probability of dying among adolescents ages 10-14 years (per 1,000)\",\"Probability of dying among adolescents ages 10-14 years, female (per 1,000)\",\"Probability of dying among adolescents ages 10-14 years, male (per 1,000)\",\"Probability of dying among adolescents ages 10-19 years (per 1,000)\",\"Probability of dying among adolescents ages 10-19 years, female (per 1,000)\",\"Probability of dying among adolescents ages 10-19 years, male (per 1,000)\",\"Probability of dying among adolescents ages 15-19 years (per 1,000)\",\"Probability of dying among adolescents ages 15-19 years, female (per 1,000)\",\"Probability of dying among adolescents ages 15-19 years, male (per 1,000)\",\"Probability of dying among children ages 5-9 years (per 1,000)\",\"Probability of dying among children ages 5-9 years, female (per 1,000)\",\"Probability of dying among children ages 5-9 years, male (per 1,000)\",\"Probability of dying among youth ages 20-24 years (per 1,000)\",\"Probability of dying among youth ages 20-24 years, female (per 1,000)\",\"Probability of dying among youth ages 20-24 years, male (per 1,000)\",\"Proportion of population pushed below the $1.90 ($ 2011 PPP) poverty line by out-of-pocket health care expenditure (%)\",\"Proportion of population pushed below the $3.20 ($ 2011 PPP) poverty line by out-of-pocket health care expenditure (%)\",\"Proportion of population pushed further below the $1.90 ($ 2011 PPP) poverty line by out-of-pocket health care expenditure (%)\",\"Proportion of population pushed further below the $3.20 ($ 2011 PPP) poverty line by out-of-pocket health care expenditure (%)\",\"Proportion of population spending more than 10% of household consumption or income on out-of-pocket health care expenditure (%)\",\"Proportion of population spending more than 25% of household consumption or income on out-of-pocket health care expenditure (%)\",\"Public spending on education, total (% of GDP)\",\"Ratio of school attendance of orphans to school attendance of non-orphans ages 10-14\",\"Ratio of young literate females to males (% ages 15-24)\",\"Risk of catastrophic expenditure for surgical care (% of people at risk)\",\"Risk of impoverishing expenditure for surgical care (% of people at risk)\",\"Rural population\",\"Rural population (% of total population)\",\"Rural population growth (annual %)\",\"Rural poverty headcount ratio at national poverty lines (% of rural population)\",\"School enrollment, primary (% gross)\",\"School enrollment, primary (% net)\",\"School enrollment, primary, female (% gross)\",\"School enrollment, primary, female (% net)\",\"School enrollment, primary, male (% gross)\",\"School enrollment, primary, male (% net)\",\"School enrollment, secondary (% gross)\",\"School enrollment, secondary (% net)\",\"School enrollment, secondary, female (% gross)\",\"School enrollment, secondary, female (% net)\",\"School enrollment, secondary, male (% gross)\",\"School enrollment, secondary, male (% net)\",\"School enrollment, tertiary (% gross)\",\"School enrollment, tertiary, female (% gross)\",\"Sex ratio at birth (male births per female births)\",\"Share of women employed in the nonagricultural sector (% of total nonagricultural employment)\",\"Specialist surgical workforce (per 100,000 population)\",\"Stillbirth rate (per 1,000 total births)\",\"Suicide mortality rate (per 100,000 population)\",\"Suicide mortality rate, female (per 100,000 female population)\",\"Suicide mortality rate, male (per 100,000 male population)\",\"Survival to age 65, female (% of cohort)\",\"Survival to age 65, male (% of cohort)\",\"Teenage mothers (% of women ages 15-19 who have had children or are currently pregnant)\",\"Total alcohol consumption per capita (liters of pure alcohol, projected estimates, 15+ years of age)\",\"Total alcohol consumption per capita, female (liters of pure alcohol, projected estimates, female 15+ years of age)\",\"Total alcohol consumption per capita, male (liters of pure alcohol, projected estimates, male 15+ years of age)\",\"Treatment for hypertension (% of adults ages 30-79 with hypertension)\",\"Treatment for hypertension, female (% of female adults ages 30-79 with hypertension)\",\"Treatment for hypertension, male (% of male adults ages 30-79 with hypertension)\",\"Tuberculosis case detection rate (%, all forms)\",\"Tuberculosis death rate (per 100,000 people)\",\"Tuberculosis treatment success rate (% of new cases)\",\"UHC service coverage index\",\"Unemployment, female (% of female labor force)\",\"Unemployment, male (% of male labor force)\",\"Unemployment, total (% of total labor force)\",\"Unmet need for contraception (% of married women ages 15-49)\",\"Urban population\",\"Urban population (% of total population)\",\"Urban population growth (annual %)\",\"Urban poverty headcount ratio at national poverty lines (% of urban population)\",\"Use of insecticide-treated bed nets (% of under-5 population)\",\"Vitamin A supplementation coverage rate (% of children ages 6-59 months)\",\"Wanted fertility rate (births per woman)\",\"Women who were first married by age 15 (% of women ages 20-24)\",\"Women who were first married by age 18 (% of women ages 20-24)\",\"Women's share of population ages 15+ living with HIV (%)\",\"Young people (ages 15-24) newly infected with HIV\",\"hdi\",\"Income Group\",\"System of trade\",\"Government Accounting concept\",\"Lending category\"],\"xaxis\":\"x\",\"y\":[0,183,52,56,54,57,183,183,6,6,6,6,6,6,6,6,6,6,6,6,6,6,6,6,6,6,6,6,6,6,6,6,6,6,6,6,6,6,6,6,6,6,6,6,6,6,6,6,6,6,6,6,6,6,6,6,6,6,6,6,6,6,6,56,53,95,181,183,182,183,183,183,183,92,95,57,183,183,183,180,180,183,183,183,183,183,183,183,183,183,183,183,183,178,180,178,180,183,183,183,183,183,183,183,183,181,183,183,183,183,183,183,183,183,183,183,183,183,183,179,183,11,183,17,38,38,38,17,38,38,38,17,183,183,183,183,183,183,183,58,57,58,55,183,1,183,181,183,11,183,183,183,183,183,169,169,169,169,169,183,183,183,183,183,183,183,183,183,183,183,183,183,183,183,183,183,183,183,183,183,183,183,183,183,183,183,183,183,183,183,183,183,183,183,183,183,183,183,183,183,183,183,183,183,183,183,183,183,183,183,183,183,183,183,183,183,183,183,183,183,183,183,183,183,183,183,18,35,26,12,31,25,15,33,26,74,123,106,72,111,91,109,109,111,183,6,6,6,6,6,6,6,6,6,6,6,6,6,6,6,6,6,6,6,6,6,6,6,6,6,6,6,6,6,6,6,6,6,6,6,6,6,6,6,6,6,6,6,6,6,6,6,6,6,6,6,6,6,6,6,6,6,6,6,6,6,6,6,6,6,6,6,6,6,6,6,6,6,6,6,6,6,6,6,6,6,6,6,6,6,6,1,6,6,6,6,1,183,167,180,181,183,183,183,183,183,183,183,54,54,53,183,183,183,183,180,36,180,183,180,183,180,180,180,180,37,180,180,183,183,180,180,180,180,180,180,127,127,127,183,183,183,183,183,183,183,183,183,183,183,183,183,183,183,183,183,183,183,183,183,150,183,169,52,52,1,1,4,183,121,183,121,183,121,183,136,183,136,183,136,183,134,134,183,183,183,183,183,183,183,183,183,183,183,183,183,183,183,183,7,1,183,183,183,183,10,179,1,1,1,183,181,183,183,179,178,54,58,0,1,23,33,48],\"yaxis\":\"y\",\"type\":\"bar\"}],                        {\"template\":{\"data\":{\"bar\":[{\"error_x\":{\"color\":\"#2a3f5f\"},\"error_y\":{\"color\":\"#2a3f5f\"},\"marker\":{\"line\":{\"color\":\"#E5ECF6\",\"width\":0.5},\"pattern\":{\"fillmode\":\"overlay\",\"size\":10,\"solidity\":0.2}},\"type\":\"bar\"}],\"barpolar\":[{\"marker\":{\"line\":{\"color\":\"#E5ECF6\",\"width\":0.5},\"pattern\":{\"fillmode\":\"overlay\",\"size\":10,\"solidity\":0.2}},\"type\":\"barpolar\"}],\"carpet\":[{\"aaxis\":{\"endlinecolor\":\"#2a3f5f\",\"gridcolor\":\"white\",\"linecolor\":\"white\",\"minorgridcolor\":\"white\",\"startlinecolor\":\"#2a3f5f\"},\"baxis\":{\"endlinecolor\":\"#2a3f5f\",\"gridcolor\":\"white\",\"linecolor\":\"white\",\"minorgridcolor\":\"white\",\"startlinecolor\":\"#2a3f5f\"},\"type\":\"carpet\"}],\"choropleth\":[{\"colorbar\":{\"outlinewidth\":0,\"ticks\":\"\"},\"type\":\"choropleth\"}],\"contour\":[{\"colorbar\":{\"outlinewidth\":0,\"ticks\":\"\"},\"colorscale\":[[0.0,\"#0d0887\"],[0.1111111111111111,\"#46039f\"],[0.2222222222222222,\"#7201a8\"],[0.3333333333333333,\"#9c179e\"],[0.4444444444444444,\"#bd3786\"],[0.5555555555555556,\"#d8576b\"],[0.6666666666666666,\"#ed7953\"],[0.7777777777777778,\"#fb9f3a\"],[0.8888888888888888,\"#fdca26\"],[1.0,\"#f0f921\"]],\"type\":\"contour\"}],\"contourcarpet\":[{\"colorbar\":{\"outlinewidth\":0,\"ticks\":\"\"},\"type\":\"contourcarpet\"}],\"heatmap\":[{\"colorbar\":{\"outlinewidth\":0,\"ticks\":\"\"},\"colorscale\":[[0.0,\"#0d0887\"],[0.1111111111111111,\"#46039f\"],[0.2222222222222222,\"#7201a8\"],[0.3333333333333333,\"#9c179e\"],[0.4444444444444444,\"#bd3786\"],[0.5555555555555556,\"#d8576b\"],[0.6666666666666666,\"#ed7953\"],[0.7777777777777778,\"#fb9f3a\"],[0.8888888888888888,\"#fdca26\"],[1.0,\"#f0f921\"]],\"type\":\"heatmap\"}],\"heatmapgl\":[{\"colorbar\":{\"outlinewidth\":0,\"ticks\":\"\"},\"colorscale\":[[0.0,\"#0d0887\"],[0.1111111111111111,\"#46039f\"],[0.2222222222222222,\"#7201a8\"],[0.3333333333333333,\"#9c179e\"],[0.4444444444444444,\"#bd3786\"],[0.5555555555555556,\"#d8576b\"],[0.6666666666666666,\"#ed7953\"],[0.7777777777777778,\"#fb9f3a\"],[0.8888888888888888,\"#fdca26\"],[1.0,\"#f0f921\"]],\"type\":\"heatmapgl\"}],\"histogram\":[{\"marker\":{\"pattern\":{\"fillmode\":\"overlay\",\"size\":10,\"solidity\":0.2}},\"type\":\"histogram\"}],\"histogram2d\":[{\"colorbar\":{\"outlinewidth\":0,\"ticks\":\"\"},\"colorscale\":[[0.0,\"#0d0887\"],[0.1111111111111111,\"#46039f\"],[0.2222222222222222,\"#7201a8\"],[0.3333333333333333,\"#9c179e\"],[0.4444444444444444,\"#bd3786\"],[0.5555555555555556,\"#d8576b\"],[0.6666666666666666,\"#ed7953\"],[0.7777777777777778,\"#fb9f3a\"],[0.8888888888888888,\"#fdca26\"],[1.0,\"#f0f921\"]],\"type\":\"histogram2d\"}],\"histogram2dcontour\":[{\"colorbar\":{\"outlinewidth\":0,\"ticks\":\"\"},\"colorscale\":[[0.0,\"#0d0887\"],[0.1111111111111111,\"#46039f\"],[0.2222222222222222,\"#7201a8\"],[0.3333333333333333,\"#9c179e\"],[0.4444444444444444,\"#bd3786\"],[0.5555555555555556,\"#d8576b\"],[0.6666666666666666,\"#ed7953\"],[0.7777777777777778,\"#fb9f3a\"],[0.8888888888888888,\"#fdca26\"],[1.0,\"#f0f921\"]],\"type\":\"histogram2dcontour\"}],\"mesh3d\":[{\"colorbar\":{\"outlinewidth\":0,\"ticks\":\"\"},\"type\":\"mesh3d\"}],\"parcoords\":[{\"line\":{\"colorbar\":{\"outlinewidth\":0,\"ticks\":\"\"}},\"type\":\"parcoords\"}],\"pie\":[{\"automargin\":true,\"type\":\"pie\"}],\"scatter\":[{\"marker\":{\"colorbar\":{\"outlinewidth\":0,\"ticks\":\"\"}},\"type\":\"scatter\"}],\"scatter3d\":[{\"line\":{\"colorbar\":{\"outlinewidth\":0,\"ticks\":\"\"}},\"marker\":{\"colorbar\":{\"outlinewidth\":0,\"ticks\":\"\"}},\"type\":\"scatter3d\"}],\"scattercarpet\":[{\"marker\":{\"colorbar\":{\"outlinewidth\":0,\"ticks\":\"\"}},\"type\":\"scattercarpet\"}],\"scattergeo\":[{\"marker\":{\"colorbar\":{\"outlinewidth\":0,\"ticks\":\"\"}},\"type\":\"scattergeo\"}],\"scattergl\":[{\"marker\":{\"colorbar\":{\"outlinewidth\":0,\"ticks\":\"\"}},\"type\":\"scattergl\"}],\"scattermapbox\":[{\"marker\":{\"colorbar\":{\"outlinewidth\":0,\"ticks\":\"\"}},\"type\":\"scattermapbox\"}],\"scatterpolar\":[{\"marker\":{\"colorbar\":{\"outlinewidth\":0,\"ticks\":\"\"}},\"type\":\"scatterpolar\"}],\"scatterpolargl\":[{\"marker\":{\"colorbar\":{\"outlinewidth\":0,\"ticks\":\"\"}},\"type\":\"scatterpolargl\"}],\"scatterternary\":[{\"marker\":{\"colorbar\":{\"outlinewidth\":0,\"ticks\":\"\"}},\"type\":\"scatterternary\"}],\"surface\":[{\"colorbar\":{\"outlinewidth\":0,\"ticks\":\"\"},\"colorscale\":[[0.0,\"#0d0887\"],[0.1111111111111111,\"#46039f\"],[0.2222222222222222,\"#7201a8\"],[0.3333333333333333,\"#9c179e\"],[0.4444444444444444,\"#bd3786\"],[0.5555555555555556,\"#d8576b\"],[0.6666666666666666,\"#ed7953\"],[0.7777777777777778,\"#fb9f3a\"],[0.8888888888888888,\"#fdca26\"],[1.0,\"#f0f921\"]],\"type\":\"surface\"}],\"table\":[{\"cells\":{\"fill\":{\"color\":\"#EBF0F8\"},\"line\":{\"color\":\"white\"}},\"header\":{\"fill\":{\"color\":\"#C8D4E3\"},\"line\":{\"color\":\"white\"}},\"type\":\"table\"}]},\"layout\":{\"annotationdefaults\":{\"arrowcolor\":\"#2a3f5f\",\"arrowhead\":0,\"arrowwidth\":1},\"autotypenumbers\":\"strict\",\"coloraxis\":{\"colorbar\":{\"outlinewidth\":0,\"ticks\":\"\"}},\"colorscale\":{\"diverging\":[[0,\"#8e0152\"],[0.1,\"#c51b7d\"],[0.2,\"#de77ae\"],[0.3,\"#f1b6da\"],[0.4,\"#fde0ef\"],[0.5,\"#f7f7f7\"],[0.6,\"#e6f5d0\"],[0.7,\"#b8e186\"],[0.8,\"#7fbc41\"],[0.9,\"#4d9221\"],[1,\"#276419\"]],\"sequential\":[[0.0,\"#0d0887\"],[0.1111111111111111,\"#46039f\"],[0.2222222222222222,\"#7201a8\"],[0.3333333333333333,\"#9c179e\"],[0.4444444444444444,\"#bd3786\"],[0.5555555555555556,\"#d8576b\"],[0.6666666666666666,\"#ed7953\"],[0.7777777777777778,\"#fb9f3a\"],[0.8888888888888888,\"#fdca26\"],[1.0,\"#f0f921\"]],\"sequentialminus\":[[0.0,\"#0d0887\"],[0.1111111111111111,\"#46039f\"],[0.2222222222222222,\"#7201a8\"],[0.3333333333333333,\"#9c179e\"],[0.4444444444444444,\"#bd3786\"],[0.5555555555555556,\"#d8576b\"],[0.6666666666666666,\"#ed7953\"],[0.7777777777777778,\"#fb9f3a\"],[0.8888888888888888,\"#fdca26\"],[1.0,\"#f0f921\"]]},\"colorway\":[\"#636efa\",\"#EF553B\",\"#00cc96\",\"#ab63fa\",\"#FFA15A\",\"#19d3f3\",\"#FF6692\",\"#B6E880\",\"#FF97FF\",\"#FECB52\"],\"font\":{\"color\":\"#2a3f5f\"},\"geo\":{\"bgcolor\":\"white\",\"lakecolor\":\"white\",\"landcolor\":\"#E5ECF6\",\"showlakes\":true,\"showland\":true,\"subunitcolor\":\"white\"},\"hoverlabel\":{\"align\":\"left\"},\"hovermode\":\"closest\",\"mapbox\":{\"style\":\"light\"},\"paper_bgcolor\":\"white\",\"plot_bgcolor\":\"#E5ECF6\",\"polar\":{\"angularaxis\":{\"gridcolor\":\"white\",\"linecolor\":\"white\",\"ticks\":\"\"},\"bgcolor\":\"#E5ECF6\",\"radialaxis\":{\"gridcolor\":\"white\",\"linecolor\":\"white\",\"ticks\":\"\"}},\"scene\":{\"xaxis\":{\"backgroundcolor\":\"#E5ECF6\",\"gridcolor\":\"white\",\"gridwidth\":2,\"linecolor\":\"white\",\"showbackground\":true,\"ticks\":\"\",\"zerolinecolor\":\"white\"},\"yaxis\":{\"backgroundcolor\":\"#E5ECF6\",\"gridcolor\":\"white\",\"gridwidth\":2,\"linecolor\":\"white\",\"showbackground\":true,\"ticks\":\"\",\"zerolinecolor\":\"white\"},\"zaxis\":{\"backgroundcolor\":\"#E5ECF6\",\"gridcolor\":\"white\",\"gridwidth\":2,\"linecolor\":\"white\",\"showbackground\":true,\"ticks\":\"\",\"zerolinecolor\":\"white\"}},\"shapedefaults\":{\"line\":{\"color\":\"#2a3f5f\"}},\"ternary\":{\"aaxis\":{\"gridcolor\":\"white\",\"linecolor\":\"white\",\"ticks\":\"\"},\"baxis\":{\"gridcolor\":\"white\",\"linecolor\":\"white\",\"ticks\":\"\"},\"bgcolor\":\"#E5ECF6\",\"caxis\":{\"gridcolor\":\"white\",\"linecolor\":\"white\",\"ticks\":\"\"}},\"title\":{\"x\":0.05},\"xaxis\":{\"automargin\":true,\"gridcolor\":\"white\",\"linecolor\":\"white\",\"ticks\":\"\",\"title\":{\"standoff\":15},\"zerolinecolor\":\"white\",\"zerolinewidth\":2},\"yaxis\":{\"automargin\":true,\"gridcolor\":\"white\",\"linecolor\":\"white\",\"ticks\":\"\",\"title\":{\"standoff\":15},\"zerolinecolor\":\"white\",\"zerolinewidth\":2}}},\"xaxis\":{\"anchor\":\"y\",\"domain\":[0.0,1.0],\"title\":{\"text\":\"index\"}},\"yaxis\":{\"anchor\":\"x\",\"domain\":[0.0,1.0],\"title\":{\"text\":\"value\"}},\"legend\":{\"title\":{\"text\":\"variable\"},\"tracegroupgap\":0},\"title\":{\"text\":\"Number of missing values for each Attribute\"},\"barmode\":\"relative\"},                        {\"responsive\": true}                    ).then(function(){\n",
       "                            \n",
       "var gd = document.getElementById('237f618b-608b-4705-add6-ce9f70100b54');\n",
       "var x = new MutationObserver(function (mutations, observer) {{\n",
       "        var display = window.getComputedStyle(gd).display;\n",
       "        if (!display || display === 'none') {{\n",
       "            console.log([gd, 'removed!']);\n",
       "            Plotly.purge(gd);\n",
       "            observer.disconnect();\n",
       "        }}\n",
       "}});\n",
       "\n",
       "// Listen for the removal of the full notebook cells\n",
       "var notebookContainer = gd.closest('#notebook-container');\n",
       "if (notebookContainer) {{\n",
       "    x.observe(notebookContainer, {childList: true});\n",
       "}}\n",
       "\n",
       "// Listen for the clearing of the current output cell\n",
       "var outputEl = gd.closest('.output');\n",
       "if (outputEl) {{\n",
       "    x.observe(outputEl, {childList: true});\n",
       "}}\n",
       "\n",
       "                        })                };                });            </script>        </div>"
      ]
     },
     "metadata": {},
     "output_type": "display_data"
    }
   ],
   "source": [
    "df.isna().sum().plot.bar(title='Number of missing values for each Attribute')"
   ]
  },
  {
   "cell_type": "code",
   "execution_count": 274,
   "metadata": {},
   "outputs": [],
   "source": [
    "df = df.loc[:, df.isin([np.nan]).mean() < .2]"
   ]
  },
  {
   "cell_type": "markdown",
   "metadata": {},
   "source": [
    "Let's look at missing values now, considering we've removed atributes with more than 20% missing values\n",
    "\n",
    "We still have approximately 175 attributes (excluding our label, hdi and the country name)\n"
   ]
  },
  {
   "cell_type": "code",
   "execution_count": 275,
   "metadata": {},
   "outputs": [
    {
     "data": {
      "application/vnd.plotly.v1+json": {
       "config": {
        "plotlyServerURL": "https://plot.ly"
       },
       "data": [
        {
         "alignmentgroup": "True",
         "hovertemplate": "variable=0<br>index=%{x}<br>value=%{y}<extra></extra>",
         "legendgroup": "0",
         "marker": {
          "color": "#636efa",
          "pattern": {
           "shape": ""
          }
         },
         "name": "0",
         "offsetgroup": "0",
         "orientation": "v",
         "showlegend": true,
         "textposition": "auto",
         "type": "bar",
         "x": [
          "Country Name",
          "Age dependency ratio (% of working-age population)",
          "Age dependency ratio, old",
          "Age dependency ratio, young",
          "Age population, age 00, female, interpolated",
          "Age population, age 00, male, interpolated",
          "Age population, age 01, female, interpolated",
          "Age population, age 01, male, interpolated",
          "Age population, age 02, female, interpolated",
          "Age population, age 02, male, interpolated",
          "Age population, age 03, female, interpolated",
          "Age population, age 03, male, interpolated",
          "Age population, age 04, female, interpolated",
          "Age population, age 04, male, interpolated",
          "Age population, age 05, female, interpolated",
          "Age population, age 05, male, interpolated",
          "Age population, age 06, female, interpolated",
          "Age population, age 06, male, interpolated",
          "Age population, age 07, female, interpolated",
          "Age population, age 07, male, interpolated",
          "Age population, age 08, female, interpolated",
          "Age population, age 08, male, interpolated",
          "Age population, age 09, female, interpolated",
          "Age population, age 09, male, interpolated",
          "Age population, age 10, female, interpolated",
          "Age population, age 10, male, interpolated",
          "Age population, age 11, female, interpolated",
          "Age population, age 11, male, interpolated",
          "Age population, age 12, female, interpolated",
          "Age population, age 12, male, interpolated",
          "Age population, age 13, female, interpolated",
          "Age population, age 13, male, interpolated",
          "Age population, age 14, female, interpolated",
          "Age population, age 14, male, interpolated",
          "Age population, age 15, female, interpolated",
          "Age population, age 15, male, interpolated",
          "Age population, age 16, female, interpolated",
          "Age population, age 16, male, interpolated",
          "Age population, age 17, female, interpolated",
          "Age population, age 17, male, interpolated",
          "Age population, age 18, female, interpolated",
          "Age population, age 18, male, interpolated",
          "Age population, age 19, female, interpolated",
          "Age population, age 19, male, interpolated",
          "Age population, age 20, female, interpolated",
          "Age population, age 20, male, interpolated",
          "Age population, age 21, female, interpolated",
          "Age population, age 21, male, interpolated",
          "Age population, age 22, female, interpolated",
          "Age population, age 22, male, interpolated",
          "Age population, age 23, female, interpolated",
          "Age population, age 23, male, interpolated",
          "Age population, age 24, female, interpolated",
          "Age population, age 24, male, interpolated",
          "Age population, age 25, female, interpolated",
          "Age population, age 25, male, interpolated",
          "GNI per capita, Atlas method (current US$)",
          "Human capital index (HCI) (scale 0-1)",
          "Human capital index (HCI), lower bound (scale 0-1)",
          "Human capital index (HCI), upper bound (scale 0-1)",
          "Incidence of tuberculosis (per 100,000 people)",
          "Labor force, total",
          "People practicing open defecation (% of population)",
          "People practicing open defecation, rural (% of rural population)",
          "People practicing open defecation, urban (% of urban population)",
          "People using at least basic drinking water services (% of population)",
          "People using at least basic drinking water services, rural (% of rural population)",
          "People using at least basic drinking water services, urban (% of urban population)",
          "People using at least basic sanitation services (% of population)",
          "People using at least basic sanitation services, rural (% of rural population)",
          "People using at least basic sanitation services, urban  (% of urban population)",
          "Population ages 00-04, female",
          "Population ages 00-04, female (% of female population)",
          "Population ages 00-04, male",
          "Population ages 00-04, male (% of male population)",
          "Population ages 00-14, total",
          "Population ages 0-14 (% of total population)",
          "Population ages 0-14, female",
          "Population ages 0-14, female (% of female population)",
          "Population ages 0-14, male",
          "Population ages 0-14, male (% of male population)",
          "Population ages 05-09, female",
          "Population ages 05-09, female (% of female population)",
          "Population ages 05-09, male",
          "Population ages 05-09, male (% of male population)",
          "Population ages 10-14, female",
          "Population ages 10-14, female (% of female population)",
          "Population ages 10-14, male",
          "Population ages 10-14, male (% of male population)",
          "Population ages 15-19, female",
          "Population ages 15-19, female (% of female population)",
          "Population ages 15-19, male",
          "Population ages 15-19, male (% of male population)",
          "Population ages 15-64 (% of total population)",
          "Population ages 15-64, female",
          "Population ages 15-64, female (% of female population)",
          "Population ages 15-64, male",
          "Population ages 15-64, male (% of male population)",
          "Population ages 15-64, total",
          "Population ages 20-24, female",
          "Population ages 20-24, female (% of female population)",
          "Population ages 20-24, male",
          "Population ages 20-24, male (% of male population)",
          "Population ages 25-29, female",
          "Population ages 25-29, female (% of female population)",
          "Population ages 25-29, male",
          "Population ages 25-29, male (% of male population)",
          "Population ages 30-34, female",
          "Population ages 30-34, female (% of female population)",
          "Population ages 30-34, male",
          "Population ages 30-34, male (% of male population)",
          "Population ages 35-39, female",
          "Population ages 35-39, female (% of female population)",
          "Population ages 35-39, male",
          "Population ages 35-39, male (% of male population)",
          "Population ages 40-44, female",
          "Population ages 40-44, female (% of female population)",
          "Population ages 40-44, male",
          "Population ages 40-44, male (% of male population)",
          "Population ages 45-49, female",
          "Population ages 45-49, female (% of female population)",
          "Population ages 45-49, male",
          "Population ages 45-49, male (% of male population)",
          "Population ages 50-54, female",
          "Population ages 50-54, female (% of female population)",
          "Population ages 50-54, male",
          "Population ages 50-54, male (% of male population)",
          "Population ages 55-59, female",
          "Population ages 55-59, female (% of female population)",
          "Population ages 55-59, male",
          "Population ages 55-59, male (% of male population)",
          "Population ages 60-64, female",
          "Population ages 60-64, female (% of female population)",
          "Population ages 60-64, male",
          "Population ages 60-64, male (% of male population)",
          "Population ages 65 and above (% of total population)",
          "Population ages 65 and above, female",
          "Population ages 65 and above, female (% of female population)",
          "Population ages 65 and above, male",
          "Population ages 65 and above, male (% of male population)",
          "Population ages 65 and above, total",
          "Population ages 65-69, female",
          "Population ages 65-69, female (% of female population)",
          "Population ages 65-69, male",
          "Population ages 65-69, male (% of male population)",
          "Population ages 70-74, female",
          "Population ages 70-74, female (% of female population)",
          "Population ages 70-74, male",
          "Population ages 70-74, male (% of male population)",
          "Population ages 75-79, female",
          "Population ages 75-79, female (% of female population)",
          "Population ages 75-79, male",
          "Population ages 75-79, male (% of male population)",
          "Population ages 80 and above, female",
          "Population ages 80 and above, male",
          "Population ages 80 and above, male (% of male population)",
          "Population ages 80 and older, female (% of female population)",
          "Population growth (annual %)",
          "Population, female",
          "Population, female (% of total population)",
          "Population, male",
          "Population, male (% of total population)",
          "Population, total",
          "Prevalence of overweight (modeled estimate, % of children under 5)",
          "Rural population",
          "Rural population (% of total population)",
          "Rural population growth (annual %)",
          "Tuberculosis case detection rate (%, all forms)",
          "Tuberculosis death rate (per 100,000 people)",
          "Unemployment, total (% of total labor force)",
          "Urban population",
          "Urban population (% of total population)",
          "Urban population growth (annual %)",
          "hdi",
          "Income Group",
          "System of trade",
          "Government Accounting concept"
         ],
         "xaxis": "x",
         "y": [
          0,
          6,
          6,
          6,
          6,
          6,
          6,
          6,
          6,
          6,
          6,
          6,
          6,
          6,
          6,
          6,
          6,
          6,
          6,
          6,
          6,
          6,
          6,
          6,
          6,
          6,
          6,
          6,
          6,
          6,
          6,
          6,
          6,
          6,
          6,
          6,
          6,
          6,
          6,
          6,
          6,
          6,
          6,
          6,
          6,
          6,
          6,
          6,
          6,
          6,
          6,
          6,
          6,
          6,
          6,
          6,
          11,
          17,
          17,
          17,
          1,
          11,
          18,
          35,
          26,
          12,
          31,
          25,
          15,
          33,
          26,
          6,
          6,
          6,
          6,
          6,
          6,
          6,
          6,
          6,
          6,
          6,
          6,
          6,
          6,
          6,
          6,
          6,
          6,
          6,
          6,
          6,
          6,
          6,
          6,
          6,
          6,
          6,
          6,
          6,
          6,
          6,
          6,
          6,
          6,
          6,
          6,
          6,
          6,
          6,
          6,
          6,
          6,
          6,
          6,
          6,
          6,
          6,
          6,
          6,
          6,
          6,
          6,
          6,
          6,
          6,
          6,
          6,
          6,
          6,
          6,
          6,
          6,
          6,
          6,
          6,
          6,
          6,
          6,
          6,
          6,
          6,
          6,
          6,
          6,
          6,
          6,
          6,
          6,
          6,
          6,
          6,
          6,
          6,
          6,
          6,
          6,
          1,
          6,
          6,
          6,
          6,
          1,
          36,
          1,
          1,
          4,
          7,
          1,
          10,
          1,
          1,
          1,
          0,
          1,
          23,
          33
         ],
         "yaxis": "y"
        }
       ],
       "layout": {
        "barmode": "relative",
        "legend": {
         "title": {
          "text": "variable"
         },
         "tracegroupgap": 0
        },
        "template": {
         "data": {
          "bar": [
           {
            "error_x": {
             "color": "#2a3f5f"
            },
            "error_y": {
             "color": "#2a3f5f"
            },
            "marker": {
             "line": {
              "color": "#E5ECF6",
              "width": 0.5
             },
             "pattern": {
              "fillmode": "overlay",
              "size": 10,
              "solidity": 0.2
             }
            },
            "type": "bar"
           }
          ],
          "barpolar": [
           {
            "marker": {
             "line": {
              "color": "#E5ECF6",
              "width": 0.5
             },
             "pattern": {
              "fillmode": "overlay",
              "size": 10,
              "solidity": 0.2
             }
            },
            "type": "barpolar"
           }
          ],
          "carpet": [
           {
            "aaxis": {
             "endlinecolor": "#2a3f5f",
             "gridcolor": "white",
             "linecolor": "white",
             "minorgridcolor": "white",
             "startlinecolor": "#2a3f5f"
            },
            "baxis": {
             "endlinecolor": "#2a3f5f",
             "gridcolor": "white",
             "linecolor": "white",
             "minorgridcolor": "white",
             "startlinecolor": "#2a3f5f"
            },
            "type": "carpet"
           }
          ],
          "choropleth": [
           {
            "colorbar": {
             "outlinewidth": 0,
             "ticks": ""
            },
            "type": "choropleth"
           }
          ],
          "contour": [
           {
            "colorbar": {
             "outlinewidth": 0,
             "ticks": ""
            },
            "colorscale": [
             [
              0,
              "#0d0887"
             ],
             [
              0.1111111111111111,
              "#46039f"
             ],
             [
              0.2222222222222222,
              "#7201a8"
             ],
             [
              0.3333333333333333,
              "#9c179e"
             ],
             [
              0.4444444444444444,
              "#bd3786"
             ],
             [
              0.5555555555555556,
              "#d8576b"
             ],
             [
              0.6666666666666666,
              "#ed7953"
             ],
             [
              0.7777777777777778,
              "#fb9f3a"
             ],
             [
              0.8888888888888888,
              "#fdca26"
             ],
             [
              1,
              "#f0f921"
             ]
            ],
            "type": "contour"
           }
          ],
          "contourcarpet": [
           {
            "colorbar": {
             "outlinewidth": 0,
             "ticks": ""
            },
            "type": "contourcarpet"
           }
          ],
          "heatmap": [
           {
            "colorbar": {
             "outlinewidth": 0,
             "ticks": ""
            },
            "colorscale": [
             [
              0,
              "#0d0887"
             ],
             [
              0.1111111111111111,
              "#46039f"
             ],
             [
              0.2222222222222222,
              "#7201a8"
             ],
             [
              0.3333333333333333,
              "#9c179e"
             ],
             [
              0.4444444444444444,
              "#bd3786"
             ],
             [
              0.5555555555555556,
              "#d8576b"
             ],
             [
              0.6666666666666666,
              "#ed7953"
             ],
             [
              0.7777777777777778,
              "#fb9f3a"
             ],
             [
              0.8888888888888888,
              "#fdca26"
             ],
             [
              1,
              "#f0f921"
             ]
            ],
            "type": "heatmap"
           }
          ],
          "heatmapgl": [
           {
            "colorbar": {
             "outlinewidth": 0,
             "ticks": ""
            },
            "colorscale": [
             [
              0,
              "#0d0887"
             ],
             [
              0.1111111111111111,
              "#46039f"
             ],
             [
              0.2222222222222222,
              "#7201a8"
             ],
             [
              0.3333333333333333,
              "#9c179e"
             ],
             [
              0.4444444444444444,
              "#bd3786"
             ],
             [
              0.5555555555555556,
              "#d8576b"
             ],
             [
              0.6666666666666666,
              "#ed7953"
             ],
             [
              0.7777777777777778,
              "#fb9f3a"
             ],
             [
              0.8888888888888888,
              "#fdca26"
             ],
             [
              1,
              "#f0f921"
             ]
            ],
            "type": "heatmapgl"
           }
          ],
          "histogram": [
           {
            "marker": {
             "pattern": {
              "fillmode": "overlay",
              "size": 10,
              "solidity": 0.2
             }
            },
            "type": "histogram"
           }
          ],
          "histogram2d": [
           {
            "colorbar": {
             "outlinewidth": 0,
             "ticks": ""
            },
            "colorscale": [
             [
              0,
              "#0d0887"
             ],
             [
              0.1111111111111111,
              "#46039f"
             ],
             [
              0.2222222222222222,
              "#7201a8"
             ],
             [
              0.3333333333333333,
              "#9c179e"
             ],
             [
              0.4444444444444444,
              "#bd3786"
             ],
             [
              0.5555555555555556,
              "#d8576b"
             ],
             [
              0.6666666666666666,
              "#ed7953"
             ],
             [
              0.7777777777777778,
              "#fb9f3a"
             ],
             [
              0.8888888888888888,
              "#fdca26"
             ],
             [
              1,
              "#f0f921"
             ]
            ],
            "type": "histogram2d"
           }
          ],
          "histogram2dcontour": [
           {
            "colorbar": {
             "outlinewidth": 0,
             "ticks": ""
            },
            "colorscale": [
             [
              0,
              "#0d0887"
             ],
             [
              0.1111111111111111,
              "#46039f"
             ],
             [
              0.2222222222222222,
              "#7201a8"
             ],
             [
              0.3333333333333333,
              "#9c179e"
             ],
             [
              0.4444444444444444,
              "#bd3786"
             ],
             [
              0.5555555555555556,
              "#d8576b"
             ],
             [
              0.6666666666666666,
              "#ed7953"
             ],
             [
              0.7777777777777778,
              "#fb9f3a"
             ],
             [
              0.8888888888888888,
              "#fdca26"
             ],
             [
              1,
              "#f0f921"
             ]
            ],
            "type": "histogram2dcontour"
           }
          ],
          "mesh3d": [
           {
            "colorbar": {
             "outlinewidth": 0,
             "ticks": ""
            },
            "type": "mesh3d"
           }
          ],
          "parcoords": [
           {
            "line": {
             "colorbar": {
              "outlinewidth": 0,
              "ticks": ""
             }
            },
            "type": "parcoords"
           }
          ],
          "pie": [
           {
            "automargin": true,
            "type": "pie"
           }
          ],
          "scatter": [
           {
            "marker": {
             "colorbar": {
              "outlinewidth": 0,
              "ticks": ""
             }
            },
            "type": "scatter"
           }
          ],
          "scatter3d": [
           {
            "line": {
             "colorbar": {
              "outlinewidth": 0,
              "ticks": ""
             }
            },
            "marker": {
             "colorbar": {
              "outlinewidth": 0,
              "ticks": ""
             }
            },
            "type": "scatter3d"
           }
          ],
          "scattercarpet": [
           {
            "marker": {
             "colorbar": {
              "outlinewidth": 0,
              "ticks": ""
             }
            },
            "type": "scattercarpet"
           }
          ],
          "scattergeo": [
           {
            "marker": {
             "colorbar": {
              "outlinewidth": 0,
              "ticks": ""
             }
            },
            "type": "scattergeo"
           }
          ],
          "scattergl": [
           {
            "marker": {
             "colorbar": {
              "outlinewidth": 0,
              "ticks": ""
             }
            },
            "type": "scattergl"
           }
          ],
          "scattermapbox": [
           {
            "marker": {
             "colorbar": {
              "outlinewidth": 0,
              "ticks": ""
             }
            },
            "type": "scattermapbox"
           }
          ],
          "scatterpolar": [
           {
            "marker": {
             "colorbar": {
              "outlinewidth": 0,
              "ticks": ""
             }
            },
            "type": "scatterpolar"
           }
          ],
          "scatterpolargl": [
           {
            "marker": {
             "colorbar": {
              "outlinewidth": 0,
              "ticks": ""
             }
            },
            "type": "scatterpolargl"
           }
          ],
          "scatterternary": [
           {
            "marker": {
             "colorbar": {
              "outlinewidth": 0,
              "ticks": ""
             }
            },
            "type": "scatterternary"
           }
          ],
          "surface": [
           {
            "colorbar": {
             "outlinewidth": 0,
             "ticks": ""
            },
            "colorscale": [
             [
              0,
              "#0d0887"
             ],
             [
              0.1111111111111111,
              "#46039f"
             ],
             [
              0.2222222222222222,
              "#7201a8"
             ],
             [
              0.3333333333333333,
              "#9c179e"
             ],
             [
              0.4444444444444444,
              "#bd3786"
             ],
             [
              0.5555555555555556,
              "#d8576b"
             ],
             [
              0.6666666666666666,
              "#ed7953"
             ],
             [
              0.7777777777777778,
              "#fb9f3a"
             ],
             [
              0.8888888888888888,
              "#fdca26"
             ],
             [
              1,
              "#f0f921"
             ]
            ],
            "type": "surface"
           }
          ],
          "table": [
           {
            "cells": {
             "fill": {
              "color": "#EBF0F8"
             },
             "line": {
              "color": "white"
             }
            },
            "header": {
             "fill": {
              "color": "#C8D4E3"
             },
             "line": {
              "color": "white"
             }
            },
            "type": "table"
           }
          ]
         },
         "layout": {
          "annotationdefaults": {
           "arrowcolor": "#2a3f5f",
           "arrowhead": 0,
           "arrowwidth": 1
          },
          "autotypenumbers": "strict",
          "coloraxis": {
           "colorbar": {
            "outlinewidth": 0,
            "ticks": ""
           }
          },
          "colorscale": {
           "diverging": [
            [
             0,
             "#8e0152"
            ],
            [
             0.1,
             "#c51b7d"
            ],
            [
             0.2,
             "#de77ae"
            ],
            [
             0.3,
             "#f1b6da"
            ],
            [
             0.4,
             "#fde0ef"
            ],
            [
             0.5,
             "#f7f7f7"
            ],
            [
             0.6,
             "#e6f5d0"
            ],
            [
             0.7,
             "#b8e186"
            ],
            [
             0.8,
             "#7fbc41"
            ],
            [
             0.9,
             "#4d9221"
            ],
            [
             1,
             "#276419"
            ]
           ],
           "sequential": [
            [
             0,
             "#0d0887"
            ],
            [
             0.1111111111111111,
             "#46039f"
            ],
            [
             0.2222222222222222,
             "#7201a8"
            ],
            [
             0.3333333333333333,
             "#9c179e"
            ],
            [
             0.4444444444444444,
             "#bd3786"
            ],
            [
             0.5555555555555556,
             "#d8576b"
            ],
            [
             0.6666666666666666,
             "#ed7953"
            ],
            [
             0.7777777777777778,
             "#fb9f3a"
            ],
            [
             0.8888888888888888,
             "#fdca26"
            ],
            [
             1,
             "#f0f921"
            ]
           ],
           "sequentialminus": [
            [
             0,
             "#0d0887"
            ],
            [
             0.1111111111111111,
             "#46039f"
            ],
            [
             0.2222222222222222,
             "#7201a8"
            ],
            [
             0.3333333333333333,
             "#9c179e"
            ],
            [
             0.4444444444444444,
             "#bd3786"
            ],
            [
             0.5555555555555556,
             "#d8576b"
            ],
            [
             0.6666666666666666,
             "#ed7953"
            ],
            [
             0.7777777777777778,
             "#fb9f3a"
            ],
            [
             0.8888888888888888,
             "#fdca26"
            ],
            [
             1,
             "#f0f921"
            ]
           ]
          },
          "colorway": [
           "#636efa",
           "#EF553B",
           "#00cc96",
           "#ab63fa",
           "#FFA15A",
           "#19d3f3",
           "#FF6692",
           "#B6E880",
           "#FF97FF",
           "#FECB52"
          ],
          "font": {
           "color": "#2a3f5f"
          },
          "geo": {
           "bgcolor": "white",
           "lakecolor": "white",
           "landcolor": "#E5ECF6",
           "showlakes": true,
           "showland": true,
           "subunitcolor": "white"
          },
          "hoverlabel": {
           "align": "left"
          },
          "hovermode": "closest",
          "mapbox": {
           "style": "light"
          },
          "paper_bgcolor": "white",
          "plot_bgcolor": "#E5ECF6",
          "polar": {
           "angularaxis": {
            "gridcolor": "white",
            "linecolor": "white",
            "ticks": ""
           },
           "bgcolor": "#E5ECF6",
           "radialaxis": {
            "gridcolor": "white",
            "linecolor": "white",
            "ticks": ""
           }
          },
          "scene": {
           "xaxis": {
            "backgroundcolor": "#E5ECF6",
            "gridcolor": "white",
            "gridwidth": 2,
            "linecolor": "white",
            "showbackground": true,
            "ticks": "",
            "zerolinecolor": "white"
           },
           "yaxis": {
            "backgroundcolor": "#E5ECF6",
            "gridcolor": "white",
            "gridwidth": 2,
            "linecolor": "white",
            "showbackground": true,
            "ticks": "",
            "zerolinecolor": "white"
           },
           "zaxis": {
            "backgroundcolor": "#E5ECF6",
            "gridcolor": "white",
            "gridwidth": 2,
            "linecolor": "white",
            "showbackground": true,
            "ticks": "",
            "zerolinecolor": "white"
           }
          },
          "shapedefaults": {
           "line": {
            "color": "#2a3f5f"
           }
          },
          "ternary": {
           "aaxis": {
            "gridcolor": "white",
            "linecolor": "white",
            "ticks": ""
           },
           "baxis": {
            "gridcolor": "white",
            "linecolor": "white",
            "ticks": ""
           },
           "bgcolor": "#E5ECF6",
           "caxis": {
            "gridcolor": "white",
            "linecolor": "white",
            "ticks": ""
           }
          },
          "title": {
           "x": 0.05
          },
          "xaxis": {
           "automargin": true,
           "gridcolor": "white",
           "linecolor": "white",
           "ticks": "",
           "title": {
            "standoff": 15
           },
           "zerolinecolor": "white",
           "zerolinewidth": 2
          },
          "yaxis": {
           "automargin": true,
           "gridcolor": "white",
           "linecolor": "white",
           "ticks": "",
           "title": {
            "standoff": 15
           },
           "zerolinecolor": "white",
           "zerolinewidth": 2
          }
         }
        },
        "title": {
         "text": "Number of missing values for each Attribute after removal"
        },
        "xaxis": {
         "anchor": "y",
         "domain": [
          0,
          1
         ],
         "title": {
          "text": "index"
         }
        },
        "yaxis": {
         "anchor": "x",
         "domain": [
          0,
          1
         ],
         "title": {
          "text": "value"
         }
        }
       }
      },
      "text/html": [
       "<div>                            <div id=\"30be3046-4627-47ff-aa6b-0f0291c5a135\" class=\"plotly-graph-div\" style=\"height:525px; width:100%;\"></div>            <script type=\"text/javascript\">                require([\"plotly\"], function(Plotly) {                    window.PLOTLYENV=window.PLOTLYENV || {};                                    if (document.getElementById(\"30be3046-4627-47ff-aa6b-0f0291c5a135\")) {                    Plotly.newPlot(                        \"30be3046-4627-47ff-aa6b-0f0291c5a135\",                        [{\"alignmentgroup\":\"True\",\"hovertemplate\":\"variable=0<br>index=%{x}<br>value=%{y}<extra></extra>\",\"legendgroup\":\"0\",\"marker\":{\"color\":\"#636efa\",\"pattern\":{\"shape\":\"\"}},\"name\":\"0\",\"offsetgroup\":\"0\",\"orientation\":\"v\",\"showlegend\":true,\"textposition\":\"auto\",\"x\":[\"Country Name\",\"Age dependency ratio (% of working-age population)\",\"Age dependency ratio, old\",\"Age dependency ratio, young\",\"Age population, age 00, female, interpolated\",\"Age population, age 00, male, interpolated\",\"Age population, age 01, female, interpolated\",\"Age population, age 01, male, interpolated\",\"Age population, age 02, female, interpolated\",\"Age population, age 02, male, interpolated\",\"Age population, age 03, female, interpolated\",\"Age population, age 03, male, interpolated\",\"Age population, age 04, female, interpolated\",\"Age population, age 04, male, interpolated\",\"Age population, age 05, female, interpolated\",\"Age population, age 05, male, interpolated\",\"Age population, age 06, female, interpolated\",\"Age population, age 06, male, interpolated\",\"Age population, age 07, female, interpolated\",\"Age population, age 07, male, interpolated\",\"Age population, age 08, female, interpolated\",\"Age population, age 08, male, interpolated\",\"Age population, age 09, female, interpolated\",\"Age population, age 09, male, interpolated\",\"Age population, age 10, female, interpolated\",\"Age population, age 10, male, interpolated\",\"Age population, age 11, female, interpolated\",\"Age population, age 11, male, interpolated\",\"Age population, age 12, female, interpolated\",\"Age population, age 12, male, interpolated\",\"Age population, age 13, female, interpolated\",\"Age population, age 13, male, interpolated\",\"Age population, age 14, female, interpolated\",\"Age population, age 14, male, interpolated\",\"Age population, age 15, female, interpolated\",\"Age population, age 15, male, interpolated\",\"Age population, age 16, female, interpolated\",\"Age population, age 16, male, interpolated\",\"Age population, age 17, female, interpolated\",\"Age population, age 17, male, interpolated\",\"Age population, age 18, female, interpolated\",\"Age population, age 18, male, interpolated\",\"Age population, age 19, female, interpolated\",\"Age population, age 19, male, interpolated\",\"Age population, age 20, female, interpolated\",\"Age population, age 20, male, interpolated\",\"Age population, age 21, female, interpolated\",\"Age population, age 21, male, interpolated\",\"Age population, age 22, female, interpolated\",\"Age population, age 22, male, interpolated\",\"Age population, age 23, female, interpolated\",\"Age population, age 23, male, interpolated\",\"Age population, age 24, female, interpolated\",\"Age population, age 24, male, interpolated\",\"Age population, age 25, female, interpolated\",\"Age population, age 25, male, interpolated\",\"GNI per capita, Atlas method (current US$)\",\"Human capital index (HCI) (scale 0-1)\",\"Human capital index (HCI), lower bound (scale 0-1)\",\"Human capital index (HCI), upper bound (scale 0-1)\",\"Incidence of tuberculosis (per 100,000 people)\",\"Labor force, total\",\"People practicing open defecation (% of population)\",\"People practicing open defecation, rural (% of rural population)\",\"People practicing open defecation, urban (% of urban population)\",\"People using at least basic drinking water services (% of population)\",\"People using at least basic drinking water services, rural (% of rural population)\",\"People using at least basic drinking water services, urban (% of urban population)\",\"People using at least basic sanitation services (% of population)\",\"People using at least basic sanitation services, rural (% of rural population)\",\"People using at least basic sanitation services, urban  (% of urban population)\",\"Population ages 00-04, female\",\"Population ages 00-04, female (% of female population)\",\"Population ages 00-04, male\",\"Population ages 00-04, male (% of male population)\",\"Population ages 00-14, total\",\"Population ages 0-14 (% of total population)\",\"Population ages 0-14, female\",\"Population ages 0-14, female (% of female population)\",\"Population ages 0-14, male\",\"Population ages 0-14, male (% of male population)\",\"Population ages 05-09, female\",\"Population ages 05-09, female (% of female population)\",\"Population ages 05-09, male\",\"Population ages 05-09, male (% of male population)\",\"Population ages 10-14, female\",\"Population ages 10-14, female (% of female population)\",\"Population ages 10-14, male\",\"Population ages 10-14, male (% of male population)\",\"Population ages 15-19, female\",\"Population ages 15-19, female (% of female population)\",\"Population ages 15-19, male\",\"Population ages 15-19, male (% of male population)\",\"Population ages 15-64 (% of total population)\",\"Population ages 15-64, female\",\"Population ages 15-64, female (% of female population)\",\"Population ages 15-64, male\",\"Population ages 15-64, male (% of male population)\",\"Population ages 15-64, total\",\"Population ages 20-24, female\",\"Population ages 20-24, female (% of female population)\",\"Population ages 20-24, male\",\"Population ages 20-24, male (% of male population)\",\"Population ages 25-29, female\",\"Population ages 25-29, female (% of female population)\",\"Population ages 25-29, male\",\"Population ages 25-29, male (% of male population)\",\"Population ages 30-34, female\",\"Population ages 30-34, female (% of female population)\",\"Population ages 30-34, male\",\"Population ages 30-34, male (% of male population)\",\"Population ages 35-39, female\",\"Population ages 35-39, female (% of female population)\",\"Population ages 35-39, male\",\"Population ages 35-39, male (% of male population)\",\"Population ages 40-44, female\",\"Population ages 40-44, female (% of female population)\",\"Population ages 40-44, male\",\"Population ages 40-44, male (% of male population)\",\"Population ages 45-49, female\",\"Population ages 45-49, female (% of female population)\",\"Population ages 45-49, male\",\"Population ages 45-49, male (% of male population)\",\"Population ages 50-54, female\",\"Population ages 50-54, female (% of female population)\",\"Population ages 50-54, male\",\"Population ages 50-54, male (% of male population)\",\"Population ages 55-59, female\",\"Population ages 55-59, female (% of female population)\",\"Population ages 55-59, male\",\"Population ages 55-59, male (% of male population)\",\"Population ages 60-64, female\",\"Population ages 60-64, female (% of female population)\",\"Population ages 60-64, male\",\"Population ages 60-64, male (% of male population)\",\"Population ages 65 and above (% of total population)\",\"Population ages 65 and above, female\",\"Population ages 65 and above, female (% of female population)\",\"Population ages 65 and above, male\",\"Population ages 65 and above, male (% of male population)\",\"Population ages 65 and above, total\",\"Population ages 65-69, female\",\"Population ages 65-69, female (% of female population)\",\"Population ages 65-69, male\",\"Population ages 65-69, male (% of male population)\",\"Population ages 70-74, female\",\"Population ages 70-74, female (% of female population)\",\"Population ages 70-74, male\",\"Population ages 70-74, male (% of male population)\",\"Population ages 75-79, female\",\"Population ages 75-79, female (% of female population)\",\"Population ages 75-79, male\",\"Population ages 75-79, male (% of male population)\",\"Population ages 80 and above, female\",\"Population ages 80 and above, male\",\"Population ages 80 and above, male (% of male population)\",\"Population ages 80 and older, female (% of female population)\",\"Population growth (annual %)\",\"Population, female\",\"Population, female (% of total population)\",\"Population, male\",\"Population, male (% of total population)\",\"Population, total\",\"Prevalence of overweight (modeled estimate, % of children under 5)\",\"Rural population\",\"Rural population (% of total population)\",\"Rural population growth (annual %)\",\"Tuberculosis case detection rate (%, all forms)\",\"Tuberculosis death rate (per 100,000 people)\",\"Unemployment, total (% of total labor force)\",\"Urban population\",\"Urban population (% of total population)\",\"Urban population growth (annual %)\",\"hdi\",\"Income Group\",\"System of trade\",\"Government Accounting concept\"],\"xaxis\":\"x\",\"y\":[0,6,6,6,6,6,6,6,6,6,6,6,6,6,6,6,6,6,6,6,6,6,6,6,6,6,6,6,6,6,6,6,6,6,6,6,6,6,6,6,6,6,6,6,6,6,6,6,6,6,6,6,6,6,6,6,11,17,17,17,1,11,18,35,26,12,31,25,15,33,26,6,6,6,6,6,6,6,6,6,6,6,6,6,6,6,6,6,6,6,6,6,6,6,6,6,6,6,6,6,6,6,6,6,6,6,6,6,6,6,6,6,6,6,6,6,6,6,6,6,6,6,6,6,6,6,6,6,6,6,6,6,6,6,6,6,6,6,6,6,6,6,6,6,6,6,6,6,6,6,6,6,6,6,6,6,6,1,6,6,6,6,1,36,1,1,4,7,1,10,1,1,1,0,1,23,33],\"yaxis\":\"y\",\"type\":\"bar\"}],                        {\"template\":{\"data\":{\"bar\":[{\"error_x\":{\"color\":\"#2a3f5f\"},\"error_y\":{\"color\":\"#2a3f5f\"},\"marker\":{\"line\":{\"color\":\"#E5ECF6\",\"width\":0.5},\"pattern\":{\"fillmode\":\"overlay\",\"size\":10,\"solidity\":0.2}},\"type\":\"bar\"}],\"barpolar\":[{\"marker\":{\"line\":{\"color\":\"#E5ECF6\",\"width\":0.5},\"pattern\":{\"fillmode\":\"overlay\",\"size\":10,\"solidity\":0.2}},\"type\":\"barpolar\"}],\"carpet\":[{\"aaxis\":{\"endlinecolor\":\"#2a3f5f\",\"gridcolor\":\"white\",\"linecolor\":\"white\",\"minorgridcolor\":\"white\",\"startlinecolor\":\"#2a3f5f\"},\"baxis\":{\"endlinecolor\":\"#2a3f5f\",\"gridcolor\":\"white\",\"linecolor\":\"white\",\"minorgridcolor\":\"white\",\"startlinecolor\":\"#2a3f5f\"},\"type\":\"carpet\"}],\"choropleth\":[{\"colorbar\":{\"outlinewidth\":0,\"ticks\":\"\"},\"type\":\"choropleth\"}],\"contour\":[{\"colorbar\":{\"outlinewidth\":0,\"ticks\":\"\"},\"colorscale\":[[0.0,\"#0d0887\"],[0.1111111111111111,\"#46039f\"],[0.2222222222222222,\"#7201a8\"],[0.3333333333333333,\"#9c179e\"],[0.4444444444444444,\"#bd3786\"],[0.5555555555555556,\"#d8576b\"],[0.6666666666666666,\"#ed7953\"],[0.7777777777777778,\"#fb9f3a\"],[0.8888888888888888,\"#fdca26\"],[1.0,\"#f0f921\"]],\"type\":\"contour\"}],\"contourcarpet\":[{\"colorbar\":{\"outlinewidth\":0,\"ticks\":\"\"},\"type\":\"contourcarpet\"}],\"heatmap\":[{\"colorbar\":{\"outlinewidth\":0,\"ticks\":\"\"},\"colorscale\":[[0.0,\"#0d0887\"],[0.1111111111111111,\"#46039f\"],[0.2222222222222222,\"#7201a8\"],[0.3333333333333333,\"#9c179e\"],[0.4444444444444444,\"#bd3786\"],[0.5555555555555556,\"#d8576b\"],[0.6666666666666666,\"#ed7953\"],[0.7777777777777778,\"#fb9f3a\"],[0.8888888888888888,\"#fdca26\"],[1.0,\"#f0f921\"]],\"type\":\"heatmap\"}],\"heatmapgl\":[{\"colorbar\":{\"outlinewidth\":0,\"ticks\":\"\"},\"colorscale\":[[0.0,\"#0d0887\"],[0.1111111111111111,\"#46039f\"],[0.2222222222222222,\"#7201a8\"],[0.3333333333333333,\"#9c179e\"],[0.4444444444444444,\"#bd3786\"],[0.5555555555555556,\"#d8576b\"],[0.6666666666666666,\"#ed7953\"],[0.7777777777777778,\"#fb9f3a\"],[0.8888888888888888,\"#fdca26\"],[1.0,\"#f0f921\"]],\"type\":\"heatmapgl\"}],\"histogram\":[{\"marker\":{\"pattern\":{\"fillmode\":\"overlay\",\"size\":10,\"solidity\":0.2}},\"type\":\"histogram\"}],\"histogram2d\":[{\"colorbar\":{\"outlinewidth\":0,\"ticks\":\"\"},\"colorscale\":[[0.0,\"#0d0887\"],[0.1111111111111111,\"#46039f\"],[0.2222222222222222,\"#7201a8\"],[0.3333333333333333,\"#9c179e\"],[0.4444444444444444,\"#bd3786\"],[0.5555555555555556,\"#d8576b\"],[0.6666666666666666,\"#ed7953\"],[0.7777777777777778,\"#fb9f3a\"],[0.8888888888888888,\"#fdca26\"],[1.0,\"#f0f921\"]],\"type\":\"histogram2d\"}],\"histogram2dcontour\":[{\"colorbar\":{\"outlinewidth\":0,\"ticks\":\"\"},\"colorscale\":[[0.0,\"#0d0887\"],[0.1111111111111111,\"#46039f\"],[0.2222222222222222,\"#7201a8\"],[0.3333333333333333,\"#9c179e\"],[0.4444444444444444,\"#bd3786\"],[0.5555555555555556,\"#d8576b\"],[0.6666666666666666,\"#ed7953\"],[0.7777777777777778,\"#fb9f3a\"],[0.8888888888888888,\"#fdca26\"],[1.0,\"#f0f921\"]],\"type\":\"histogram2dcontour\"}],\"mesh3d\":[{\"colorbar\":{\"outlinewidth\":0,\"ticks\":\"\"},\"type\":\"mesh3d\"}],\"parcoords\":[{\"line\":{\"colorbar\":{\"outlinewidth\":0,\"ticks\":\"\"}},\"type\":\"parcoords\"}],\"pie\":[{\"automargin\":true,\"type\":\"pie\"}],\"scatter\":[{\"marker\":{\"colorbar\":{\"outlinewidth\":0,\"ticks\":\"\"}},\"type\":\"scatter\"}],\"scatter3d\":[{\"line\":{\"colorbar\":{\"outlinewidth\":0,\"ticks\":\"\"}},\"marker\":{\"colorbar\":{\"outlinewidth\":0,\"ticks\":\"\"}},\"type\":\"scatter3d\"}],\"scattercarpet\":[{\"marker\":{\"colorbar\":{\"outlinewidth\":0,\"ticks\":\"\"}},\"type\":\"scattercarpet\"}],\"scattergeo\":[{\"marker\":{\"colorbar\":{\"outlinewidth\":0,\"ticks\":\"\"}},\"type\":\"scattergeo\"}],\"scattergl\":[{\"marker\":{\"colorbar\":{\"outlinewidth\":0,\"ticks\":\"\"}},\"type\":\"scattergl\"}],\"scattermapbox\":[{\"marker\":{\"colorbar\":{\"outlinewidth\":0,\"ticks\":\"\"}},\"type\":\"scattermapbox\"}],\"scatterpolar\":[{\"marker\":{\"colorbar\":{\"outlinewidth\":0,\"ticks\":\"\"}},\"type\":\"scatterpolar\"}],\"scatterpolargl\":[{\"marker\":{\"colorbar\":{\"outlinewidth\":0,\"ticks\":\"\"}},\"type\":\"scatterpolargl\"}],\"scatterternary\":[{\"marker\":{\"colorbar\":{\"outlinewidth\":0,\"ticks\":\"\"}},\"type\":\"scatterternary\"}],\"surface\":[{\"colorbar\":{\"outlinewidth\":0,\"ticks\":\"\"},\"colorscale\":[[0.0,\"#0d0887\"],[0.1111111111111111,\"#46039f\"],[0.2222222222222222,\"#7201a8\"],[0.3333333333333333,\"#9c179e\"],[0.4444444444444444,\"#bd3786\"],[0.5555555555555556,\"#d8576b\"],[0.6666666666666666,\"#ed7953\"],[0.7777777777777778,\"#fb9f3a\"],[0.8888888888888888,\"#fdca26\"],[1.0,\"#f0f921\"]],\"type\":\"surface\"}],\"table\":[{\"cells\":{\"fill\":{\"color\":\"#EBF0F8\"},\"line\":{\"color\":\"white\"}},\"header\":{\"fill\":{\"color\":\"#C8D4E3\"},\"line\":{\"color\":\"white\"}},\"type\":\"table\"}]},\"layout\":{\"annotationdefaults\":{\"arrowcolor\":\"#2a3f5f\",\"arrowhead\":0,\"arrowwidth\":1},\"autotypenumbers\":\"strict\",\"coloraxis\":{\"colorbar\":{\"outlinewidth\":0,\"ticks\":\"\"}},\"colorscale\":{\"diverging\":[[0,\"#8e0152\"],[0.1,\"#c51b7d\"],[0.2,\"#de77ae\"],[0.3,\"#f1b6da\"],[0.4,\"#fde0ef\"],[0.5,\"#f7f7f7\"],[0.6,\"#e6f5d0\"],[0.7,\"#b8e186\"],[0.8,\"#7fbc41\"],[0.9,\"#4d9221\"],[1,\"#276419\"]],\"sequential\":[[0.0,\"#0d0887\"],[0.1111111111111111,\"#46039f\"],[0.2222222222222222,\"#7201a8\"],[0.3333333333333333,\"#9c179e\"],[0.4444444444444444,\"#bd3786\"],[0.5555555555555556,\"#d8576b\"],[0.6666666666666666,\"#ed7953\"],[0.7777777777777778,\"#fb9f3a\"],[0.8888888888888888,\"#fdca26\"],[1.0,\"#f0f921\"]],\"sequentialminus\":[[0.0,\"#0d0887\"],[0.1111111111111111,\"#46039f\"],[0.2222222222222222,\"#7201a8\"],[0.3333333333333333,\"#9c179e\"],[0.4444444444444444,\"#bd3786\"],[0.5555555555555556,\"#d8576b\"],[0.6666666666666666,\"#ed7953\"],[0.7777777777777778,\"#fb9f3a\"],[0.8888888888888888,\"#fdca26\"],[1.0,\"#f0f921\"]]},\"colorway\":[\"#636efa\",\"#EF553B\",\"#00cc96\",\"#ab63fa\",\"#FFA15A\",\"#19d3f3\",\"#FF6692\",\"#B6E880\",\"#FF97FF\",\"#FECB52\"],\"font\":{\"color\":\"#2a3f5f\"},\"geo\":{\"bgcolor\":\"white\",\"lakecolor\":\"white\",\"landcolor\":\"#E5ECF6\",\"showlakes\":true,\"showland\":true,\"subunitcolor\":\"white\"},\"hoverlabel\":{\"align\":\"left\"},\"hovermode\":\"closest\",\"mapbox\":{\"style\":\"light\"},\"paper_bgcolor\":\"white\",\"plot_bgcolor\":\"#E5ECF6\",\"polar\":{\"angularaxis\":{\"gridcolor\":\"white\",\"linecolor\":\"white\",\"ticks\":\"\"},\"bgcolor\":\"#E5ECF6\",\"radialaxis\":{\"gridcolor\":\"white\",\"linecolor\":\"white\",\"ticks\":\"\"}},\"scene\":{\"xaxis\":{\"backgroundcolor\":\"#E5ECF6\",\"gridcolor\":\"white\",\"gridwidth\":2,\"linecolor\":\"white\",\"showbackground\":true,\"ticks\":\"\",\"zerolinecolor\":\"white\"},\"yaxis\":{\"backgroundcolor\":\"#E5ECF6\",\"gridcolor\":\"white\",\"gridwidth\":2,\"linecolor\":\"white\",\"showbackground\":true,\"ticks\":\"\",\"zerolinecolor\":\"white\"},\"zaxis\":{\"backgroundcolor\":\"#E5ECF6\",\"gridcolor\":\"white\",\"gridwidth\":2,\"linecolor\":\"white\",\"showbackground\":true,\"ticks\":\"\",\"zerolinecolor\":\"white\"}},\"shapedefaults\":{\"line\":{\"color\":\"#2a3f5f\"}},\"ternary\":{\"aaxis\":{\"gridcolor\":\"white\",\"linecolor\":\"white\",\"ticks\":\"\"},\"baxis\":{\"gridcolor\":\"white\",\"linecolor\":\"white\",\"ticks\":\"\"},\"bgcolor\":\"#E5ECF6\",\"caxis\":{\"gridcolor\":\"white\",\"linecolor\":\"white\",\"ticks\":\"\"}},\"title\":{\"x\":0.05},\"xaxis\":{\"automargin\":true,\"gridcolor\":\"white\",\"linecolor\":\"white\",\"ticks\":\"\",\"title\":{\"standoff\":15},\"zerolinecolor\":\"white\",\"zerolinewidth\":2},\"yaxis\":{\"automargin\":true,\"gridcolor\":\"white\",\"linecolor\":\"white\",\"ticks\":\"\",\"title\":{\"standoff\":15},\"zerolinecolor\":\"white\",\"zerolinewidth\":2}}},\"xaxis\":{\"anchor\":\"y\",\"domain\":[0.0,1.0],\"title\":{\"text\":\"index\"}},\"yaxis\":{\"anchor\":\"x\",\"domain\":[0.0,1.0],\"title\":{\"text\":\"value\"}},\"legend\":{\"title\":{\"text\":\"variable\"},\"tracegroupgap\":0},\"title\":{\"text\":\"Number of missing values for each Attribute after removal\"},\"barmode\":\"relative\"},                        {\"responsive\": true}                    ).then(function(){\n",
       "                            \n",
       "var gd = document.getElementById('30be3046-4627-47ff-aa6b-0f0291c5a135');\n",
       "var x = new MutationObserver(function (mutations, observer) {{\n",
       "        var display = window.getComputedStyle(gd).display;\n",
       "        if (!display || display === 'none') {{\n",
       "            console.log([gd, 'removed!']);\n",
       "            Plotly.purge(gd);\n",
       "            observer.disconnect();\n",
       "        }}\n",
       "}});\n",
       "\n",
       "// Listen for the removal of the full notebook cells\n",
       "var notebookContainer = gd.closest('#notebook-container');\n",
       "if (notebookContainer) {{\n",
       "    x.observe(notebookContainer, {childList: true});\n",
       "}}\n",
       "\n",
       "// Listen for the clearing of the current output cell\n",
       "var outputEl = gd.closest('.output');\n",
       "if (outputEl) {{\n",
       "    x.observe(outputEl, {childList: true});\n",
       "}}\n",
       "\n",
       "                        })                };                });            </script>        </div>"
      ]
     },
     "metadata": {},
     "output_type": "display_data"
    }
   ],
   "source": [
    "df.isna().sum().plot.bar(title='Number of missing values for each Attribute after removal')"
   ]
  },
  {
   "cell_type": "markdown",
   "metadata": {},
   "source": [
    "#### Float vs. String attributes\n",
    "\n",
    "Luckily there are only 4 attributes (including the countries) that are string types. Only those columns will have to be encoded."
   ]
  },
  {
   "cell_type": "code",
   "execution_count": 276,
   "metadata": {},
   "outputs": [],
   "source": [
    "types = defaultdict(lambda: 0)\n",
    "for t in df.dtypes:\n",
    "    types[t] += 1\n",
    "    \n",
    "types = pd.DataFrame(pd.Series(types)).reset_index().rename(columns={0:'Label', 'index': 'Type'}).astype(str)"
   ]
  },
  {
   "cell_type": "code",
   "execution_count": 277,
   "metadata": {
    "scrolled": false
   },
   "outputs": [
    {
     "data": {
      "application/vnd.plotly.v1+json": {
       "config": {
        "plotlyServerURL": "https://plot.ly"
       },
       "data": [
        {
         "domain": {
          "x": [
           0,
           1
          ],
          "y": [
           0,
           1
          ]
         },
         "hovertemplate": "Type=%{label}<br>Label=%{value}<extra></extra>",
         "labels": [
          "object",
          "float64"
         ],
         "legendgroup": "",
         "name": "",
         "showlegend": true,
         "type": "pie",
         "values": [
          "4",
          "173"
         ]
        }
       ],
       "layout": {
        "legend": {
         "tracegroupgap": 0
        },
        "template": {
         "data": {
          "bar": [
           {
            "error_x": {
             "color": "#2a3f5f"
            },
            "error_y": {
             "color": "#2a3f5f"
            },
            "marker": {
             "line": {
              "color": "#E5ECF6",
              "width": 0.5
             },
             "pattern": {
              "fillmode": "overlay",
              "size": 10,
              "solidity": 0.2
             }
            },
            "type": "bar"
           }
          ],
          "barpolar": [
           {
            "marker": {
             "line": {
              "color": "#E5ECF6",
              "width": 0.5
             },
             "pattern": {
              "fillmode": "overlay",
              "size": 10,
              "solidity": 0.2
             }
            },
            "type": "barpolar"
           }
          ],
          "carpet": [
           {
            "aaxis": {
             "endlinecolor": "#2a3f5f",
             "gridcolor": "white",
             "linecolor": "white",
             "minorgridcolor": "white",
             "startlinecolor": "#2a3f5f"
            },
            "baxis": {
             "endlinecolor": "#2a3f5f",
             "gridcolor": "white",
             "linecolor": "white",
             "minorgridcolor": "white",
             "startlinecolor": "#2a3f5f"
            },
            "type": "carpet"
           }
          ],
          "choropleth": [
           {
            "colorbar": {
             "outlinewidth": 0,
             "ticks": ""
            },
            "type": "choropleth"
           }
          ],
          "contour": [
           {
            "colorbar": {
             "outlinewidth": 0,
             "ticks": ""
            },
            "colorscale": [
             [
              0,
              "#0d0887"
             ],
             [
              0.1111111111111111,
              "#46039f"
             ],
             [
              0.2222222222222222,
              "#7201a8"
             ],
             [
              0.3333333333333333,
              "#9c179e"
             ],
             [
              0.4444444444444444,
              "#bd3786"
             ],
             [
              0.5555555555555556,
              "#d8576b"
             ],
             [
              0.6666666666666666,
              "#ed7953"
             ],
             [
              0.7777777777777778,
              "#fb9f3a"
             ],
             [
              0.8888888888888888,
              "#fdca26"
             ],
             [
              1,
              "#f0f921"
             ]
            ],
            "type": "contour"
           }
          ],
          "contourcarpet": [
           {
            "colorbar": {
             "outlinewidth": 0,
             "ticks": ""
            },
            "type": "contourcarpet"
           }
          ],
          "heatmap": [
           {
            "colorbar": {
             "outlinewidth": 0,
             "ticks": ""
            },
            "colorscale": [
             [
              0,
              "#0d0887"
             ],
             [
              0.1111111111111111,
              "#46039f"
             ],
             [
              0.2222222222222222,
              "#7201a8"
             ],
             [
              0.3333333333333333,
              "#9c179e"
             ],
             [
              0.4444444444444444,
              "#bd3786"
             ],
             [
              0.5555555555555556,
              "#d8576b"
             ],
             [
              0.6666666666666666,
              "#ed7953"
             ],
             [
              0.7777777777777778,
              "#fb9f3a"
             ],
             [
              0.8888888888888888,
              "#fdca26"
             ],
             [
              1,
              "#f0f921"
             ]
            ],
            "type": "heatmap"
           }
          ],
          "heatmapgl": [
           {
            "colorbar": {
             "outlinewidth": 0,
             "ticks": ""
            },
            "colorscale": [
             [
              0,
              "#0d0887"
             ],
             [
              0.1111111111111111,
              "#46039f"
             ],
             [
              0.2222222222222222,
              "#7201a8"
             ],
             [
              0.3333333333333333,
              "#9c179e"
             ],
             [
              0.4444444444444444,
              "#bd3786"
             ],
             [
              0.5555555555555556,
              "#d8576b"
             ],
             [
              0.6666666666666666,
              "#ed7953"
             ],
             [
              0.7777777777777778,
              "#fb9f3a"
             ],
             [
              0.8888888888888888,
              "#fdca26"
             ],
             [
              1,
              "#f0f921"
             ]
            ],
            "type": "heatmapgl"
           }
          ],
          "histogram": [
           {
            "marker": {
             "pattern": {
              "fillmode": "overlay",
              "size": 10,
              "solidity": 0.2
             }
            },
            "type": "histogram"
           }
          ],
          "histogram2d": [
           {
            "colorbar": {
             "outlinewidth": 0,
             "ticks": ""
            },
            "colorscale": [
             [
              0,
              "#0d0887"
             ],
             [
              0.1111111111111111,
              "#46039f"
             ],
             [
              0.2222222222222222,
              "#7201a8"
             ],
             [
              0.3333333333333333,
              "#9c179e"
             ],
             [
              0.4444444444444444,
              "#bd3786"
             ],
             [
              0.5555555555555556,
              "#d8576b"
             ],
             [
              0.6666666666666666,
              "#ed7953"
             ],
             [
              0.7777777777777778,
              "#fb9f3a"
             ],
             [
              0.8888888888888888,
              "#fdca26"
             ],
             [
              1,
              "#f0f921"
             ]
            ],
            "type": "histogram2d"
           }
          ],
          "histogram2dcontour": [
           {
            "colorbar": {
             "outlinewidth": 0,
             "ticks": ""
            },
            "colorscale": [
             [
              0,
              "#0d0887"
             ],
             [
              0.1111111111111111,
              "#46039f"
             ],
             [
              0.2222222222222222,
              "#7201a8"
             ],
             [
              0.3333333333333333,
              "#9c179e"
             ],
             [
              0.4444444444444444,
              "#bd3786"
             ],
             [
              0.5555555555555556,
              "#d8576b"
             ],
             [
              0.6666666666666666,
              "#ed7953"
             ],
             [
              0.7777777777777778,
              "#fb9f3a"
             ],
             [
              0.8888888888888888,
              "#fdca26"
             ],
             [
              1,
              "#f0f921"
             ]
            ],
            "type": "histogram2dcontour"
           }
          ],
          "mesh3d": [
           {
            "colorbar": {
             "outlinewidth": 0,
             "ticks": ""
            },
            "type": "mesh3d"
           }
          ],
          "parcoords": [
           {
            "line": {
             "colorbar": {
              "outlinewidth": 0,
              "ticks": ""
             }
            },
            "type": "parcoords"
           }
          ],
          "pie": [
           {
            "automargin": true,
            "type": "pie"
           }
          ],
          "scatter": [
           {
            "marker": {
             "colorbar": {
              "outlinewidth": 0,
              "ticks": ""
             }
            },
            "type": "scatter"
           }
          ],
          "scatter3d": [
           {
            "line": {
             "colorbar": {
              "outlinewidth": 0,
              "ticks": ""
             }
            },
            "marker": {
             "colorbar": {
              "outlinewidth": 0,
              "ticks": ""
             }
            },
            "type": "scatter3d"
           }
          ],
          "scattercarpet": [
           {
            "marker": {
             "colorbar": {
              "outlinewidth": 0,
              "ticks": ""
             }
            },
            "type": "scattercarpet"
           }
          ],
          "scattergeo": [
           {
            "marker": {
             "colorbar": {
              "outlinewidth": 0,
              "ticks": ""
             }
            },
            "type": "scattergeo"
           }
          ],
          "scattergl": [
           {
            "marker": {
             "colorbar": {
              "outlinewidth": 0,
              "ticks": ""
             }
            },
            "type": "scattergl"
           }
          ],
          "scattermapbox": [
           {
            "marker": {
             "colorbar": {
              "outlinewidth": 0,
              "ticks": ""
             }
            },
            "type": "scattermapbox"
           }
          ],
          "scatterpolar": [
           {
            "marker": {
             "colorbar": {
              "outlinewidth": 0,
              "ticks": ""
             }
            },
            "type": "scatterpolar"
           }
          ],
          "scatterpolargl": [
           {
            "marker": {
             "colorbar": {
              "outlinewidth": 0,
              "ticks": ""
             }
            },
            "type": "scatterpolargl"
           }
          ],
          "scatterternary": [
           {
            "marker": {
             "colorbar": {
              "outlinewidth": 0,
              "ticks": ""
             }
            },
            "type": "scatterternary"
           }
          ],
          "surface": [
           {
            "colorbar": {
             "outlinewidth": 0,
             "ticks": ""
            },
            "colorscale": [
             [
              0,
              "#0d0887"
             ],
             [
              0.1111111111111111,
              "#46039f"
             ],
             [
              0.2222222222222222,
              "#7201a8"
             ],
             [
              0.3333333333333333,
              "#9c179e"
             ],
             [
              0.4444444444444444,
              "#bd3786"
             ],
             [
              0.5555555555555556,
              "#d8576b"
             ],
             [
              0.6666666666666666,
              "#ed7953"
             ],
             [
              0.7777777777777778,
              "#fb9f3a"
             ],
             [
              0.8888888888888888,
              "#fdca26"
             ],
             [
              1,
              "#f0f921"
             ]
            ],
            "type": "surface"
           }
          ],
          "table": [
           {
            "cells": {
             "fill": {
              "color": "#EBF0F8"
             },
             "line": {
              "color": "white"
             }
            },
            "header": {
             "fill": {
              "color": "#C8D4E3"
             },
             "line": {
              "color": "white"
             }
            },
            "type": "table"
           }
          ]
         },
         "layout": {
          "annotationdefaults": {
           "arrowcolor": "#2a3f5f",
           "arrowhead": 0,
           "arrowwidth": 1
          },
          "autotypenumbers": "strict",
          "coloraxis": {
           "colorbar": {
            "outlinewidth": 0,
            "ticks": ""
           }
          },
          "colorscale": {
           "diverging": [
            [
             0,
             "#8e0152"
            ],
            [
             0.1,
             "#c51b7d"
            ],
            [
             0.2,
             "#de77ae"
            ],
            [
             0.3,
             "#f1b6da"
            ],
            [
             0.4,
             "#fde0ef"
            ],
            [
             0.5,
             "#f7f7f7"
            ],
            [
             0.6,
             "#e6f5d0"
            ],
            [
             0.7,
             "#b8e186"
            ],
            [
             0.8,
             "#7fbc41"
            ],
            [
             0.9,
             "#4d9221"
            ],
            [
             1,
             "#276419"
            ]
           ],
           "sequential": [
            [
             0,
             "#0d0887"
            ],
            [
             0.1111111111111111,
             "#46039f"
            ],
            [
             0.2222222222222222,
             "#7201a8"
            ],
            [
             0.3333333333333333,
             "#9c179e"
            ],
            [
             0.4444444444444444,
             "#bd3786"
            ],
            [
             0.5555555555555556,
             "#d8576b"
            ],
            [
             0.6666666666666666,
             "#ed7953"
            ],
            [
             0.7777777777777778,
             "#fb9f3a"
            ],
            [
             0.8888888888888888,
             "#fdca26"
            ],
            [
             1,
             "#f0f921"
            ]
           ],
           "sequentialminus": [
            [
             0,
             "#0d0887"
            ],
            [
             0.1111111111111111,
             "#46039f"
            ],
            [
             0.2222222222222222,
             "#7201a8"
            ],
            [
             0.3333333333333333,
             "#9c179e"
            ],
            [
             0.4444444444444444,
             "#bd3786"
            ],
            [
             0.5555555555555556,
             "#d8576b"
            ],
            [
             0.6666666666666666,
             "#ed7953"
            ],
            [
             0.7777777777777778,
             "#fb9f3a"
            ],
            [
             0.8888888888888888,
             "#fdca26"
            ],
            [
             1,
             "#f0f921"
            ]
           ]
          },
          "colorway": [
           "#636efa",
           "#EF553B",
           "#00cc96",
           "#ab63fa",
           "#FFA15A",
           "#19d3f3",
           "#FF6692",
           "#B6E880",
           "#FF97FF",
           "#FECB52"
          ],
          "font": {
           "color": "#2a3f5f"
          },
          "geo": {
           "bgcolor": "white",
           "lakecolor": "white",
           "landcolor": "#E5ECF6",
           "showlakes": true,
           "showland": true,
           "subunitcolor": "white"
          },
          "hoverlabel": {
           "align": "left"
          },
          "hovermode": "closest",
          "mapbox": {
           "style": "light"
          },
          "paper_bgcolor": "white",
          "plot_bgcolor": "#E5ECF6",
          "polar": {
           "angularaxis": {
            "gridcolor": "white",
            "linecolor": "white",
            "ticks": ""
           },
           "bgcolor": "#E5ECF6",
           "radialaxis": {
            "gridcolor": "white",
            "linecolor": "white",
            "ticks": ""
           }
          },
          "scene": {
           "xaxis": {
            "backgroundcolor": "#E5ECF6",
            "gridcolor": "white",
            "gridwidth": 2,
            "linecolor": "white",
            "showbackground": true,
            "ticks": "",
            "zerolinecolor": "white"
           },
           "yaxis": {
            "backgroundcolor": "#E5ECF6",
            "gridcolor": "white",
            "gridwidth": 2,
            "linecolor": "white",
            "showbackground": true,
            "ticks": "",
            "zerolinecolor": "white"
           },
           "zaxis": {
            "backgroundcolor": "#E5ECF6",
            "gridcolor": "white",
            "gridwidth": 2,
            "linecolor": "white",
            "showbackground": true,
            "ticks": "",
            "zerolinecolor": "white"
           }
          },
          "shapedefaults": {
           "line": {
            "color": "#2a3f5f"
           }
          },
          "ternary": {
           "aaxis": {
            "gridcolor": "white",
            "linecolor": "white",
            "ticks": ""
           },
           "baxis": {
            "gridcolor": "white",
            "linecolor": "white",
            "ticks": ""
           },
           "bgcolor": "#E5ECF6",
           "caxis": {
            "gridcolor": "white",
            "linecolor": "white",
            "ticks": ""
           }
          },
          "title": {
           "x": 0.05
          },
          "xaxis": {
           "automargin": true,
           "gridcolor": "white",
           "linecolor": "white",
           "ticks": "",
           "title": {
            "standoff": 15
           },
           "zerolinecolor": "white",
           "zerolinewidth": 2
          },
          "yaxis": {
           "automargin": true,
           "gridcolor": "white",
           "linecolor": "white",
           "ticks": "",
           "title": {
            "standoff": 15
           },
           "zerolinecolor": "white",
           "zerolinewidth": 2
          }
         }
        },
        "title": {
         "text": "Float vs. String attributes"
        }
       }
      },
      "text/html": [
       "<div>                            <div id=\"7507bc41-1c02-4e41-a69a-c91adc0affe1\" class=\"plotly-graph-div\" style=\"height:525px; width:100%;\"></div>            <script type=\"text/javascript\">                require([\"plotly\"], function(Plotly) {                    window.PLOTLYENV=window.PLOTLYENV || {};                                    if (document.getElementById(\"7507bc41-1c02-4e41-a69a-c91adc0affe1\")) {                    Plotly.newPlot(                        \"7507bc41-1c02-4e41-a69a-c91adc0affe1\",                        [{\"domain\":{\"x\":[0.0,1.0],\"y\":[0.0,1.0]},\"hovertemplate\":\"Type=%{label}<br>Label=%{value}<extra></extra>\",\"labels\":[\"object\",\"float64\"],\"legendgroup\":\"\",\"name\":\"\",\"showlegend\":true,\"values\":[\"4\",\"173\"],\"type\":\"pie\"}],                        {\"template\":{\"data\":{\"bar\":[{\"error_x\":{\"color\":\"#2a3f5f\"},\"error_y\":{\"color\":\"#2a3f5f\"},\"marker\":{\"line\":{\"color\":\"#E5ECF6\",\"width\":0.5},\"pattern\":{\"fillmode\":\"overlay\",\"size\":10,\"solidity\":0.2}},\"type\":\"bar\"}],\"barpolar\":[{\"marker\":{\"line\":{\"color\":\"#E5ECF6\",\"width\":0.5},\"pattern\":{\"fillmode\":\"overlay\",\"size\":10,\"solidity\":0.2}},\"type\":\"barpolar\"}],\"carpet\":[{\"aaxis\":{\"endlinecolor\":\"#2a3f5f\",\"gridcolor\":\"white\",\"linecolor\":\"white\",\"minorgridcolor\":\"white\",\"startlinecolor\":\"#2a3f5f\"},\"baxis\":{\"endlinecolor\":\"#2a3f5f\",\"gridcolor\":\"white\",\"linecolor\":\"white\",\"minorgridcolor\":\"white\",\"startlinecolor\":\"#2a3f5f\"},\"type\":\"carpet\"}],\"choropleth\":[{\"colorbar\":{\"outlinewidth\":0,\"ticks\":\"\"},\"type\":\"choropleth\"}],\"contour\":[{\"colorbar\":{\"outlinewidth\":0,\"ticks\":\"\"},\"colorscale\":[[0.0,\"#0d0887\"],[0.1111111111111111,\"#46039f\"],[0.2222222222222222,\"#7201a8\"],[0.3333333333333333,\"#9c179e\"],[0.4444444444444444,\"#bd3786\"],[0.5555555555555556,\"#d8576b\"],[0.6666666666666666,\"#ed7953\"],[0.7777777777777778,\"#fb9f3a\"],[0.8888888888888888,\"#fdca26\"],[1.0,\"#f0f921\"]],\"type\":\"contour\"}],\"contourcarpet\":[{\"colorbar\":{\"outlinewidth\":0,\"ticks\":\"\"},\"type\":\"contourcarpet\"}],\"heatmap\":[{\"colorbar\":{\"outlinewidth\":0,\"ticks\":\"\"},\"colorscale\":[[0.0,\"#0d0887\"],[0.1111111111111111,\"#46039f\"],[0.2222222222222222,\"#7201a8\"],[0.3333333333333333,\"#9c179e\"],[0.4444444444444444,\"#bd3786\"],[0.5555555555555556,\"#d8576b\"],[0.6666666666666666,\"#ed7953\"],[0.7777777777777778,\"#fb9f3a\"],[0.8888888888888888,\"#fdca26\"],[1.0,\"#f0f921\"]],\"type\":\"heatmap\"}],\"heatmapgl\":[{\"colorbar\":{\"outlinewidth\":0,\"ticks\":\"\"},\"colorscale\":[[0.0,\"#0d0887\"],[0.1111111111111111,\"#46039f\"],[0.2222222222222222,\"#7201a8\"],[0.3333333333333333,\"#9c179e\"],[0.4444444444444444,\"#bd3786\"],[0.5555555555555556,\"#d8576b\"],[0.6666666666666666,\"#ed7953\"],[0.7777777777777778,\"#fb9f3a\"],[0.8888888888888888,\"#fdca26\"],[1.0,\"#f0f921\"]],\"type\":\"heatmapgl\"}],\"histogram\":[{\"marker\":{\"pattern\":{\"fillmode\":\"overlay\",\"size\":10,\"solidity\":0.2}},\"type\":\"histogram\"}],\"histogram2d\":[{\"colorbar\":{\"outlinewidth\":0,\"ticks\":\"\"},\"colorscale\":[[0.0,\"#0d0887\"],[0.1111111111111111,\"#46039f\"],[0.2222222222222222,\"#7201a8\"],[0.3333333333333333,\"#9c179e\"],[0.4444444444444444,\"#bd3786\"],[0.5555555555555556,\"#d8576b\"],[0.6666666666666666,\"#ed7953\"],[0.7777777777777778,\"#fb9f3a\"],[0.8888888888888888,\"#fdca26\"],[1.0,\"#f0f921\"]],\"type\":\"histogram2d\"}],\"histogram2dcontour\":[{\"colorbar\":{\"outlinewidth\":0,\"ticks\":\"\"},\"colorscale\":[[0.0,\"#0d0887\"],[0.1111111111111111,\"#46039f\"],[0.2222222222222222,\"#7201a8\"],[0.3333333333333333,\"#9c179e\"],[0.4444444444444444,\"#bd3786\"],[0.5555555555555556,\"#d8576b\"],[0.6666666666666666,\"#ed7953\"],[0.7777777777777778,\"#fb9f3a\"],[0.8888888888888888,\"#fdca26\"],[1.0,\"#f0f921\"]],\"type\":\"histogram2dcontour\"}],\"mesh3d\":[{\"colorbar\":{\"outlinewidth\":0,\"ticks\":\"\"},\"type\":\"mesh3d\"}],\"parcoords\":[{\"line\":{\"colorbar\":{\"outlinewidth\":0,\"ticks\":\"\"}},\"type\":\"parcoords\"}],\"pie\":[{\"automargin\":true,\"type\":\"pie\"}],\"scatter\":[{\"marker\":{\"colorbar\":{\"outlinewidth\":0,\"ticks\":\"\"}},\"type\":\"scatter\"}],\"scatter3d\":[{\"line\":{\"colorbar\":{\"outlinewidth\":0,\"ticks\":\"\"}},\"marker\":{\"colorbar\":{\"outlinewidth\":0,\"ticks\":\"\"}},\"type\":\"scatter3d\"}],\"scattercarpet\":[{\"marker\":{\"colorbar\":{\"outlinewidth\":0,\"ticks\":\"\"}},\"type\":\"scattercarpet\"}],\"scattergeo\":[{\"marker\":{\"colorbar\":{\"outlinewidth\":0,\"ticks\":\"\"}},\"type\":\"scattergeo\"}],\"scattergl\":[{\"marker\":{\"colorbar\":{\"outlinewidth\":0,\"ticks\":\"\"}},\"type\":\"scattergl\"}],\"scattermapbox\":[{\"marker\":{\"colorbar\":{\"outlinewidth\":0,\"ticks\":\"\"}},\"type\":\"scattermapbox\"}],\"scatterpolar\":[{\"marker\":{\"colorbar\":{\"outlinewidth\":0,\"ticks\":\"\"}},\"type\":\"scatterpolar\"}],\"scatterpolargl\":[{\"marker\":{\"colorbar\":{\"outlinewidth\":0,\"ticks\":\"\"}},\"type\":\"scatterpolargl\"}],\"scatterternary\":[{\"marker\":{\"colorbar\":{\"outlinewidth\":0,\"ticks\":\"\"}},\"type\":\"scatterternary\"}],\"surface\":[{\"colorbar\":{\"outlinewidth\":0,\"ticks\":\"\"},\"colorscale\":[[0.0,\"#0d0887\"],[0.1111111111111111,\"#46039f\"],[0.2222222222222222,\"#7201a8\"],[0.3333333333333333,\"#9c179e\"],[0.4444444444444444,\"#bd3786\"],[0.5555555555555556,\"#d8576b\"],[0.6666666666666666,\"#ed7953\"],[0.7777777777777778,\"#fb9f3a\"],[0.8888888888888888,\"#fdca26\"],[1.0,\"#f0f921\"]],\"type\":\"surface\"}],\"table\":[{\"cells\":{\"fill\":{\"color\":\"#EBF0F8\"},\"line\":{\"color\":\"white\"}},\"header\":{\"fill\":{\"color\":\"#C8D4E3\"},\"line\":{\"color\":\"white\"}},\"type\":\"table\"}]},\"layout\":{\"annotationdefaults\":{\"arrowcolor\":\"#2a3f5f\",\"arrowhead\":0,\"arrowwidth\":1},\"autotypenumbers\":\"strict\",\"coloraxis\":{\"colorbar\":{\"outlinewidth\":0,\"ticks\":\"\"}},\"colorscale\":{\"diverging\":[[0,\"#8e0152\"],[0.1,\"#c51b7d\"],[0.2,\"#de77ae\"],[0.3,\"#f1b6da\"],[0.4,\"#fde0ef\"],[0.5,\"#f7f7f7\"],[0.6,\"#e6f5d0\"],[0.7,\"#b8e186\"],[0.8,\"#7fbc41\"],[0.9,\"#4d9221\"],[1,\"#276419\"]],\"sequential\":[[0.0,\"#0d0887\"],[0.1111111111111111,\"#46039f\"],[0.2222222222222222,\"#7201a8\"],[0.3333333333333333,\"#9c179e\"],[0.4444444444444444,\"#bd3786\"],[0.5555555555555556,\"#d8576b\"],[0.6666666666666666,\"#ed7953\"],[0.7777777777777778,\"#fb9f3a\"],[0.8888888888888888,\"#fdca26\"],[1.0,\"#f0f921\"]],\"sequentialminus\":[[0.0,\"#0d0887\"],[0.1111111111111111,\"#46039f\"],[0.2222222222222222,\"#7201a8\"],[0.3333333333333333,\"#9c179e\"],[0.4444444444444444,\"#bd3786\"],[0.5555555555555556,\"#d8576b\"],[0.6666666666666666,\"#ed7953\"],[0.7777777777777778,\"#fb9f3a\"],[0.8888888888888888,\"#fdca26\"],[1.0,\"#f0f921\"]]},\"colorway\":[\"#636efa\",\"#EF553B\",\"#00cc96\",\"#ab63fa\",\"#FFA15A\",\"#19d3f3\",\"#FF6692\",\"#B6E880\",\"#FF97FF\",\"#FECB52\"],\"font\":{\"color\":\"#2a3f5f\"},\"geo\":{\"bgcolor\":\"white\",\"lakecolor\":\"white\",\"landcolor\":\"#E5ECF6\",\"showlakes\":true,\"showland\":true,\"subunitcolor\":\"white\"},\"hoverlabel\":{\"align\":\"left\"},\"hovermode\":\"closest\",\"mapbox\":{\"style\":\"light\"},\"paper_bgcolor\":\"white\",\"plot_bgcolor\":\"#E5ECF6\",\"polar\":{\"angularaxis\":{\"gridcolor\":\"white\",\"linecolor\":\"white\",\"ticks\":\"\"},\"bgcolor\":\"#E5ECF6\",\"radialaxis\":{\"gridcolor\":\"white\",\"linecolor\":\"white\",\"ticks\":\"\"}},\"scene\":{\"xaxis\":{\"backgroundcolor\":\"#E5ECF6\",\"gridcolor\":\"white\",\"gridwidth\":2,\"linecolor\":\"white\",\"showbackground\":true,\"ticks\":\"\",\"zerolinecolor\":\"white\"},\"yaxis\":{\"backgroundcolor\":\"#E5ECF6\",\"gridcolor\":\"white\",\"gridwidth\":2,\"linecolor\":\"white\",\"showbackground\":true,\"ticks\":\"\",\"zerolinecolor\":\"white\"},\"zaxis\":{\"backgroundcolor\":\"#E5ECF6\",\"gridcolor\":\"white\",\"gridwidth\":2,\"linecolor\":\"white\",\"showbackground\":true,\"ticks\":\"\",\"zerolinecolor\":\"white\"}},\"shapedefaults\":{\"line\":{\"color\":\"#2a3f5f\"}},\"ternary\":{\"aaxis\":{\"gridcolor\":\"white\",\"linecolor\":\"white\",\"ticks\":\"\"},\"baxis\":{\"gridcolor\":\"white\",\"linecolor\":\"white\",\"ticks\":\"\"},\"bgcolor\":\"#E5ECF6\",\"caxis\":{\"gridcolor\":\"white\",\"linecolor\":\"white\",\"ticks\":\"\"}},\"title\":{\"x\":0.05},\"xaxis\":{\"automargin\":true,\"gridcolor\":\"white\",\"linecolor\":\"white\",\"ticks\":\"\",\"title\":{\"standoff\":15},\"zerolinecolor\":\"white\",\"zerolinewidth\":2},\"yaxis\":{\"automargin\":true,\"gridcolor\":\"white\",\"linecolor\":\"white\",\"ticks\":\"\",\"title\":{\"standoff\":15},\"zerolinecolor\":\"white\",\"zerolinewidth\":2}}},\"legend\":{\"tracegroupgap\":0},\"title\":{\"text\":\"Float vs. String attributes\"}},                        {\"responsive\": true}                    ).then(function(){\n",
       "                            \n",
       "var gd = document.getElementById('7507bc41-1c02-4e41-a69a-c91adc0affe1');\n",
       "var x = new MutationObserver(function (mutations, observer) {{\n",
       "        var display = window.getComputedStyle(gd).display;\n",
       "        if (!display || display === 'none') {{\n",
       "            console.log([gd, 'removed!']);\n",
       "            Plotly.purge(gd);\n",
       "            observer.disconnect();\n",
       "        }}\n",
       "}});\n",
       "\n",
       "// Listen for the removal of the full notebook cells\n",
       "var notebookContainer = gd.closest('#notebook-container');\n",
       "if (notebookContainer) {{\n",
       "    x.observe(notebookContainer, {childList: true});\n",
       "}}\n",
       "\n",
       "// Listen for the clearing of the current output cell\n",
       "var outputEl = gd.closest('.output');\n",
       "if (outputEl) {{\n",
       "    x.observe(outputEl, {childList: true});\n",
       "}}\n",
       "\n",
       "                        })                };                });            </script>        </div>"
      ]
     },
     "metadata": {},
     "output_type": "display_data"
    }
   ],
   "source": [
    "fig = px.pie(types, values='Label', names='Type', title='Float vs. String attributes')\n",
    "fig.show()"
   ]
  },
  {
   "cell_type": "markdown",
   "metadata": {},
   "source": [
    "We'll use `Pandas`'s `OneHotEncoder` to convert catogorical attributes into numerical ones. Pandas uses the function `.get_dummies()` for one-hot encoding."
   ]
  },
  {
   "cell_type": "code",
   "execution_count": 278,
   "metadata": {},
   "outputs": [],
   "source": [
    "df = pd.get_dummies(df, columns=[\"Income Group\", \"System of trade\", \"Government Accounting concept\"], prefix=\"transformed\")"
   ]
  },
  {
   "cell_type": "markdown",
   "metadata": {},
   "source": [
    "Now that the encoding is done, we can also go ahead and fill in the null values. We'll replace it them with 0."
   ]
  },
  {
   "cell_type": "code",
   "execution_count": 287,
   "metadata": {},
   "outputs": [],
   "source": [
    "df.fillna(0, inplace=True)"
   ]
  },
  {
   "cell_type": "markdown",
   "metadata": {},
   "source": [
    "#### The importance of each attribute to the HDI"
   ]
  },
  {
   "cell_type": "code",
   "execution_count": 292,
   "metadata": {
    "scrolled": false
   },
   "outputs": [
    {
     "data": {
      "application/vnd.plotly.v1+json": {
       "config": {
        "plotlyServerURL": "https://plot.ly"
       },
       "data": [
        {
         "alignmentgroup": "True",
         "hovertemplate": "variable=0<br>index=%{x}<br>value=%{y}<extra></extra>",
         "legendgroup": "0",
         "marker": {
          "color": "#636efa",
          "pattern": {
           "shape": ""
          }
         },
         "name": "0",
         "offsetgroup": "0",
         "orientation": "v",
         "showlegend": true,
         "textposition": "auto",
         "type": "bar",
         "x": [
          "Age dependency ratio (% of working-age population)",
          "Age dependency ratio, old",
          "Age dependency ratio, young",
          "Age population, age 00, female, interpolated",
          "Age population, age 00, male, interpolated",
          "Age population, age 01, female, interpolated",
          "Age population, age 01, male, interpolated",
          "Age population, age 02, female, interpolated",
          "Age population, age 02, male, interpolated",
          "Age population, age 03, female, interpolated",
          "Age population, age 03, male, interpolated",
          "Age population, age 04, female, interpolated",
          "Age population, age 04, male, interpolated",
          "Age population, age 05, female, interpolated",
          "Age population, age 05, male, interpolated",
          "Age population, age 06, female, interpolated",
          "Age population, age 06, male, interpolated",
          "Age population, age 07, female, interpolated",
          "Age population, age 07, male, interpolated",
          "Age population, age 08, female, interpolated",
          "Age population, age 08, male, interpolated",
          "Age population, age 09, female, interpolated",
          "Age population, age 09, male, interpolated",
          "Age population, age 10, female, interpolated",
          "Age population, age 10, male, interpolated",
          "Age population, age 11, female, interpolated",
          "Age population, age 11, male, interpolated",
          "Age population, age 12, female, interpolated",
          "Age population, age 12, male, interpolated",
          "Age population, age 13, female, interpolated",
          "Age population, age 13, male, interpolated",
          "Age population, age 14, female, interpolated",
          "Age population, age 14, male, interpolated",
          "Age population, age 15, female, interpolated",
          "Age population, age 15, male, interpolated",
          "Age population, age 16, female, interpolated",
          "Age population, age 16, male, interpolated",
          "Age population, age 17, female, interpolated",
          "Age population, age 17, male, interpolated",
          "Age population, age 18, female, interpolated",
          "Age population, age 18, male, interpolated",
          "Age population, age 19, female, interpolated",
          "Age population, age 19, male, interpolated",
          "Age population, age 20, female, interpolated",
          "Age population, age 20, male, interpolated",
          "Age population, age 21, female, interpolated",
          "Age population, age 21, male, interpolated",
          "Age population, age 22, female, interpolated",
          "Age population, age 22, male, interpolated",
          "Age population, age 23, female, interpolated",
          "Age population, age 23, male, interpolated",
          "Age population, age 24, female, interpolated",
          "Age population, age 24, male, interpolated",
          "Age population, age 25, female, interpolated",
          "Age population, age 25, male, interpolated",
          "GNI per capita, Atlas method (current US$)",
          "Human capital index (HCI) (scale 0-1)",
          "Human capital index (HCI), lower bound (scale 0-1)",
          "Human capital index (HCI), upper bound (scale 0-1)",
          "Incidence of tuberculosis (per 100,000 people)",
          "Labor force, total",
          "People practicing open defecation (% of population)",
          "People practicing open defecation, rural (% of rural population)",
          "People practicing open defecation, urban (% of urban population)",
          "People using at least basic drinking water services (% of population)",
          "People using at least basic drinking water services, rural (% of rural population)",
          "People using at least basic drinking water services, urban (% of urban population)",
          "People using at least basic sanitation services (% of population)",
          "People using at least basic sanitation services, rural (% of rural population)",
          "People using at least basic sanitation services, urban  (% of urban population)",
          "Population ages 00-04, female",
          "Population ages 00-04, female (% of female population)",
          "Population ages 00-04, male",
          "Population ages 00-04, male (% of male population)",
          "Population ages 00-14, total",
          "Population ages 0-14 (% of total population)",
          "Population ages 0-14, female",
          "Population ages 0-14, female (% of female population)",
          "Population ages 0-14, male",
          "Population ages 0-14, male (% of male population)",
          "Population ages 05-09, female",
          "Population ages 05-09, female (% of female population)",
          "Population ages 05-09, male",
          "Population ages 05-09, male (% of male population)",
          "Population ages 10-14, female",
          "Population ages 10-14, female (% of female population)",
          "Population ages 10-14, male",
          "Population ages 10-14, male (% of male population)",
          "Population ages 15-19, female",
          "Population ages 15-19, female (% of female population)",
          "Population ages 15-19, male",
          "Population ages 15-19, male (% of male population)",
          "Population ages 15-64 (% of total population)",
          "Population ages 15-64, female",
          "Population ages 15-64, female (% of female population)",
          "Population ages 15-64, male",
          "Population ages 15-64, male (% of male population)",
          "Population ages 15-64, total",
          "Population ages 20-24, female",
          "Population ages 20-24, female (% of female population)",
          "Population ages 20-24, male",
          "Population ages 20-24, male (% of male population)",
          "Population ages 25-29, female",
          "Population ages 25-29, female (% of female population)",
          "Population ages 25-29, male",
          "Population ages 25-29, male (% of male population)",
          "Population ages 30-34, female",
          "Population ages 30-34, female (% of female population)",
          "Population ages 30-34, male",
          "Population ages 30-34, male (% of male population)",
          "Population ages 35-39, female",
          "Population ages 35-39, female (% of female population)",
          "Population ages 35-39, male",
          "Population ages 35-39, male (% of male population)",
          "Population ages 40-44, female",
          "Population ages 40-44, female (% of female population)",
          "Population ages 40-44, male",
          "Population ages 40-44, male (% of male population)",
          "Population ages 45-49, female",
          "Population ages 45-49, female (% of female population)",
          "Population ages 45-49, male",
          "Population ages 45-49, male (% of male population)",
          "Population ages 50-54, female",
          "Population ages 50-54, female (% of female population)",
          "Population ages 50-54, male",
          "Population ages 50-54, male (% of male population)",
          "Population ages 55-59, female",
          "Population ages 55-59, female (% of female population)",
          "Population ages 55-59, male",
          "Population ages 55-59, male (% of male population)",
          "Population ages 60-64, female",
          "Population ages 60-64, female (% of female population)",
          "Population ages 60-64, male",
          "Population ages 60-64, male (% of male population)",
          "Population ages 65 and above (% of total population)",
          "Population ages 65 and above, female",
          "Population ages 65 and above, female (% of female population)",
          "Population ages 65 and above, male",
          "Population ages 65 and above, male (% of male population)",
          "Population ages 65 and above, total",
          "Population ages 65-69, female",
          "Population ages 65-69, female (% of female population)",
          "Population ages 65-69, male",
          "Population ages 65-69, male (% of male population)",
          "Population ages 70-74, female",
          "Population ages 70-74, female (% of female population)",
          "Population ages 70-74, male",
          "Population ages 70-74, male (% of male population)",
          "Population ages 75-79, female",
          "Population ages 75-79, female (% of female population)",
          "Population ages 75-79, male",
          "Population ages 75-79, male (% of male population)",
          "Population ages 80 and above, female",
          "Population ages 80 and above, male",
          "Population ages 80 and above, male (% of male population)",
          "Population ages 80 and older, female (% of female population)",
          "Population growth (annual %)",
          "Population, female",
          "Population, female (% of total population)",
          "Population, male",
          "Population, male (% of total population)",
          "Population, total",
          "Prevalence of overweight (modeled estimate, % of children under 5)",
          "Rural population",
          "Rural population (% of total population)",
          "Rural population growth (annual %)",
          "Tuberculosis case detection rate (%, all forms)",
          "Tuberculosis death rate (per 100,000 people)",
          "Unemployment, total (% of total labor force)",
          "Urban population",
          "Urban population (% of total population)",
          "Urban population growth (annual %)",
          "transformed_High income",
          "transformed_Low income",
          "transformed_Lower middle income",
          "transformed_Upper middle income",
          "transformed_General trade system",
          "transformed_Special trade system",
          "transformed_Budgetary central government",
          "transformed_Consolidated central government"
         ],
         "xaxis": "x",
         "y": [
          0.0016917558983909977,
          0.002383560152760361,
          0.03248202071264616,
          4.004037562178346e-05,
          8.890277837857668e-05,
          7.036867437311218e-05,
          7.394604877014783e-05,
          5.303202818375569e-05,
          7.64538386257418e-05,
          5.2335230589302535e-05,
          3.013312523140183e-05,
          8.821105546297053e-05,
          4.857127228065667e-05,
          1.8521322568683936e-05,
          3.921484289504627e-05,
          4.597894318122812e-05,
          6.625081957693023e-05,
          1.7713282735496085e-05,
          9.857653556066439e-05,
          0.00010704346348023336,
          4.527679568419546e-05,
          3.42990040803095e-05,
          5.798582453674412e-05,
          6.911858101107494e-05,
          4.36605976957246e-05,
          4.644353871524487e-05,
          4.987176171873789e-05,
          2.7754638099675887e-05,
          2.3627441858670447e-05,
          7.630816760925288e-05,
          2.544024486961263e-05,
          6.246553924848384e-05,
          3.961691419040271e-05,
          3.674505081069135e-05,
          4.8570459152788806e-05,
          3.139027472221027e-05,
          9.705231874180577e-05,
          4.3647164286110687e-05,
          6.340057444091309e-05,
          7.207889742382603e-05,
          7.171892114423487e-05,
          3.425418512703499e-05,
          2.8838909727710952e-05,
          5.592180651531266e-05,
          3.600632779273018e-05,
          2.832546780613832e-05,
          6.331628188700446e-05,
          6.102398024140663e-05,
          3.743593512165225e-05,
          3.672005452202902e-05,
          4.6568694146055955e-05,
          5.7815005269999865e-05,
          5.047789080876588e-05,
          3.0055576632213752e-05,
          4.713010308306346e-05,
          0.019406576484682213,
          0.033055531234505935,
          0.04063197162849292,
          0.021148680768507847,
          0.0031129709797833743,
          6.815829525536446e-05,
          0.0018222555265429985,
          0.001168616623188464,
          0.0010100463764316158,
          0.006390340512524385,
          0.001170186319025269,
          0.0024951858909018324,
          0.019040156530915047,
          0.002487244778151706,
          0.0013794944262598894,
          4.685312740994731e-05,
          0.011518613209819659,
          7.578167927387978e-05,
          0.017291983002790702,
          5.3618292756900645e-05,
          0.03632152587292421,
          1.8543696281382016e-05,
          0.017526102847302508,
          3.808424768499191e-05,
          0.020959126175052516,
          8.066486092059927e-05,
          0.0014808909028867679,
          3.749263033305131e-05,
          0.007227321735891225,
          4.754174054857335e-05,
          0.05249401505243977,
          4.98399639258662e-05,
          0.10963126634402194,
          3.933222518552644e-05,
          0.069171577924678,
          4.332969978567586e-05,
          0.05077017887221377,
          0.002779878292397496,
          2.896385211551152e-05,
          0.001185739021333452,
          4.2757537914210486e-05,
          0.002336198383864222,
          8.537874711236265e-05,
          5.6059521063926144e-05,
          0.03750980853159979,
          4.952558656257804e-05,
          0.008299347922252209,
          0.00010511431009092258,
          0.0006774945770673644,
          5.430882978984114e-05,
          0.0006224855681267539,
          0.00010221679885176013,
          0.001182697399940234,
          7.946481323733051e-05,
          0.0007877737687695601,
          3.6091654668504e-05,
          0.0012909873569501246,
          4.209146118224553e-05,
          0.0005418208247312875,
          8.735515148681996e-05,
          0.0014489956057022312,
          7.10384459595447e-05,
          0.0007109636192915809,
          6.985534746264324e-05,
          0.004892326276035263,
          8.585671552864687e-05,
          0.014338616122631997,
          6.0838025588383574e-05,
          0.0039226525106614,
          8.969709056396452e-05,
          0.02427894261743183,
          7.113514553134249e-05,
          0.001042318129528003,
          0.0002803220568563196,
          0.006252143490863525,
          7.140409285704388e-05,
          0.0009998921510430403,
          0.00015997272196123082,
          0.0022261271054272265,
          0.002296913790026468,
          5.2118568299063365e-05,
          0.0033686540683798105,
          6.420846727303453e-05,
          0.001273833398711326,
          5.531951948694639e-05,
          9.064357124464467e-05,
          0.0022220577318141877,
          6.30444917315904e-05,
          0.0021856598072234404,
          2.3766553668922757e-05,
          0.0008080441139579919,
          0.0001214527279562349,
          0.0013118809705735814,
          5.802143408380947e-05,
          0.0007691363063514843,
          0.00012287660527246727,
          0.0012316213684647618,
          0.00010046922151649238,
          6.867104364781394e-05,
          0.0029201946957770684,
          0.0020862265005088653,
          0.0006175079002368022,
          3.149493097559486e-05,
          0.0006986159551971443,
          5.107788737043398e-05,
          0.0005996720189896537,
          7.603609317615203e-05,
          0.0014045161349344791,
          0.0001284767748435016,
          0.002162775068544629,
          0.000446707624569804,
          0.001228128194538684,
          0.008884017258218541,
          0.0005972958578418453,
          0.00031336653822809055,
          0.0022416248907830318,
          0.008759121695037326,
          0.12320018650387833,
          0.08986669395094493,
          0.0200758751274017,
          0.007256757335800557,
          0.000560967648005403,
          0.0005916866076736708,
          0.0008488917430255756,
          0.0004429403124490183
         ],
         "yaxis": "y"
        }
       ],
       "layout": {
        "barmode": "relative",
        "legend": {
         "title": {
          "text": "variable"
         },
         "tracegroupgap": 0
        },
        "template": {
         "data": {
          "bar": [
           {
            "error_x": {
             "color": "#2a3f5f"
            },
            "error_y": {
             "color": "#2a3f5f"
            },
            "marker": {
             "line": {
              "color": "#E5ECF6",
              "width": 0.5
             },
             "pattern": {
              "fillmode": "overlay",
              "size": 10,
              "solidity": 0.2
             }
            },
            "type": "bar"
           }
          ],
          "barpolar": [
           {
            "marker": {
             "line": {
              "color": "#E5ECF6",
              "width": 0.5
             },
             "pattern": {
              "fillmode": "overlay",
              "size": 10,
              "solidity": 0.2
             }
            },
            "type": "barpolar"
           }
          ],
          "carpet": [
           {
            "aaxis": {
             "endlinecolor": "#2a3f5f",
             "gridcolor": "white",
             "linecolor": "white",
             "minorgridcolor": "white",
             "startlinecolor": "#2a3f5f"
            },
            "baxis": {
             "endlinecolor": "#2a3f5f",
             "gridcolor": "white",
             "linecolor": "white",
             "minorgridcolor": "white",
             "startlinecolor": "#2a3f5f"
            },
            "type": "carpet"
           }
          ],
          "choropleth": [
           {
            "colorbar": {
             "outlinewidth": 0,
             "ticks": ""
            },
            "type": "choropleth"
           }
          ],
          "contour": [
           {
            "colorbar": {
             "outlinewidth": 0,
             "ticks": ""
            },
            "colorscale": [
             [
              0,
              "#0d0887"
             ],
             [
              0.1111111111111111,
              "#46039f"
             ],
             [
              0.2222222222222222,
              "#7201a8"
             ],
             [
              0.3333333333333333,
              "#9c179e"
             ],
             [
              0.4444444444444444,
              "#bd3786"
             ],
             [
              0.5555555555555556,
              "#d8576b"
             ],
             [
              0.6666666666666666,
              "#ed7953"
             ],
             [
              0.7777777777777778,
              "#fb9f3a"
             ],
             [
              0.8888888888888888,
              "#fdca26"
             ],
             [
              1,
              "#f0f921"
             ]
            ],
            "type": "contour"
           }
          ],
          "contourcarpet": [
           {
            "colorbar": {
             "outlinewidth": 0,
             "ticks": ""
            },
            "type": "contourcarpet"
           }
          ],
          "heatmap": [
           {
            "colorbar": {
             "outlinewidth": 0,
             "ticks": ""
            },
            "colorscale": [
             [
              0,
              "#0d0887"
             ],
             [
              0.1111111111111111,
              "#46039f"
             ],
             [
              0.2222222222222222,
              "#7201a8"
             ],
             [
              0.3333333333333333,
              "#9c179e"
             ],
             [
              0.4444444444444444,
              "#bd3786"
             ],
             [
              0.5555555555555556,
              "#d8576b"
             ],
             [
              0.6666666666666666,
              "#ed7953"
             ],
             [
              0.7777777777777778,
              "#fb9f3a"
             ],
             [
              0.8888888888888888,
              "#fdca26"
             ],
             [
              1,
              "#f0f921"
             ]
            ],
            "type": "heatmap"
           }
          ],
          "heatmapgl": [
           {
            "colorbar": {
             "outlinewidth": 0,
             "ticks": ""
            },
            "colorscale": [
             [
              0,
              "#0d0887"
             ],
             [
              0.1111111111111111,
              "#46039f"
             ],
             [
              0.2222222222222222,
              "#7201a8"
             ],
             [
              0.3333333333333333,
              "#9c179e"
             ],
             [
              0.4444444444444444,
              "#bd3786"
             ],
             [
              0.5555555555555556,
              "#d8576b"
             ],
             [
              0.6666666666666666,
              "#ed7953"
             ],
             [
              0.7777777777777778,
              "#fb9f3a"
             ],
             [
              0.8888888888888888,
              "#fdca26"
             ],
             [
              1,
              "#f0f921"
             ]
            ],
            "type": "heatmapgl"
           }
          ],
          "histogram": [
           {
            "marker": {
             "pattern": {
              "fillmode": "overlay",
              "size": 10,
              "solidity": 0.2
             }
            },
            "type": "histogram"
           }
          ],
          "histogram2d": [
           {
            "colorbar": {
             "outlinewidth": 0,
             "ticks": ""
            },
            "colorscale": [
             [
              0,
              "#0d0887"
             ],
             [
              0.1111111111111111,
              "#46039f"
             ],
             [
              0.2222222222222222,
              "#7201a8"
             ],
             [
              0.3333333333333333,
              "#9c179e"
             ],
             [
              0.4444444444444444,
              "#bd3786"
             ],
             [
              0.5555555555555556,
              "#d8576b"
             ],
             [
              0.6666666666666666,
              "#ed7953"
             ],
             [
              0.7777777777777778,
              "#fb9f3a"
             ],
             [
              0.8888888888888888,
              "#fdca26"
             ],
             [
              1,
              "#f0f921"
             ]
            ],
            "type": "histogram2d"
           }
          ],
          "histogram2dcontour": [
           {
            "colorbar": {
             "outlinewidth": 0,
             "ticks": ""
            },
            "colorscale": [
             [
              0,
              "#0d0887"
             ],
             [
              0.1111111111111111,
              "#46039f"
             ],
             [
              0.2222222222222222,
              "#7201a8"
             ],
             [
              0.3333333333333333,
              "#9c179e"
             ],
             [
              0.4444444444444444,
              "#bd3786"
             ],
             [
              0.5555555555555556,
              "#d8576b"
             ],
             [
              0.6666666666666666,
              "#ed7953"
             ],
             [
              0.7777777777777778,
              "#fb9f3a"
             ],
             [
              0.8888888888888888,
              "#fdca26"
             ],
             [
              1,
              "#f0f921"
             ]
            ],
            "type": "histogram2dcontour"
           }
          ],
          "mesh3d": [
           {
            "colorbar": {
             "outlinewidth": 0,
             "ticks": ""
            },
            "type": "mesh3d"
           }
          ],
          "parcoords": [
           {
            "line": {
             "colorbar": {
              "outlinewidth": 0,
              "ticks": ""
             }
            },
            "type": "parcoords"
           }
          ],
          "pie": [
           {
            "automargin": true,
            "type": "pie"
           }
          ],
          "scatter": [
           {
            "marker": {
             "colorbar": {
              "outlinewidth": 0,
              "ticks": ""
             }
            },
            "type": "scatter"
           }
          ],
          "scatter3d": [
           {
            "line": {
             "colorbar": {
              "outlinewidth": 0,
              "ticks": ""
             }
            },
            "marker": {
             "colorbar": {
              "outlinewidth": 0,
              "ticks": ""
             }
            },
            "type": "scatter3d"
           }
          ],
          "scattercarpet": [
           {
            "marker": {
             "colorbar": {
              "outlinewidth": 0,
              "ticks": ""
             }
            },
            "type": "scattercarpet"
           }
          ],
          "scattergeo": [
           {
            "marker": {
             "colorbar": {
              "outlinewidth": 0,
              "ticks": ""
             }
            },
            "type": "scattergeo"
           }
          ],
          "scattergl": [
           {
            "marker": {
             "colorbar": {
              "outlinewidth": 0,
              "ticks": ""
             }
            },
            "type": "scattergl"
           }
          ],
          "scattermapbox": [
           {
            "marker": {
             "colorbar": {
              "outlinewidth": 0,
              "ticks": ""
             }
            },
            "type": "scattermapbox"
           }
          ],
          "scatterpolar": [
           {
            "marker": {
             "colorbar": {
              "outlinewidth": 0,
              "ticks": ""
             }
            },
            "type": "scatterpolar"
           }
          ],
          "scatterpolargl": [
           {
            "marker": {
             "colorbar": {
              "outlinewidth": 0,
              "ticks": ""
             }
            },
            "type": "scatterpolargl"
           }
          ],
          "scatterternary": [
           {
            "marker": {
             "colorbar": {
              "outlinewidth": 0,
              "ticks": ""
             }
            },
            "type": "scatterternary"
           }
          ],
          "surface": [
           {
            "colorbar": {
             "outlinewidth": 0,
             "ticks": ""
            },
            "colorscale": [
             [
              0,
              "#0d0887"
             ],
             [
              0.1111111111111111,
              "#46039f"
             ],
             [
              0.2222222222222222,
              "#7201a8"
             ],
             [
              0.3333333333333333,
              "#9c179e"
             ],
             [
              0.4444444444444444,
              "#bd3786"
             ],
             [
              0.5555555555555556,
              "#d8576b"
             ],
             [
              0.6666666666666666,
              "#ed7953"
             ],
             [
              0.7777777777777778,
              "#fb9f3a"
             ],
             [
              0.8888888888888888,
              "#fdca26"
             ],
             [
              1,
              "#f0f921"
             ]
            ],
            "type": "surface"
           }
          ],
          "table": [
           {
            "cells": {
             "fill": {
              "color": "#EBF0F8"
             },
             "line": {
              "color": "white"
             }
            },
            "header": {
             "fill": {
              "color": "#C8D4E3"
             },
             "line": {
              "color": "white"
             }
            },
            "type": "table"
           }
          ]
         },
         "layout": {
          "annotationdefaults": {
           "arrowcolor": "#2a3f5f",
           "arrowhead": 0,
           "arrowwidth": 1
          },
          "autotypenumbers": "strict",
          "coloraxis": {
           "colorbar": {
            "outlinewidth": 0,
            "ticks": ""
           }
          },
          "colorscale": {
           "diverging": [
            [
             0,
             "#8e0152"
            ],
            [
             0.1,
             "#c51b7d"
            ],
            [
             0.2,
             "#de77ae"
            ],
            [
             0.3,
             "#f1b6da"
            ],
            [
             0.4,
             "#fde0ef"
            ],
            [
             0.5,
             "#f7f7f7"
            ],
            [
             0.6,
             "#e6f5d0"
            ],
            [
             0.7,
             "#b8e186"
            ],
            [
             0.8,
             "#7fbc41"
            ],
            [
             0.9,
             "#4d9221"
            ],
            [
             1,
             "#276419"
            ]
           ],
           "sequential": [
            [
             0,
             "#0d0887"
            ],
            [
             0.1111111111111111,
             "#46039f"
            ],
            [
             0.2222222222222222,
             "#7201a8"
            ],
            [
             0.3333333333333333,
             "#9c179e"
            ],
            [
             0.4444444444444444,
             "#bd3786"
            ],
            [
             0.5555555555555556,
             "#d8576b"
            ],
            [
             0.6666666666666666,
             "#ed7953"
            ],
            [
             0.7777777777777778,
             "#fb9f3a"
            ],
            [
             0.8888888888888888,
             "#fdca26"
            ],
            [
             1,
             "#f0f921"
            ]
           ],
           "sequentialminus": [
            [
             0,
             "#0d0887"
            ],
            [
             0.1111111111111111,
             "#46039f"
            ],
            [
             0.2222222222222222,
             "#7201a8"
            ],
            [
             0.3333333333333333,
             "#9c179e"
            ],
            [
             0.4444444444444444,
             "#bd3786"
            ],
            [
             0.5555555555555556,
             "#d8576b"
            ],
            [
             0.6666666666666666,
             "#ed7953"
            ],
            [
             0.7777777777777778,
             "#fb9f3a"
            ],
            [
             0.8888888888888888,
             "#fdca26"
            ],
            [
             1,
             "#f0f921"
            ]
           ]
          },
          "colorway": [
           "#636efa",
           "#EF553B",
           "#00cc96",
           "#ab63fa",
           "#FFA15A",
           "#19d3f3",
           "#FF6692",
           "#B6E880",
           "#FF97FF",
           "#FECB52"
          ],
          "font": {
           "color": "#2a3f5f"
          },
          "geo": {
           "bgcolor": "white",
           "lakecolor": "white",
           "landcolor": "#E5ECF6",
           "showlakes": true,
           "showland": true,
           "subunitcolor": "white"
          },
          "hoverlabel": {
           "align": "left"
          },
          "hovermode": "closest",
          "mapbox": {
           "style": "light"
          },
          "paper_bgcolor": "white",
          "plot_bgcolor": "#E5ECF6",
          "polar": {
           "angularaxis": {
            "gridcolor": "white",
            "linecolor": "white",
            "ticks": ""
           },
           "bgcolor": "#E5ECF6",
           "radialaxis": {
            "gridcolor": "white",
            "linecolor": "white",
            "ticks": ""
           }
          },
          "scene": {
           "xaxis": {
            "backgroundcolor": "#E5ECF6",
            "gridcolor": "white",
            "gridwidth": 2,
            "linecolor": "white",
            "showbackground": true,
            "ticks": "",
            "zerolinecolor": "white"
           },
           "yaxis": {
            "backgroundcolor": "#E5ECF6",
            "gridcolor": "white",
            "gridwidth": 2,
            "linecolor": "white",
            "showbackground": true,
            "ticks": "",
            "zerolinecolor": "white"
           },
           "zaxis": {
            "backgroundcolor": "#E5ECF6",
            "gridcolor": "white",
            "gridwidth": 2,
            "linecolor": "white",
            "showbackground": true,
            "ticks": "",
            "zerolinecolor": "white"
           }
          },
          "shapedefaults": {
           "line": {
            "color": "#2a3f5f"
           }
          },
          "ternary": {
           "aaxis": {
            "gridcolor": "white",
            "linecolor": "white",
            "ticks": ""
           },
           "baxis": {
            "gridcolor": "white",
            "linecolor": "white",
            "ticks": ""
           },
           "bgcolor": "#E5ECF6",
           "caxis": {
            "gridcolor": "white",
            "linecolor": "white",
            "ticks": ""
           }
          },
          "title": {
           "x": 0.05
          },
          "xaxis": {
           "automargin": true,
           "gridcolor": "white",
           "linecolor": "white",
           "ticks": "",
           "title": {
            "standoff": 15
           },
           "zerolinecolor": "white",
           "zerolinewidth": 2
          },
          "yaxis": {
           "automargin": true,
           "gridcolor": "white",
           "linecolor": "white",
           "ticks": "",
           "title": {
            "standoff": 15
           },
           "zerolinecolor": "white",
           "zerolinewidth": 2
          }
         }
        },
        "title": {
         "text": "Importance of each Attribute to Human Development Index"
        },
        "xaxis": {
         "anchor": "y",
         "domain": [
          0,
          1
         ],
         "title": {
          "text": "index"
         }
        },
        "yaxis": {
         "anchor": "x",
         "domain": [
          0,
          1
         ],
         "title": {
          "text": "value"
         }
        }
       }
      },
      "text/html": [
       "<div>                            <div id=\"ed3418df-bbab-417d-87d5-71fac557a747\" class=\"plotly-graph-div\" style=\"height:525px; width:100%;\"></div>            <script type=\"text/javascript\">                require([\"plotly\"], function(Plotly) {                    window.PLOTLYENV=window.PLOTLYENV || {};                                    if (document.getElementById(\"ed3418df-bbab-417d-87d5-71fac557a747\")) {                    Plotly.newPlot(                        \"ed3418df-bbab-417d-87d5-71fac557a747\",                        [{\"alignmentgroup\":\"True\",\"hovertemplate\":\"variable=0<br>index=%{x}<br>value=%{y}<extra></extra>\",\"legendgroup\":\"0\",\"marker\":{\"color\":\"#636efa\",\"pattern\":{\"shape\":\"\"}},\"name\":\"0\",\"offsetgroup\":\"0\",\"orientation\":\"v\",\"showlegend\":true,\"textposition\":\"auto\",\"x\":[\"Age dependency ratio (% of working-age population)\",\"Age dependency ratio, old\",\"Age dependency ratio, young\",\"Age population, age 00, female, interpolated\",\"Age population, age 00, male, interpolated\",\"Age population, age 01, female, interpolated\",\"Age population, age 01, male, interpolated\",\"Age population, age 02, female, interpolated\",\"Age population, age 02, male, interpolated\",\"Age population, age 03, female, interpolated\",\"Age population, age 03, male, interpolated\",\"Age population, age 04, female, interpolated\",\"Age population, age 04, male, interpolated\",\"Age population, age 05, female, interpolated\",\"Age population, age 05, male, interpolated\",\"Age population, age 06, female, interpolated\",\"Age population, age 06, male, interpolated\",\"Age population, age 07, female, interpolated\",\"Age population, age 07, male, interpolated\",\"Age population, age 08, female, interpolated\",\"Age population, age 08, male, interpolated\",\"Age population, age 09, female, interpolated\",\"Age population, age 09, male, interpolated\",\"Age population, age 10, female, interpolated\",\"Age population, age 10, male, interpolated\",\"Age population, age 11, female, interpolated\",\"Age population, age 11, male, interpolated\",\"Age population, age 12, female, interpolated\",\"Age population, age 12, male, interpolated\",\"Age population, age 13, female, interpolated\",\"Age population, age 13, male, interpolated\",\"Age population, age 14, female, interpolated\",\"Age population, age 14, male, interpolated\",\"Age population, age 15, female, interpolated\",\"Age population, age 15, male, interpolated\",\"Age population, age 16, female, interpolated\",\"Age population, age 16, male, interpolated\",\"Age population, age 17, female, interpolated\",\"Age population, age 17, male, interpolated\",\"Age population, age 18, female, interpolated\",\"Age population, age 18, male, interpolated\",\"Age population, age 19, female, interpolated\",\"Age population, age 19, male, interpolated\",\"Age population, age 20, female, interpolated\",\"Age population, age 20, male, interpolated\",\"Age population, age 21, female, interpolated\",\"Age population, age 21, male, interpolated\",\"Age population, age 22, female, interpolated\",\"Age population, age 22, male, interpolated\",\"Age population, age 23, female, interpolated\",\"Age population, age 23, male, interpolated\",\"Age population, age 24, female, interpolated\",\"Age population, age 24, male, interpolated\",\"Age population, age 25, female, interpolated\",\"Age population, age 25, male, interpolated\",\"GNI per capita, Atlas method (current US$)\",\"Human capital index (HCI) (scale 0-1)\",\"Human capital index (HCI), lower bound (scale 0-1)\",\"Human capital index (HCI), upper bound (scale 0-1)\",\"Incidence of tuberculosis (per 100,000 people)\",\"Labor force, total\",\"People practicing open defecation (% of population)\",\"People practicing open defecation, rural (% of rural population)\",\"People practicing open defecation, urban (% of urban population)\",\"People using at least basic drinking water services (% of population)\",\"People using at least basic drinking water services, rural (% of rural population)\",\"People using at least basic drinking water services, urban (% of urban population)\",\"People using at least basic sanitation services (% of population)\",\"People using at least basic sanitation services, rural (% of rural population)\",\"People using at least basic sanitation services, urban  (% of urban population)\",\"Population ages 00-04, female\",\"Population ages 00-04, female (% of female population)\",\"Population ages 00-04, male\",\"Population ages 00-04, male (% of male population)\",\"Population ages 00-14, total\",\"Population ages 0-14 (% of total population)\",\"Population ages 0-14, female\",\"Population ages 0-14, female (% of female population)\",\"Population ages 0-14, male\",\"Population ages 0-14, male (% of male population)\",\"Population ages 05-09, female\",\"Population ages 05-09, female (% of female population)\",\"Population ages 05-09, male\",\"Population ages 05-09, male (% of male population)\",\"Population ages 10-14, female\",\"Population ages 10-14, female (% of female population)\",\"Population ages 10-14, male\",\"Population ages 10-14, male (% of male population)\",\"Population ages 15-19, female\",\"Population ages 15-19, female (% of female population)\",\"Population ages 15-19, male\",\"Population ages 15-19, male (% of male population)\",\"Population ages 15-64 (% of total population)\",\"Population ages 15-64, female\",\"Population ages 15-64, female (% of female population)\",\"Population ages 15-64, male\",\"Population ages 15-64, male (% of male population)\",\"Population ages 15-64, total\",\"Population ages 20-24, female\",\"Population ages 20-24, female (% of female population)\",\"Population ages 20-24, male\",\"Population ages 20-24, male (% of male population)\",\"Population ages 25-29, female\",\"Population ages 25-29, female (% of female population)\",\"Population ages 25-29, male\",\"Population ages 25-29, male (% of male population)\",\"Population ages 30-34, female\",\"Population ages 30-34, female (% of female population)\",\"Population ages 30-34, male\",\"Population ages 30-34, male (% of male population)\",\"Population ages 35-39, female\",\"Population ages 35-39, female (% of female population)\",\"Population ages 35-39, male\",\"Population ages 35-39, male (% of male population)\",\"Population ages 40-44, female\",\"Population ages 40-44, female (% of female population)\",\"Population ages 40-44, male\",\"Population ages 40-44, male (% of male population)\",\"Population ages 45-49, female\",\"Population ages 45-49, female (% of female population)\",\"Population ages 45-49, male\",\"Population ages 45-49, male (% of male population)\",\"Population ages 50-54, female\",\"Population ages 50-54, female (% of female population)\",\"Population ages 50-54, male\",\"Population ages 50-54, male (% of male population)\",\"Population ages 55-59, female\",\"Population ages 55-59, female (% of female population)\",\"Population ages 55-59, male\",\"Population ages 55-59, male (% of male population)\",\"Population ages 60-64, female\",\"Population ages 60-64, female (% of female population)\",\"Population ages 60-64, male\",\"Population ages 60-64, male (% of male population)\",\"Population ages 65 and above (% of total population)\",\"Population ages 65 and above, female\",\"Population ages 65 and above, female (% of female population)\",\"Population ages 65 and above, male\",\"Population ages 65 and above, male (% of male population)\",\"Population ages 65 and above, total\",\"Population ages 65-69, female\",\"Population ages 65-69, female (% of female population)\",\"Population ages 65-69, male\",\"Population ages 65-69, male (% of male population)\",\"Population ages 70-74, female\",\"Population ages 70-74, female (% of female population)\",\"Population ages 70-74, male\",\"Population ages 70-74, male (% of male population)\",\"Population ages 75-79, female\",\"Population ages 75-79, female (% of female population)\",\"Population ages 75-79, male\",\"Population ages 75-79, male (% of male population)\",\"Population ages 80 and above, female\",\"Population ages 80 and above, male\",\"Population ages 80 and above, male (% of male population)\",\"Population ages 80 and older, female (% of female population)\",\"Population growth (annual %)\",\"Population, female\",\"Population, female (% of total population)\",\"Population, male\",\"Population, male (% of total population)\",\"Population, total\",\"Prevalence of overweight (modeled estimate, % of children under 5)\",\"Rural population\",\"Rural population (% of total population)\",\"Rural population growth (annual %)\",\"Tuberculosis case detection rate (%, all forms)\",\"Tuberculosis death rate (per 100,000 people)\",\"Unemployment, total (% of total labor force)\",\"Urban population\",\"Urban population (% of total population)\",\"Urban population growth (annual %)\",\"transformed_High income\",\"transformed_Low income\",\"transformed_Lower middle income\",\"transformed_Upper middle income\",\"transformed_General trade system\",\"transformed_Special trade system\",\"transformed_Budgetary central government\",\"transformed_Consolidated central government\"],\"xaxis\":\"x\",\"y\":[0.0016917558983909977,0.002383560152760361,0.03248202071264616,4.004037562178346e-05,8.890277837857668e-05,7.036867437311218e-05,7.394604877014783e-05,5.303202818375569e-05,7.64538386257418e-05,5.2335230589302535e-05,3.013312523140183e-05,8.821105546297053e-05,4.857127228065667e-05,1.8521322568683936e-05,3.921484289504627e-05,4.597894318122812e-05,6.625081957693023e-05,1.7713282735496085e-05,9.857653556066439e-05,0.00010704346348023336,4.527679568419546e-05,3.42990040803095e-05,5.798582453674412e-05,6.911858101107494e-05,4.36605976957246e-05,4.644353871524487e-05,4.987176171873789e-05,2.7754638099675887e-05,2.3627441858670447e-05,7.630816760925288e-05,2.544024486961263e-05,6.246553924848384e-05,3.961691419040271e-05,3.674505081069135e-05,4.8570459152788806e-05,3.139027472221027e-05,9.705231874180577e-05,4.3647164286110687e-05,6.340057444091309e-05,7.207889742382603e-05,7.171892114423487e-05,3.425418512703499e-05,2.8838909727710952e-05,5.592180651531266e-05,3.600632779273018e-05,2.832546780613832e-05,6.331628188700446e-05,6.102398024140663e-05,3.743593512165225e-05,3.672005452202902e-05,4.6568694146055955e-05,5.7815005269999865e-05,5.047789080876588e-05,3.0055576632213752e-05,4.713010308306346e-05,0.019406576484682213,0.033055531234505935,0.04063197162849292,0.021148680768507847,0.0031129709797833743,6.815829525536446e-05,0.0018222555265429985,0.001168616623188464,0.0010100463764316158,0.006390340512524385,0.001170186319025269,0.0024951858909018324,0.019040156530915047,0.002487244778151706,0.0013794944262598894,4.685312740994731e-05,0.011518613209819659,7.578167927387978e-05,0.017291983002790702,5.3618292756900645e-05,0.03632152587292421,1.8543696281382016e-05,0.017526102847302508,3.808424768499191e-05,0.020959126175052516,8.066486092059927e-05,0.0014808909028867679,3.749263033305131e-05,0.007227321735891225,4.754174054857335e-05,0.05249401505243977,4.98399639258662e-05,0.10963126634402194,3.933222518552644e-05,0.069171577924678,4.332969978567586e-05,0.05077017887221377,0.002779878292397496,2.896385211551152e-05,0.001185739021333452,4.2757537914210486e-05,0.002336198383864222,8.537874711236265e-05,5.6059521063926144e-05,0.03750980853159979,4.952558656257804e-05,0.008299347922252209,0.00010511431009092258,0.0006774945770673644,5.430882978984114e-05,0.0006224855681267539,0.00010221679885176013,0.001182697399940234,7.946481323733051e-05,0.0007877737687695601,3.6091654668504e-05,0.0012909873569501246,4.209146118224553e-05,0.0005418208247312875,8.735515148681996e-05,0.0014489956057022312,7.10384459595447e-05,0.0007109636192915809,6.985534746264324e-05,0.004892326276035263,8.585671552864687e-05,0.014338616122631997,6.0838025588383574e-05,0.0039226525106614,8.969709056396452e-05,0.02427894261743183,7.113514553134249e-05,0.001042318129528003,0.0002803220568563196,0.006252143490863525,7.140409285704388e-05,0.0009998921510430403,0.00015997272196123082,0.0022261271054272265,0.002296913790026468,5.2118568299063365e-05,0.0033686540683798105,6.420846727303453e-05,0.001273833398711326,5.531951948694639e-05,9.064357124464467e-05,0.0022220577318141877,6.30444917315904e-05,0.0021856598072234404,2.3766553668922757e-05,0.0008080441139579919,0.0001214527279562349,0.0013118809705735814,5.802143408380947e-05,0.0007691363063514843,0.00012287660527246727,0.0012316213684647618,0.00010046922151649238,6.867104364781394e-05,0.0029201946957770684,0.0020862265005088653,0.0006175079002368022,3.149493097559486e-05,0.0006986159551971443,5.107788737043398e-05,0.0005996720189896537,7.603609317615203e-05,0.0014045161349344791,0.0001284767748435016,0.002162775068544629,0.000446707624569804,0.001228128194538684,0.008884017258218541,0.0005972958578418453,0.00031336653822809055,0.0022416248907830318,0.008759121695037326,0.12320018650387833,0.08986669395094493,0.0200758751274017,0.007256757335800557,0.000560967648005403,0.0005916866076736708,0.0008488917430255756,0.0004429403124490183],\"yaxis\":\"y\",\"type\":\"bar\"}],                        {\"template\":{\"data\":{\"bar\":[{\"error_x\":{\"color\":\"#2a3f5f\"},\"error_y\":{\"color\":\"#2a3f5f\"},\"marker\":{\"line\":{\"color\":\"#E5ECF6\",\"width\":0.5},\"pattern\":{\"fillmode\":\"overlay\",\"size\":10,\"solidity\":0.2}},\"type\":\"bar\"}],\"barpolar\":[{\"marker\":{\"line\":{\"color\":\"#E5ECF6\",\"width\":0.5},\"pattern\":{\"fillmode\":\"overlay\",\"size\":10,\"solidity\":0.2}},\"type\":\"barpolar\"}],\"carpet\":[{\"aaxis\":{\"endlinecolor\":\"#2a3f5f\",\"gridcolor\":\"white\",\"linecolor\":\"white\",\"minorgridcolor\":\"white\",\"startlinecolor\":\"#2a3f5f\"},\"baxis\":{\"endlinecolor\":\"#2a3f5f\",\"gridcolor\":\"white\",\"linecolor\":\"white\",\"minorgridcolor\":\"white\",\"startlinecolor\":\"#2a3f5f\"},\"type\":\"carpet\"}],\"choropleth\":[{\"colorbar\":{\"outlinewidth\":0,\"ticks\":\"\"},\"type\":\"choropleth\"}],\"contour\":[{\"colorbar\":{\"outlinewidth\":0,\"ticks\":\"\"},\"colorscale\":[[0.0,\"#0d0887\"],[0.1111111111111111,\"#46039f\"],[0.2222222222222222,\"#7201a8\"],[0.3333333333333333,\"#9c179e\"],[0.4444444444444444,\"#bd3786\"],[0.5555555555555556,\"#d8576b\"],[0.6666666666666666,\"#ed7953\"],[0.7777777777777778,\"#fb9f3a\"],[0.8888888888888888,\"#fdca26\"],[1.0,\"#f0f921\"]],\"type\":\"contour\"}],\"contourcarpet\":[{\"colorbar\":{\"outlinewidth\":0,\"ticks\":\"\"},\"type\":\"contourcarpet\"}],\"heatmap\":[{\"colorbar\":{\"outlinewidth\":0,\"ticks\":\"\"},\"colorscale\":[[0.0,\"#0d0887\"],[0.1111111111111111,\"#46039f\"],[0.2222222222222222,\"#7201a8\"],[0.3333333333333333,\"#9c179e\"],[0.4444444444444444,\"#bd3786\"],[0.5555555555555556,\"#d8576b\"],[0.6666666666666666,\"#ed7953\"],[0.7777777777777778,\"#fb9f3a\"],[0.8888888888888888,\"#fdca26\"],[1.0,\"#f0f921\"]],\"type\":\"heatmap\"}],\"heatmapgl\":[{\"colorbar\":{\"outlinewidth\":0,\"ticks\":\"\"},\"colorscale\":[[0.0,\"#0d0887\"],[0.1111111111111111,\"#46039f\"],[0.2222222222222222,\"#7201a8\"],[0.3333333333333333,\"#9c179e\"],[0.4444444444444444,\"#bd3786\"],[0.5555555555555556,\"#d8576b\"],[0.6666666666666666,\"#ed7953\"],[0.7777777777777778,\"#fb9f3a\"],[0.8888888888888888,\"#fdca26\"],[1.0,\"#f0f921\"]],\"type\":\"heatmapgl\"}],\"histogram\":[{\"marker\":{\"pattern\":{\"fillmode\":\"overlay\",\"size\":10,\"solidity\":0.2}},\"type\":\"histogram\"}],\"histogram2d\":[{\"colorbar\":{\"outlinewidth\":0,\"ticks\":\"\"},\"colorscale\":[[0.0,\"#0d0887\"],[0.1111111111111111,\"#46039f\"],[0.2222222222222222,\"#7201a8\"],[0.3333333333333333,\"#9c179e\"],[0.4444444444444444,\"#bd3786\"],[0.5555555555555556,\"#d8576b\"],[0.6666666666666666,\"#ed7953\"],[0.7777777777777778,\"#fb9f3a\"],[0.8888888888888888,\"#fdca26\"],[1.0,\"#f0f921\"]],\"type\":\"histogram2d\"}],\"histogram2dcontour\":[{\"colorbar\":{\"outlinewidth\":0,\"ticks\":\"\"},\"colorscale\":[[0.0,\"#0d0887\"],[0.1111111111111111,\"#46039f\"],[0.2222222222222222,\"#7201a8\"],[0.3333333333333333,\"#9c179e\"],[0.4444444444444444,\"#bd3786\"],[0.5555555555555556,\"#d8576b\"],[0.6666666666666666,\"#ed7953\"],[0.7777777777777778,\"#fb9f3a\"],[0.8888888888888888,\"#fdca26\"],[1.0,\"#f0f921\"]],\"type\":\"histogram2dcontour\"}],\"mesh3d\":[{\"colorbar\":{\"outlinewidth\":0,\"ticks\":\"\"},\"type\":\"mesh3d\"}],\"parcoords\":[{\"line\":{\"colorbar\":{\"outlinewidth\":0,\"ticks\":\"\"}},\"type\":\"parcoords\"}],\"pie\":[{\"automargin\":true,\"type\":\"pie\"}],\"scatter\":[{\"marker\":{\"colorbar\":{\"outlinewidth\":0,\"ticks\":\"\"}},\"type\":\"scatter\"}],\"scatter3d\":[{\"line\":{\"colorbar\":{\"outlinewidth\":0,\"ticks\":\"\"}},\"marker\":{\"colorbar\":{\"outlinewidth\":0,\"ticks\":\"\"}},\"type\":\"scatter3d\"}],\"scattercarpet\":[{\"marker\":{\"colorbar\":{\"outlinewidth\":0,\"ticks\":\"\"}},\"type\":\"scattercarpet\"}],\"scattergeo\":[{\"marker\":{\"colorbar\":{\"outlinewidth\":0,\"ticks\":\"\"}},\"type\":\"scattergeo\"}],\"scattergl\":[{\"marker\":{\"colorbar\":{\"outlinewidth\":0,\"ticks\":\"\"}},\"type\":\"scattergl\"}],\"scattermapbox\":[{\"marker\":{\"colorbar\":{\"outlinewidth\":0,\"ticks\":\"\"}},\"type\":\"scattermapbox\"}],\"scatterpolar\":[{\"marker\":{\"colorbar\":{\"outlinewidth\":0,\"ticks\":\"\"}},\"type\":\"scatterpolar\"}],\"scatterpolargl\":[{\"marker\":{\"colorbar\":{\"outlinewidth\":0,\"ticks\":\"\"}},\"type\":\"scatterpolargl\"}],\"scatterternary\":[{\"marker\":{\"colorbar\":{\"outlinewidth\":0,\"ticks\":\"\"}},\"type\":\"scatterternary\"}],\"surface\":[{\"colorbar\":{\"outlinewidth\":0,\"ticks\":\"\"},\"colorscale\":[[0.0,\"#0d0887\"],[0.1111111111111111,\"#46039f\"],[0.2222222222222222,\"#7201a8\"],[0.3333333333333333,\"#9c179e\"],[0.4444444444444444,\"#bd3786\"],[0.5555555555555556,\"#d8576b\"],[0.6666666666666666,\"#ed7953\"],[0.7777777777777778,\"#fb9f3a\"],[0.8888888888888888,\"#fdca26\"],[1.0,\"#f0f921\"]],\"type\":\"surface\"}],\"table\":[{\"cells\":{\"fill\":{\"color\":\"#EBF0F8\"},\"line\":{\"color\":\"white\"}},\"header\":{\"fill\":{\"color\":\"#C8D4E3\"},\"line\":{\"color\":\"white\"}},\"type\":\"table\"}]},\"layout\":{\"annotationdefaults\":{\"arrowcolor\":\"#2a3f5f\",\"arrowhead\":0,\"arrowwidth\":1},\"autotypenumbers\":\"strict\",\"coloraxis\":{\"colorbar\":{\"outlinewidth\":0,\"ticks\":\"\"}},\"colorscale\":{\"diverging\":[[0,\"#8e0152\"],[0.1,\"#c51b7d\"],[0.2,\"#de77ae\"],[0.3,\"#f1b6da\"],[0.4,\"#fde0ef\"],[0.5,\"#f7f7f7\"],[0.6,\"#e6f5d0\"],[0.7,\"#b8e186\"],[0.8,\"#7fbc41\"],[0.9,\"#4d9221\"],[1,\"#276419\"]],\"sequential\":[[0.0,\"#0d0887\"],[0.1111111111111111,\"#46039f\"],[0.2222222222222222,\"#7201a8\"],[0.3333333333333333,\"#9c179e\"],[0.4444444444444444,\"#bd3786\"],[0.5555555555555556,\"#d8576b\"],[0.6666666666666666,\"#ed7953\"],[0.7777777777777778,\"#fb9f3a\"],[0.8888888888888888,\"#fdca26\"],[1.0,\"#f0f921\"]],\"sequentialminus\":[[0.0,\"#0d0887\"],[0.1111111111111111,\"#46039f\"],[0.2222222222222222,\"#7201a8\"],[0.3333333333333333,\"#9c179e\"],[0.4444444444444444,\"#bd3786\"],[0.5555555555555556,\"#d8576b\"],[0.6666666666666666,\"#ed7953\"],[0.7777777777777778,\"#fb9f3a\"],[0.8888888888888888,\"#fdca26\"],[1.0,\"#f0f921\"]]},\"colorway\":[\"#636efa\",\"#EF553B\",\"#00cc96\",\"#ab63fa\",\"#FFA15A\",\"#19d3f3\",\"#FF6692\",\"#B6E880\",\"#FF97FF\",\"#FECB52\"],\"font\":{\"color\":\"#2a3f5f\"},\"geo\":{\"bgcolor\":\"white\",\"lakecolor\":\"white\",\"landcolor\":\"#E5ECF6\",\"showlakes\":true,\"showland\":true,\"subunitcolor\":\"white\"},\"hoverlabel\":{\"align\":\"left\"},\"hovermode\":\"closest\",\"mapbox\":{\"style\":\"light\"},\"paper_bgcolor\":\"white\",\"plot_bgcolor\":\"#E5ECF6\",\"polar\":{\"angularaxis\":{\"gridcolor\":\"white\",\"linecolor\":\"white\",\"ticks\":\"\"},\"bgcolor\":\"#E5ECF6\",\"radialaxis\":{\"gridcolor\":\"white\",\"linecolor\":\"white\",\"ticks\":\"\"}},\"scene\":{\"xaxis\":{\"backgroundcolor\":\"#E5ECF6\",\"gridcolor\":\"white\",\"gridwidth\":2,\"linecolor\":\"white\",\"showbackground\":true,\"ticks\":\"\",\"zerolinecolor\":\"white\"},\"yaxis\":{\"backgroundcolor\":\"#E5ECF6\",\"gridcolor\":\"white\",\"gridwidth\":2,\"linecolor\":\"white\",\"showbackground\":true,\"ticks\":\"\",\"zerolinecolor\":\"white\"},\"zaxis\":{\"backgroundcolor\":\"#E5ECF6\",\"gridcolor\":\"white\",\"gridwidth\":2,\"linecolor\":\"white\",\"showbackground\":true,\"ticks\":\"\",\"zerolinecolor\":\"white\"}},\"shapedefaults\":{\"line\":{\"color\":\"#2a3f5f\"}},\"ternary\":{\"aaxis\":{\"gridcolor\":\"white\",\"linecolor\":\"white\",\"ticks\":\"\"},\"baxis\":{\"gridcolor\":\"white\",\"linecolor\":\"white\",\"ticks\":\"\"},\"bgcolor\":\"#E5ECF6\",\"caxis\":{\"gridcolor\":\"white\",\"linecolor\":\"white\",\"ticks\":\"\"}},\"title\":{\"x\":0.05},\"xaxis\":{\"automargin\":true,\"gridcolor\":\"white\",\"linecolor\":\"white\",\"ticks\":\"\",\"title\":{\"standoff\":15},\"zerolinecolor\":\"white\",\"zerolinewidth\":2},\"yaxis\":{\"automargin\":true,\"gridcolor\":\"white\",\"linecolor\":\"white\",\"ticks\":\"\",\"title\":{\"standoff\":15},\"zerolinecolor\":\"white\",\"zerolinewidth\":2}}},\"xaxis\":{\"anchor\":\"y\",\"domain\":[0.0,1.0],\"title\":{\"text\":\"index\"}},\"yaxis\":{\"anchor\":\"x\",\"domain\":[0.0,1.0],\"title\":{\"text\":\"value\"}},\"legend\":{\"title\":{\"text\":\"variable\"},\"tracegroupgap\":0},\"title\":{\"text\":\"Importance of each Attribute to Human Development Index\"},\"barmode\":\"relative\"},                        {\"responsive\": true}                    ).then(function(){\n",
       "                            \n",
       "var gd = document.getElementById('ed3418df-bbab-417d-87d5-71fac557a747');\n",
       "var x = new MutationObserver(function (mutations, observer) {{\n",
       "        var display = window.getComputedStyle(gd).display;\n",
       "        if (!display || display === 'none') {{\n",
       "            console.log([gd, 'removed!']);\n",
       "            Plotly.purge(gd);\n",
       "            observer.disconnect();\n",
       "        }}\n",
       "}});\n",
       "\n",
       "// Listen for the removal of the full notebook cells\n",
       "var notebookContainer = gd.closest('#notebook-container');\n",
       "if (notebookContainer) {{\n",
       "    x.observe(notebookContainer, {childList: true});\n",
       "}}\n",
       "\n",
       "// Listen for the clearing of the current output cell\n",
       "var outputEl = gd.closest('.output');\n",
       "if (outputEl) {{\n",
       "    x.observe(outputEl, {childList: true});\n",
       "}}\n",
       "\n",
       "                        })                };                });            </script>        </div>"
      ]
     },
     "metadata": {},
     "output_type": "display_data"
    }
   ],
   "source": [
    "X = pd.concat([df.iloc[:, 1:-9],df.iloc[:, -8:]], axis=1)\n",
    "y = df['hdi']\n",
    "model = ExtraTreesRegressor()\n",
    "model.fit(X,y)\n",
    "# print(model.feature_importances_)\n",
    "feat_importances = pd.Series(model.feature_importances_, index=X.columns)\n",
    "fig = feat_importances.plot.bar(title=\"Importance of each Attribute to Human Development Index\")\n",
    "fig.show()"
   ]
  },
  {
   "cell_type": "markdown",
   "metadata": {},
   "source": [
    "Given the above graph, we can see that most of our features don't correlate to HDI. Therefore, to make sure our features are important, let's use the features that have an importance greater than 0.005. The list of these features is below."
   ]
  },
  {
   "cell_type": "code",
   "execution_count": 293,
   "metadata": {},
   "outputs": [
    {
     "data": {
      "text/plain": [
       "Age dependency ratio, young                                              0.032482\n",
       "GNI per capita, Atlas method (current US$)                               0.019407\n",
       "Human capital index (HCI) (scale 0-1)                                    0.033056\n",
       "Human capital index (HCI), lower bound (scale 0-1)                       0.040632\n",
       "Human capital index (HCI), upper bound (scale 0-1)                       0.021149\n",
       "People using at least basic drinking water services (% of population)    0.006390\n",
       "People using at least basic sanitation services (% of population)        0.019040\n",
       "Population ages 00-04, female (% of female population)                   0.011519\n",
       "Population ages 00-04, male (% of male population)                       0.017292\n",
       "Population ages 0-14 (% of total population)                             0.036322\n",
       "Population ages 0-14, female (% of female population)                    0.017526\n",
       "Population ages 0-14, male (% of male population)                        0.020959\n",
       "Population ages 05-09, male (% of male population)                       0.007227\n",
       "Population ages 10-14, female (% of female population)                   0.052494\n",
       "Population ages 10-14, male (% of male population)                       0.109631\n",
       "Population ages 15-19, female (% of female population)                   0.069172\n",
       "Population ages 15-19, male (% of male population)                       0.050770\n",
       "Population ages 20-24, female (% of female population)                   0.037510\n",
       "Population ages 20-24, male (% of male population)                       0.008299\n",
       "Population ages 45-49, male (% of male population)                       0.014339\n",
       "Population ages 50-54, male (% of male population)                       0.024279\n",
       "Population ages 55-59, male (% of male population)                       0.006252\n",
       "Tuberculosis death rate (per 100,000 people)                             0.008884\n",
       "Urban population growth (annual %)                                       0.008759\n",
       "transformed_High income                                                  0.123200\n",
       "transformed_Low income                                                   0.089867\n",
       "transformed_Lower middle income                                          0.020076\n",
       "transformed_Upper middle income                                          0.007257\n",
       "dtype: float64"
      ]
     },
     "execution_count": 293,
     "metadata": {},
     "output_type": "execute_result"
    }
   ],
   "source": [
    "feat_importances[feat_importances > 0.005]"
   ]
  },
  {
   "cell_type": "code",
   "execution_count": 300,
   "metadata": {},
   "outputs": [],
   "source": [
    "df[['Country Name'] + feat_importances[feat_importances > 0.005].keys().tolist() + ['hdi']].set_index('Country Name').to_csv('final_training_data.csv')"
   ]
  }
 ],
 "metadata": {
  "kernelspec": {
   "display_name": "Python 3",
   "language": "python",
   "name": "python3"
  },
  "language_info": {
   "codemirror_mode": {
    "name": "ipython",
    "version": 3
   },
   "file_extension": ".py",
   "mimetype": "text/x-python",
   "name": "python",
   "nbconvert_exporter": "python",
   "pygments_lexer": "ipython3",
   "version": "3.8.4"
  }
 },
 "nbformat": 4,
 "nbformat_minor": 4
}
