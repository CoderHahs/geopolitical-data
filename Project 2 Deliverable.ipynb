{
 "cells": [
  {
   "cell_type": "code",
   "execution_count": 106,
   "metadata": {},
   "outputs": [],
   "source": [
    "import pandas as pd\n",
    "import numpy as np"
   ]
  },
  {
   "cell_type": "code",
   "execution_count": 3,
   "metadata": {},
   "outputs": [],
   "source": [
    "hnp = pd.read_csv('./extracted/hnp_stats_csv/HNP_StatsData.csv')\n",
    "nd = pd.read_csv('./extracted/natural_disasters/EMDAT_1900-2021_NatDis.csv')\n",
    "pe = pd.read_csv('./extracted/gdelt/gdelt_conflict_1_0.csv')\n",
    "hnps = pd.read_csv('./extracted/hnp_stats_csv/HNP_StatsSeries.csv')\n",
    "hnpc = pd.read_csv('./extracted/hnp_stats_csv/HNP_StatsCountry.csv')"
   ]
  },
  {
   "cell_type": "markdown",
   "metadata": {},
   "source": [
    "Developed:\n",
    "- Canada ( NA ) \n",
    "- US ( NA ) \n",
    "- Mexico ( NA ) \n",
    "\n",
    "Developing:\n",
    "- India (south asia) \n",
    "- Morocco ( Middle East & North Africa) \n",
    "- Kenya (Sub-Saharan Africa) \n",
    "\n",
    "Underdeveloped:\n",
    "- Chad (Sub-Saharan Africa) \n",
    "- Yemen (Middle East & North Africa) \n",
    "- DR Congo (Sub-Saharan Africa)"
   ]
  },
  {
   "cell_type": "code",
   "execution_count": 96,
   "metadata": {
    "scrolled": true
   },
   "outputs": [],
   "source": [
    "hnp_agg = hnp[(hnp['Country Name'] == 'Canada') | (hnp['Country Name'] == 'United States') | (hnp['Country Name'] == 'Mexico')\n",
    "    | (hnp['Country Name'] == 'India') | (hnp['Country Name'] == 'Morocco') | (hnp['Country Name'] == 'Kenya')\n",
    "    | (hnp['Country Name'] == 'Chad') | (hnp['Country Name'] == 'Yemen, Rep.') | (hnp['Country Name'] == 'Congo, Dem. Rep.')]\n",
    "edu_att = hnps[hnps['Topic'] == 'Background: Education']['Indicator Name'].unique()"
   ]
  },
  {
   "cell_type": "markdown",
   "metadata": {},
   "source": [
    "## Country Dimension"
   ]
  },
  {
   "cell_type": "code",
   "execution_count": 132,
   "metadata": {},
   "outputs": [],
   "source": [
    "# countries = hnp_agg['Country Code'].unique()\n",
    "# country_dimension = hnpc[hnpc['Country Code'].isin(countries)][['Country Code', 'Table Name', 'Long Name', 'Region', 'Currency Unit', 'Income Group', 'System of trade', 'Government Accounting concept', 'Lending category']]\n",
    "# country_dimension['Continent'] = ['North America', 'Africa', 'Asia', 'Africa', 'Africa', 'North America', 'Africa', 'North America', 'Africa']\n",
    "# country_dimension['Capital'] = ['Ottawa', 'Kinshasa', 'New Delhi', 'Nairobi', 'Rabat', 'Mexico City', 'N\\'Djamena', 'Washington, D.C.', 'Sana\\'a']\n",
    "# pop = []\n",
    "# for country in countries:\n",
    "#     male = hnp_agg[(hnp_agg['Indicator Name'].str.contains('Population, male')) & (hnp_agg['Country Code'] == country)]['2020'].values[0]\n",
    "#     female = hnp_agg[(hnp_agg['Indicator Name'].str.contains('Population, female')) & (hnp_agg['Country Code'] == country)]['2020'].values[0]\n",
    "#     pop.append(male+female)\n",
    "# country_dimension['Total Population'] = pop\n",
    "# country_dimension = country_dimension.rename(columns={'Country Code': 'CountryKey'}).set_index('CountryKey')\n",
    "# country_dimension.to_csv('Country_Dimension.csv')"
   ]
  },
  {
   "cell_type": "markdown",
   "metadata": {},
   "source": [
    "## Month Dimension"
   ]
  },
  {
   "cell_type": "code",
   "execution_count": 156,
   "metadata": {},
   "outputs": [],
   "source": [
    "# decade = []\n",
    "# years = []\n",
    "# quarter = []\n",
    "# months = []\n",
    "# for year in range(2005, 2021):\n",
    "#     for month in ['January', 'February', 'March', 'April', 'May', 'June',\n",
    "#                  'July', 'August', 'September', 'October', 'November', 'December']:\n",
    "#         months.append(month)\n",
    "#         years.append(year)\n",
    "#         if year < 2011:\n",
    "#             decade.append('2000s')\n",
    "#         else:\n",
    "#             decade.append('2010s')\n",
    "#         if month in ['January', 'February', 'March']:\n",
    "#             quarter.append(1)\n",
    "#         elif month in ['April', 'May', 'June']:\n",
    "#             quarter.append(2)\n",
    "#         elif month in ['July', 'August', 'September']:\n",
    "#             quarter.append(3)\n",
    "#         elif month in ['October', 'November', 'December']:\n",
    "#             quarter.append(4)\n",
    "            \n",
    "# month_dimension = pd.DataFrame([months, quarter, years, decade])\n",
    "# month_dimension = month_dimension.transpose()\n",
    "# month_dimension.columns = ['Month', 'Quarter', 'Year', 'Decade']\n",
    "# month_dimension = month_dimension.rename_axis('MonthKey')\n",
    "# month_dimension.to_csv('Month_Dimension.csv')\n",
    "\n",
    "# month_dimension = pd.read_csv('Month_Dimension.csv')"
   ]
  },
  {
   "cell_type": "markdown",
   "metadata": {},
   "source": [
    "## Education Dimension"
   ]
  },
  {
   "cell_type": "code",
   "execution_count": 128,
   "metadata": {},
   "outputs": [],
   "source": [
    "# data = []\n",
    "# for country in countries:\n",
    "#     for indicator in edu_att:\n",
    "#         for year in range(2005, 2021):\n",
    "#             ind = hnp_agg[(hnp_agg['Country Code'] == country) & (hnp_agg['Indicator Name'] == indicator)][str(year)].values\n",
    "#             if (ind.size == 0):\n",
    "#                 ind = None\n",
    "#             else:\n",
    "#                 ind = ind[0]\n",
    "#             data.append([country, indicator, year, ind])\n",
    "            \n",
    "# edu_dimension = pd.DataFrame(data, columns=['CountryKey', 'Indicator Name', 'Year', 'Indicator Value'])\n",
    "# edu_dimension['Month'] = 'December'\n",
    "# edu_dimension = edu_dimension.merge(month_dimension)[['CountryKey', 'MonthKey', 'Indicator Name', 'Indicator Value']].rename_axis('EducationKey')\n",
    "# edu_dimension.to_csv('Education_Dimension.csv')"
   ]
  },
  {
   "cell_type": "markdown",
   "metadata": {},
   "source": [
    "## Health Dimension"
   ]
  },
  {
   "cell_type": "code",
   "execution_count": 159,
   "metadata": {},
   "outputs": [],
   "source": [
    "# health_att = hnps[hnps['Topic'].isin(['Non-communicable diseases', 'Nutrition', 'HIV/AIDS', 'Infectious diseases', 'Immunization', 'Reproductive health'])][['Topic','Indicator Name']].drop_duplicates()\n",
    "\n",
    "# data = []\n",
    "\n",
    "# for country in countries:\n",
    "#     for row in health_att.iterrows():\n",
    "#         for year in range(2005, 2021):\n",
    "#             topic = row[1]['Topic']\n",
    "#             indicator = row[1]['Indicator Name']\n",
    "#             ind = hnp_agg[(hnp_agg['Country Code'] == country) & (hnp_agg['Indicator Name'] == indicator)][str(year)].values\n",
    "#             if (ind.size == 0):\n",
    "#                 ind = None\n",
    "#             else:\n",
    "#                 ind = ind[0]\n",
    "#             data.append([country, topic, indicator, 'December', year, ind])\n",
    "\n",
    "# health_dimension = pd.DataFrame(data, columns = ['CountryKey', 'Topic', 'Indicator Name', 'Month', 'Year', 'Indicator Value'])\n",
    "# health_dimension = health_dimension.merge(month_dimension)[['CountryKey', 'MonthKey', 'Topic', 'Indicator Name', 'Indicator Value']].rename_axis('HealthKey')\n",
    "# health_dimension.to_csv('Health_Dimension.csv')"
   ]
  },
  {
   "cell_type": "markdown",
   "metadata": {},
   "source": [
    "## Quality of Life Dimension"
   ]
  },
  {
   "cell_type": "code",
   "execution_count": 169,
   "metadata": {},
   "outputs": [],
   "source": [
    "# qol_att = hnps[hnps['Topic'].isin(['Background', 'Cause of deaths', 'Water and sanitation', 'Medical resources and usage', 'Health financing', 'Background: Poverty', 'Background: Economy', 'Background: Labor force'])][['Topic','Indicator Name']].drop_duplicates()\n",
    "\n",
    "# data = []\n",
    "\n",
    "# for country in countries:\n",
    "#     for row in qol_att.iterrows():\n",
    "#         for year in range(2005, 2021):\n",
    "#             topic = row[1]['Topic']\n",
    "#             indicator = row[1]['Indicator Name']\n",
    "#             ind = hnp_agg[(hnp_agg['Country Code'] == country) & (hnp_agg['Indicator Name'] == indicator)][str(year)].values\n",
    "#             if (ind.size == 0):\n",
    "#                 ind = None\n",
    "#             else:\n",
    "#                 ind = ind[0]\n",
    "#             data.append([country, topic, indicator, 'December', year, ind])\n",
    "\n",
    "# qol_dimension = pd.DataFrame(data, columns = ['CountryKey', 'Topic', 'Indicator Name', 'Month', 'Year', 'Indicator Value'])\n",
    "# qol_dimension = qol_dimension.merge(month_dimension)[['CountryKey', 'MonthKey', 'Topic', 'Indicator Name', 'Indicator Value']].rename_axis('QualityofLifeKey')\n",
    "# qol_dimension.to_csv('QualityofLife_Dimension.csv')"
   ]
  },
  {
   "cell_type": "markdown",
   "metadata": {},
   "source": [
    "## Population Dimension"
   ]
  },
  {
   "cell_type": "code",
   "execution_count": 171,
   "metadata": {},
   "outputs": [],
   "source": [
    "# pop_att = hnps[hnps['Topic'].isin(['Population dynamics: Other demographic indicators', 'Population dynamics: Other demographic Indicators', 'Population dynamics', 'Population dynamics: Population by age group', 'Population dynamics: Population'])][['Topic','Indicator Name']].drop_duplicates()\n",
    "\n",
    "# # data = []\n",
    "\n",
    "# for country in countries:\n",
    "#     for row in pop_att.iterrows():\n",
    "#         for year in range(2005, 2021):\n",
    "#             topic = row[1]['Topic']\n",
    "#             if topic == 'Population dynamics: Other demographic Indicators':\n",
    "#                 topic = 'Population dynamics: Other demographic indicators'\n",
    "#             indicator = row[1]['Indicator Name']\n",
    "#             ind = hnp_agg[(hnp_agg['Country Code'] == country) & (hnp_agg['Indicator Name'] == indicator)][str(year)].values\n",
    "#             if (ind.size == 0):\n",
    "#                 ind = None\n",
    "#             else:\n",
    "#                 ind = ind[0]\n",
    "#             data.append([country, topic, indicator, 'December', year, ind])\n",
    "\n",
    "# pop_dimension = pd.DataFrame(data, columns = ['CountryKey', 'Topic', 'Indicator Name', 'Month', 'Year', 'Indicator Value'])\n",
    "# pop_dimension = pop_dimension.merge(month_dimension)[['CountryKey', 'MonthKey', 'Topic', 'Indicator Name', 'Indicator Value']].rename_axis('PopulationKey')\n",
    "# pop_dimension.to_csv('Population_Dimension.csv')"
   ]
  },
  {
   "cell_type": "markdown",
   "metadata": {},
   "source": [
    "## Event Dimension"
   ]
  },
  {
   "cell_type": "code",
   "execution_count": null,
   "metadata": {},
   "outputs": [],
   "source": []
  }
 ],
 "metadata": {
  "kernelspec": {
   "display_name": "Python 3",
   "language": "python",
   "name": "python3"
  },
  "language_info": {
   "codemirror_mode": {
    "name": "ipython",
    "version": 3
   },
   "file_extension": ".py",
   "mimetype": "text/x-python",
   "name": "python",
   "nbconvert_exporter": "python",
   "pygments_lexer": "ipython3",
   "version": "3.8.4"
  }
 },
 "nbformat": 4,
 "nbformat_minor": 4
}
